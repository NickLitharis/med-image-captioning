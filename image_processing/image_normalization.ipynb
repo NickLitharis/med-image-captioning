{
 "cells": [
  {
   "cell_type": "markdown",
   "metadata": {},
   "source": [
    "## Normalizing image values"
   ]
  },
  {
   "cell_type": "code",
   "execution_count": 9,
   "metadata": {},
   "outputs": [],
   "source": [
    "import os\n",
    "import cv2"
   ]
  },
  {
   "cell_type": "code",
   "execution_count": 10,
   "metadata": {},
   "outputs": [],
   "source": [
    "def normalize_image():\n",
    "    path = \"D:\\\\med-image-captioning\\\\grayscale_images\\\\\"\n",
    "    new_path = 'D:\\\\med-image-captioning\\\\normalized_images\\\\'\n",
    "\n",
    "    if not os.path.exists(new_path):\n",
    "        os.makedirs(new_path)\n",
    "\n",
    "    images = os.listdir(path)\n",
    "    for image in images:\n",
    "        image_path = os.path.join(path, image)\n",
    "        img = cv2.imread(image_path, cv2.IMREAD_GRAYSCALE)  # Ensure image is read in grayscale mode\n",
    "\n",
    "        if img is not None:\n",
    "            # Normalize the grayscale image\n",
    "            normalized_img = cv2.normalize(img, None, alpha=0, beta=1, norm_type=cv2.NORM_MINMAX, dtype=cv2.CV_32F)\n",
    "\n",
    "            # Construct the path for the new image\n",
    "            new_image_path = os.path.join(new_path, image)\n",
    "\n",
    "            # Save the normalized image\n",
    "            # Rescale back to 0-255 range for saving as an image file\n",
    "            cv2.imwrite(new_image_path, normalized_img * 255)\n",
    "        else:\n",
    "            print(f\"Could not read the image: {image}\")\n"
   ]
  },
  {
   "cell_type": "code",
   "execution_count": 11,
   "metadata": {},
   "outputs": [],
   "source": [
    "normalize_image()"
   ]
  }
 ],
 "metadata": {
  "kernelspec": {
   "display_name": "Python 3",
   "language": "python",
   "name": "python3"
  },
  "language_info": {
   "codemirror_mode": {
    "name": "ipython",
    "version": 3
   },
   "file_extension": ".py",
   "mimetype": "text/x-python",
   "name": "python",
   "nbconvert_exporter": "python",
   "pygments_lexer": "ipython3",
   "version": "3.12.0"
  }
 },
 "nbformat": 4,
 "nbformat_minor": 2
}

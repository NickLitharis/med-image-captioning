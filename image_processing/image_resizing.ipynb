{
 "cells": [
  {
   "cell_type": "markdown",
   "metadata": {},
   "source": [
    "# Image Standardization"
   ]
  },
  {
   "cell_type": "markdown",
   "metadata": {},
   "source": [
    "## Image Size Standardization"
   ]
  },
  {
   "cell_type": "code",
   "execution_count": 1,
   "metadata": {},
   "outputs": [],
   "source": [
    "# write code to resize all images into 256x256\n",
    "# and save them into a new folder\n",
    "\n",
    "import os\n",
    "import cv2\n",
    "\n"
   ]
  },
  {
   "cell_type": "code",
   "execution_count": 2,
   "metadata": {},
   "outputs": [
    {
     "name": "stdout",
     "output_type": "stream",
     "text": [
      "File permissions for C:\\Users\\Νίκος Λιθαρής\\OneDrive - ionio.gr\\Desktop\\med-image-captioning\\images\\00bca1a68e08189c05cd2a1d0d6e23832303b475_2-Figure1-1.png changed to 777.\n"
     ]
    }
   ],
   "source": [
    "\n",
    "\n",
    "def change_file_permissions(file_path, new_permissions):\n",
    "    if os.path.exists(file_path):\n",
    "        os.chmod(file_path, int(new_permissions, 8))\n",
    "        print(f\"File permissions for {file_path} changed to {new_permissions}.\")\n",
    "    else:\n",
    "        print(f\"The file {file_path} does not exist.\")\n",
    "\n",
    "# Example usage to change permissions to 644\n",
    "image_path = r\"C:\\Users\\Νίκος Λιθαρής\\OneDrive - ionio.gr\\Desktop\\med-image-captioning\\images\\00bca1a68e08189c05cd2a1d0d6e23832303b475_2-Figure1-1.png\"\n",
    "change_file_permissions(image_path, \"777\")"
   ]
  },
  {
   "cell_type": "code",
   "execution_count": 3,
   "metadata": {},
   "outputs": [],
   "source": [
    "\n",
    "\n",
    "def resize_images():\n",
    "    path = r\"C:\\Users\\Νίκος Λιθαρής\\OneDrive - ionio.gr\\Desktop\\med-image-captioning\\images\\00bca1a68e08189c05cd2a1d0d6e23832303b475_2-Figure1-1.png\"\n",
    "    new_path = 'C:\\\\Users\\\\Νίκος Λιθαρής\\\\OneDrive - ionio.gr\\\\Desktop\\\\med-image-captioning\\\\resized_images\\\\'\n",
    "\n",
    "    # if not os.path.exists(new_path):\n",
    "    #     os.makedirs(new_path)\n",
    "\n",
    "    # images = os.listdir(path)\n",
    "    # for image in images:\n",
    "    # image_path = os.path.join(path, image)\n",
    "    img = cv2.imread(path)\n",
    "    print(img)\n",
    "\n",
    "    if img is not None:\n",
    "            img = cv2.resize(img, (256, 256))\n",
    "            new_image_path = os.path.join(new_path, img)\n",
    "            cv2.imwrite(new_image_path, img)\n",
    "    else:\n",
    "            print(f\"Could not read the image: {img}\")\n",
    "\n",
    "\n"
   ]
  },
  {
   "cell_type": "code",
   "execution_count": 4,
   "metadata": {},
   "outputs": [
    {
     "name": "stdout",
     "output_type": "stream",
     "text": [
      "None\n",
      "Could not read the image: None\n"
     ]
    }
   ],
   "source": [
    "resize_images()"
   ]
  }
 ],
 "metadata": {
  "kernelspec": {
   "display_name": "Python 3",
   "language": "python",
   "name": "python3"
  },
  "language_info": {
   "codemirror_mode": {
    "name": "ipython",
    "version": 3
   },
   "file_extension": ".py",
   "mimetype": "text/x-python",
   "name": "python",
   "nbconvert_exporter": "python",
   "pygments_lexer": "ipython3",
   "version": "3.12.0"
  }
 },
 "nbformat": 4,
 "nbformat_minor": 2
}

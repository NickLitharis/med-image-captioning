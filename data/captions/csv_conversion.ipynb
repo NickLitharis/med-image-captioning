{
 "cells": [
  {
   "cell_type": "code",
   "execution_count": 1,
   "metadata": {},
   "outputs": [
    {
     "name": "stderr",
     "output_type": "stream",
     "text": [
      "C:\\Users\\Νίκος Λιθαρής\\AppData\\Local\\Temp\\ipykernel_1656\\4080736814.py:1: DeprecationWarning: \n",
      "Pyarrow will become a required dependency of pandas in the next major release of pandas (pandas 3.0),\n",
      "(to allow more performant data types, such as the Arrow string type, and better interoperability with other libraries)\n",
      "but was not found to be installed on your system.\n",
      "If this would cause problems for you,\n",
      "please provide us feedback at https://github.com/pandas-dev/pandas/issues/54466\n",
      "        \n",
      "  import pandas as pd\n"
     ]
    }
   ],
   "source": [
    "import pandas as pd"
   ]
  },
  {
   "cell_type": "code",
   "execution_count": 2,
   "metadata": {},
   "outputs": [
    {
     "name": "stdout",
     "output_type": "stream",
     "text": [
      "                                           image_uri  \\\n",
      "0  780d51420ad492a61d00295adb6919bd492e6bd3_8-Fig...   \n",
      "1  4fd909ba5e5ee6d90fae6967acd2f54cc9f8b4bf_4-Fig...   \n",
      "2  2b67d96df5488d5c3320f1626ba098c1b10b5a17_1-Fig...   \n",
      "3  11357dcc40909413166afbddffe7b6b2f2e3309b_8-Fig...   \n",
      "4  ba5b8e81fb34a0c30922cdcc04f7bef567330e39_2-Fig...   \n",
      "\n",
      "                                          s2_caption  \n",
      "0  uld ct false negative example 47yo male with 1...  \n",
      "1  pkgii reversesapoptosisreducing effect of egf ...  \n",
      "2  erect posteroanterior chest radiograph showing...  \n",
      "3  48yearold patient with idc inleft breastearly ...  \n",
      "4  125isct binding assayandlight photomicrographs...  \n"
     ]
    }
   ],
   "source": [
    "df=pd.read_csv(r'D:\\med-image-captioning\\captions\\image_uri_and_captions_100_cleaned.csv')\n",
    "\n",
    "df1=df[['s2_caption']]\n",
    "\n",
    "df2=df[['image_uri']]\n",
    "\n",
    "new_df=pd.concat([df2,df1],axis=1)\n",
    "\n",
    "print(new_df.head())\n"
   ]
  },
  {
   "cell_type": "code",
   "execution_count": 3,
   "metadata": {},
   "outputs": [],
   "source": [
    "# convert the dataframe to txt file\n",
    "new_df.to_csv(r'D:\\med-image-captioning\\captions\\image_uri_and_captions_100_cleaned.txt', header=None, index=None, sep=',', mode='a')\n"
   ]
  },
  {
   "cell_type": "code",
   "execution_count": null,
   "metadata": {},
   "outputs": [],
   "source": []
  }
 ],
 "metadata": {
  "kernelspec": {
   "display_name": "Python 3",
   "language": "python",
   "name": "python3"
  },
  "language_info": {
   "codemirror_mode": {
    "name": "ipython",
    "version": 3
   },
   "file_extension": ".py",
   "mimetype": "text/x-python",
   "name": "python",
   "nbconvert_exporter": "python",
   "pygments_lexer": "ipython3",
   "version": "3.11.7"
  }
 },
 "nbformat": 4,
 "nbformat_minor": 2
}

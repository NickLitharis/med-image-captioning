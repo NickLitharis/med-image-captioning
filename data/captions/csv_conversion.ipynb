{
 "cells": [
  {
   "cell_type": "code",
   "execution_count": 16,
   "metadata": {},
   "outputs": [],
   "source": [
    "import pandas as pd"
   ]
  },
  {
   "cell_type": "code",
   "execution_count": 17,
   "metadata": {},
   "outputs": [
    {
     "name": "stdout",
     "output_type": "stream",
     "text": [
      "                                            image_id  \\\n",
      "0  8568d3eee073bcc03a4e5b5d79b9b4a359ed83a0_3-Fig...   \n",
      "1  42312d108fe75d681a3a26bb29148cb195126a87_4-Fig...   \n",
      "2  42ffe66e9a3a3eb53aca25fa193d6b1829de3884_2-Fig...   \n",
      "3  9ac485f9982cb70005d8f2c6d2e51d7f5ab2fa69_4-Fig...   \n",
      "4  c3c50f87bd4f7d316868a0da9b5a31d7f7783afe_2-Fig...   \n",
      "\n",
      "                                             caption  \n",
      "0  computed tomography scans obtained and before ...  \n",
      "1  multispectral optoacoustic tomography msot ima...  \n",
      "2                    endoscopy picture pre treatment  \n",
      "3  case lateral radiography and computed tomograp...  \n",
      "4  tl weighted images of abdominal magnetic reson...  \n"
     ]
    }
   ],
   "source": [
    "df=pd.read_csv(r'D:\\med-image-captioning\\data\\csv\\dataset_20_random_samples.csv')\n",
    "\n",
    "df1=df[['image_id']]\n",
    "\n",
    "df2=df[['caption']]\n",
    "\n",
    "new_df=pd.concat([df1,df2],axis=1)\n",
    "\n",
    "print(new_df.head())\n"
   ]
  },
  {
   "cell_type": "code",
   "execution_count": 18,
   "metadata": {},
   "outputs": [
    {
     "name": "stdout",
     "output_type": "stream",
     "text": [
      "0    8568d3eee073bcc03a4e5b5d79b9b4a359ed83a0_3-Fig...\n",
      "1    42312d108fe75d681a3a26bb29148cb195126a87_4-Fig...\n",
      "2    42ffe66e9a3a3eb53aca25fa193d6b1829de3884_2-Fig...\n",
      "3    9ac485f9982cb70005d8f2c6d2e51d7f5ab2fa69_4-Fig...\n",
      "4    c3c50f87bd4f7d316868a0da9b5a31d7f7783afe_2-Fig...\n",
      "Name: image_id, dtype: object\n"
     ]
    }
   ],
   "source": [
    "print(new_df['image_id'].head())"
   ]
  },
  {
   "cell_type": "code",
   "execution_count": 19,
   "metadata": {},
   "outputs": [],
   "source": [
    "# convert the dataframe to txt file\n",
    "new_df.to_csv(r'D:\\med-image-captioning\\data\\captions\\random_sample.txt', header=None, index=None, sep=',', mode='a')\n"
   ]
  },
  {
   "cell_type": "code",
   "execution_count": null,
   "metadata": {},
   "outputs": [],
   "source": []
  }
 ],
 "metadata": {
  "kernelspec": {
   "display_name": "Python 3",
   "language": "python",
   "name": "python3"
  },
  "language_info": {
   "codemirror_mode": {
    "name": "ipython",
    "version": 3
   },
   "file_extension": ".py",
   "mimetype": "text/x-python",
   "name": "python",
   "nbconvert_exporter": "python",
   "pygments_lexer": "ipython3",
   "version": "3.11.7"
  }
 },
 "nbformat": 4,
 "nbformat_minor": 2
}

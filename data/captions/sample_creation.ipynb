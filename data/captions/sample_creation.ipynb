{
 "cells": [
  {
   "cell_type": "code",
   "execution_count": 1,
   "metadata": {},
   "outputs": [],
   "source": [
    "# read a csv file\n",
    "import pandas as pd"
   ]
  },
  {
   "cell_type": "code",
   "execution_count": 2,
   "metadata": {},
   "outputs": [],
   "source": [
    "# read the csv file\n",
    "df = pd.read_csv(r'/home/marocos/thesis/med-image-captioning/data/csv/dataset_20.csv')\n"
   ]
  },
  {
   "cell_type": "code",
   "execution_count": 3,
   "metadata": {},
   "outputs": [
    {
     "name": "stdout",
     "output_type": "stream",
     "text": [
      "   Unnamed: 0                                           image_id  \\\n",
      "0           0  26491ab76c6e8d6acc582e71bb6b3b5f5601ccc2_3-Fig...   \n",
      "1           1  57c9ad0f4aab133f96d40992c46926fabc901ffa_2-Fig...   \n",
      "2           3  57c9ad0f4aab133f96d40992c46926fabc901ffa_2-Fig...   \n",
      "3           5  b362a19e4c4b1854f7cbe246a19502a56f52c2b5_3-Fig...   \n",
      "4           6  e19039cd42f72102389f811643cd3036f8db5182_2-Fig...   \n",
      "\n",
      "                                             caption  \n",
      "0  nuclear magnetic resonance scan demonstrating ...  \n",
      "1  barium enema and endoscopic image of the high ...  \n",
      "2  complete resolution of the colonic obstruction...  \n",
      "3  abdominal ctscan image of rabbit reveals low a...  \n",
      "4  control computed tomography ctscan angiogram m...  \n"
     ]
    }
   ],
   "source": [
    "print(df.head())"
   ]
  },
  {
   "cell_type": "code",
   "execution_count": 4,
   "metadata": {},
   "outputs": [],
   "source": [
    "# take 100 random samples from the dataframe and make a new one\n",
    "df = df.sample(n=100, random_state=1)\n",
    "df.to_csv(r'/home/marocos/thesis/med-image-captioning/data/csv/dataset_20_random_samples.csv', index=False)"
   ]
  },
  {
   "cell_type": "code",
   "execution_count": null,
   "metadata": {},
   "outputs": [],
   "source": []
  }
 ],
 "metadata": {
  "kernelspec": {
   "display_name": "Python 3",
   "language": "python",
   "name": "python3"
  },
  "language_info": {
   "codemirror_mode": {
    "name": "ipython",
    "version": 3
   },
   "file_extension": ".py",
   "mimetype": "text/x-python",
   "name": "python",
   "nbconvert_exporter": "python",
   "pygments_lexer": "ipython3",
   "version": "3.11.2"
  }
 },
 "nbformat": 4,
 "nbformat_minor": 2
}

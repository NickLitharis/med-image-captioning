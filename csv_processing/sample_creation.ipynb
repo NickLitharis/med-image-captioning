{
 "cells": [
  {
   "cell_type": "code",
   "execution_count": 1,
   "metadata": {},
   "outputs": [],
   "source": [
    "import pandas as pd"
   ]
  },
  {
   "cell_type": "code",
   "execution_count": null,
   "metadata": {},
   "outputs": [],
   "source": []
  },
  {
   "cell_type": "code",
   "execution_count": 8,
   "metadata": {},
   "outputs": [
    {
     "name": "stdout",
     "output_type": "stream",
     "text": [
      "                                          s2_caption  \\\n",
      "0  Figure 4. Nuclear magnetic resonance scan demo...   \n",
      "1  Figure 1. (A) Barium enema and (B) endoscopic ...   \n",
      "2  Figure 3. Surveillance colonoscopy 1 year afte...   \n",
      "3  Figure 2. Complete resolution of the colonic o...   \n",
      "4  Figure 4. Endoscopic images 4 years after colo...   \n",
      "\n",
      "                                           image_uri  \n",
      "0  26491ab76c6e8d6acc582e71bb6b3b5f5601ccc2_3-Fig...  \n",
      "1  57c9ad0f4aab133f96d40992c46926fabc901ffa_2-Fig...  \n",
      "2  57c9ad0f4aab133f96d40992c46926fabc901ffa_2-Fig...  \n",
      "3  57c9ad0f4aab133f96d40992c46926fabc901ffa_2-Fig...  \n",
      "4  57c9ad0f4aab133f96d40992c46926fabc901ffa_2-Fig...  \n"
     ]
    }
   ],
   "source": [
    "df=pd.read_csv('C:\\\\Users\\\\Νίκος Λιθαρής\\\\OneDrive - ionio.gr\\\\Desktop\\\\thesis\\\\data\\\\csv\\\\image_uri_and_captions.csv')\n",
    "print(df.head())"
   ]
  },
  {
   "cell_type": "code",
   "execution_count": 9,
   "metadata": {},
   "outputs": [
    {
     "name": "stdout",
     "output_type": "stream",
     "text": [
      "                                               s2_caption  \\\n",
      "132087  Fig 3. ULD CT false negative example. 47yo mal...   \n",
      "185441  Figure 7. PKGII reverses the apoptosis-reducin...   \n",
      "9365    Figure 2 Erect posteroanterior chest radiograp...   \n",
      "139210  Fig 2. A 48-year-old patient with IDC in the l...   \n",
      "140098  FIG. 1. [125I]-sCT binding assay. A, B, C, and...   \n",
      "\n",
      "                                                image_uri  \n",
      "132087  780d51420ad492a61d00295adb6919bd492e6bd3_8-Fig...  \n",
      "185441  4fd909ba5e5ee6d90fae6967acd2f54cc9f8b4bf_4-Fig...  \n",
      "9365    2b67d96df5488d5c3320f1626ba098c1b10b5a17_1-Fig...  \n",
      "139210  11357dcc40909413166afbddffe7b6b2f2e3309b_8-Fig...  \n",
      "140098  ba5b8e81fb34a0c30922cdcc04f7bef567330e39_2-Fig...  \n"
     ]
    }
   ],
   "source": [
    "# choose 100 random rows and make a new dataframe\n",
    "df = df.sample(n=100)\n",
    "print(df.head())"
   ]
  },
  {
   "cell_type": "code",
   "execution_count": 10,
   "metadata": {},
   "outputs": [],
   "source": [
    "# save the new dataframe to a csv file\n",
    "df.to_csv('C:\\\\Users\\\\Νίκος Λιθαρής\\\\OneDrive - ionio.gr\\\\Desktop\\\\thesis\\\\data\\\\csv\\\\image_uri_and_captions_100.csv', index=False)\n"
   ]
  }
 ],
 "metadata": {
  "kernelspec": {
   "display_name": "Python 3",
   "language": "python",
   "name": "python3"
  },
  "language_info": {
   "codemirror_mode": {
    "name": "ipython",
    "version": 3
   },
   "file_extension": ".py",
   "mimetype": "text/x-python",
   "name": "python",
   "nbconvert_exporter": "python",
   "pygments_lexer": "ipython3",
   "version": "3.12.0"
  }
 },
 "nbformat": 4,
 "nbformat_minor": 2
}

{
 "cells": [
  {
   "cell_type": "code",
   "execution_count": 12,
   "metadata": {},
   "outputs": [],
   "source": [
    "import pandas as pd\n",
    "\n",
    "df=pd.read_csv('C:\\\\Users\\\\Νίκος Λιθαρής\\\\OneDrive - ionio.gr\\\\Desktop\\\\thesis\\\\data\\\\csv\\\\s2_full_figures_oa_nonroco_combined_medical_top4_public.csv')"
   ]
  },
  {
   "cell_type": "code",
   "execution_count": 13,
   "metadata": {},
   "outputs": [
    {
     "name": "stdout",
     "output_type": "stream",
     "text": [
      "                                 image_name  fig_key          fig_uri  \\\n",
      "0  26491ab76c6e8d6acc582e71bb6b3b5f5601ccc2  Figure4  3-Figure4-1.png   \n",
      "1  57c9ad0f4aab133f96d40992c46926fabc901ffa  Figure1  2-Figure1-1.png   \n",
      "2  57c9ad0f4aab133f96d40992c46926fabc901ffa  Figure3  2-Figure3-1.png   \n",
      "3  57c9ad0f4aab133f96d40992c46926fabc901ffa  Figure2  2-Figure2-1.png   \n",
      "4  57c9ad0f4aab133f96d40992c46926fabc901ffa  Figure4  2-Figure4-1.png   \n",
      "\n",
      "                                          s2_caption  \\\n",
      "0  Figure 4. Nuclear magnetic resonance scan demo...   \n",
      "1  Figure 1. (A) Barium enema and (B) endoscopic ...   \n",
      "2  Figure 3. Surveillance colonoscopy 1 year afte...   \n",
      "3  Figure 2. Complete resolution of the colonic o...   \n",
      "4  Figure 4. Endoscopic images 4 years after colo...   \n",
      "\n",
      "                                       s2orc_caption  \n",
      "0  Figure 4. Nuclear magnetic resonance scan demo...  \n",
      "1  Figure 1. (A) Barium enema and (B) endoscopic ...  \n",
      "2  Figure 3. Surveillance colonoscopy 1 year afte...  \n",
      "3  Figure 2. Complete resolution of the colonic o...  \n",
      "4  Figure 4. Endoscopic images 4 years after colo...  \n"
     ]
    }
   ],
   "source": [
    "print(df.head())"
   ]
  },
  {
   "cell_type": "code",
   "execution_count": 14,
   "metadata": {},
   "outputs": [
    {
     "name": "stdout",
     "output_type": "stream",
     "text": [
      "                                 image_name          fig_uri  \\\n",
      "0  26491ab76c6e8d6acc582e71bb6b3b5f5601ccc2  3-Figure4-1.png   \n",
      "1  57c9ad0f4aab133f96d40992c46926fabc901ffa  2-Figure1-1.png   \n",
      "2  57c9ad0f4aab133f96d40992c46926fabc901ffa  2-Figure3-1.png   \n",
      "3  57c9ad0f4aab133f96d40992c46926fabc901ffa  2-Figure2-1.png   \n",
      "4  57c9ad0f4aab133f96d40992c46926fabc901ffa  2-Figure4-1.png   \n",
      "\n",
      "                                          s2_caption  \n",
      "0  Figure 4. Nuclear magnetic resonance scan demo...  \n",
      "1  Figure 1. (A) Barium enema and (B) endoscopic ...  \n",
      "2  Figure 3. Surveillance colonoscopy 1 year afte...  \n",
      "3  Figure 2. Complete resolution of the colonic o...  \n",
      "4  Figure 4. Endoscopic images 4 years after colo...  \n"
     ]
    }
   ],
   "source": [
    "newdf=df.drop(columns=['fig_key','s2orc_caption'],axis=1)\n",
    "print(newdf.head())"
   ]
  },
  {
   "cell_type": "code",
   "execution_count": 15,
   "metadata": {},
   "outputs": [
    {
     "name": "stdout",
     "output_type": "stream",
     "text": [
      "                                          s2_caption  \\\n",
      "0  Figure 4. Nuclear magnetic resonance scan demo...   \n",
      "1  Figure 1. (A) Barium enema and (B) endoscopic ...   \n",
      "2  Figure 3. Surveillance colonoscopy 1 year afte...   \n",
      "3  Figure 2. Complete resolution of the colonic o...   \n",
      "4  Figure 4. Endoscopic images 4 years after colo...   \n",
      "\n",
      "                                           image_uri  \n",
      "0  26491ab76c6e8d6acc582e71bb6b3b5f5601ccc2_3-Fig...  \n",
      "1  57c9ad0f4aab133f96d40992c46926fabc901ffa_2-Fig...  \n",
      "2  57c9ad0f4aab133f96d40992c46926fabc901ffa_2-Fig...  \n",
      "3  57c9ad0f4aab133f96d40992c46926fabc901ffa_2-Fig...  \n",
      "4  57c9ad0f4aab133f96d40992c46926fabc901ffa_2-Fig...  \n"
     ]
    }
   ],
   "source": [
    "#create a new column combining the image_name and the fig_uri\n",
    "newdf['image_name']=newdf['image_name'].astype(str)\n",
    "newdf['fig_uri']=newdf['fig_uri'].astype(str)\n",
    "newdf['image_uri']=newdf['image_name']+'_'+newdf['fig_uri']\n",
    "newdf=newdf.drop(columns=['image_name','fig_uri'],axis=1)\n",
    "print(newdf.head())\n"
   ]
  },
  {
   "cell_type": "code",
   "execution_count": 16,
   "metadata": {},
   "outputs": [],
   "source": [
    "#save the new dataframe to a csv file\n",
    "newdf.to_csv('C:\\\\Users\\\\Νίκος Λιθαρής\\\\OneDrive - ionio.gr\\\\Desktop\\\\thesis\\\\data\\\\csv\\\\image_uri_and_captions.csv',index=False)"
   ]
  },
  {
   "cell_type": "code",
   "execution_count": null,
   "metadata": {},
   "outputs": [],
   "source": []
  }
 ],
 "metadata": {
  "kernelspec": {
   "display_name": "Python 3",
   "language": "python",
   "name": "python3"
  },
  "language_info": {
   "codemirror_mode": {
    "name": "ipython",
    "version": 3
   },
   "file_extension": ".py",
   "mimetype": "text/x-python",
   "name": "python",
   "nbconvert_exporter": "python",
   "pygments_lexer": "ipython3",
   "version": "3.12.0"
  }
 },
 "nbformat": 4,
 "nbformat_minor": 2
}

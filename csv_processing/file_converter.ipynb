{
 "cells": [
  {
   "cell_type": "code",
   "execution_count": null,
   "metadata": {},
   "outputs": [],
   "source": [
    "import pandas as pd\n",
    "import jsonlines\n"
   ]
  },
  {
   "cell_type": "code",
   "execution_count": null,
   "metadata": {},
   "outputs": [],
   "source": [
    "# Path to the JSONL file\n",
    "jsonl_file_path = r'data\\\\json\\\\s2_full_figures_oa_nonroco_combined_medical_top4_public.jsonl'\n",
    "\n",
    "# Lists to store data\n",
    "image_name = []\n",
    "fig_key = []\n",
    "fig_uri = []\n",
    "s2_caption = []\n",
    "s2orc_caption = []\n"
   ]
  },
  {
   "cell_type": "code",
   "execution_count": null,
   "metadata": {},
   "outputs": [],
   "source": [
    "# Reading data from JSONL file\n",
    "with jsonlines.open(jsonl_file_path) as f:\n",
    "    for line in f.iter():\n",
    "        image_name.append(line['pdf_hash'])\n",
    "        fig_key.append(line['fig_key'])\n",
    "        fig_uri.append(line['fig_uri'])\n",
    "        s2_caption.append(line['s2_caption'])\n",
    "        s2orc_caption.append(line['s2orc_caption'])\n"
   ]
  },
  {
   "cell_type": "code",
   "execution_count": null,
   "metadata": {},
   "outputs": [],
   "source": [
    "# Creating a DataFrame from the lists\n",
    "df = pd.DataFrame({\n",
    "    'image_name': image_name,\n",
    "    'fig_key': fig_key,\n",
    "    'fig_uri': fig_uri,\n",
    "    's2_caption': s2_caption,\n",
    "    's2orc_caption': s2orc_caption\n",
    "})\n",
    "\n",
    "# Displaying the first few rows of the dataframe\n",
    "print(df.head())\n"
   ]
  },
  {
   "cell_type": "code",
   "execution_count": null,
   "metadata": {},
   "outputs": [],
   "source": [
    "# Saving the dataframe as a CSV file\n",
    "df.to_csv('data\\\\csv\\\\s2_full_figures_oa_nonroco_combined_medical_top4_public.csv', index=False)\n"
   ]
  }
 ],
 "metadata": {
  "language_info": {
   "name": "python"
  }
 },
 "nbformat": 4,
 "nbformat_minor": 2
}

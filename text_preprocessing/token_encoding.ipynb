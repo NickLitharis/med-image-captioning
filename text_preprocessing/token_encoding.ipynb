{
 "cells": [
  {
   "cell_type": "code",
   "execution_count": 9,
   "metadata": {},
   "outputs": [],
   "source": [
    "from ast import literal_eval\n",
    "import pandas as pd"
   ]
  },
  {
   "cell_type": "code",
   "execution_count": 11,
   "metadata": {},
   "outputs": [],
   "source": [
    "# Load the file\n",
    "file_path = r'D:\\med-image-captioning\\data\\csv\\vocabulary.csv'\n",
    "vocabulary_df = pd.read_csv(file_path)"
   ]
  },
  {
   "cell_type": "code",
   "execution_count": 12,
   "metadata": {},
   "outputs": [],
   "source": [
    "# Convert the string representation of list to actual list\n",
    "vocabulary_df.iloc[:, 0] = vocabulary_df.iloc[:, 0].apply(literal_eval)"
   ]
  },
  {
   "cell_type": "code",
   "execution_count": 13,
   "metadata": {},
   "outputs": [],
   "source": [
    "# Flatten the list of tokens into a single list\n",
    "all_tokens = [token for sublist in vocabulary_df.iloc[:, 0] for token in sublist]"
   ]
  },
  {
   "cell_type": "code",
   "execution_count": 14,
   "metadata": {},
   "outputs": [],
   "source": [
    "# Create a mapping from each unique token to an integer\n",
    "token_to_integer = {token: i for i, token in enumerate(set(all_tokens))}"
   ]
  },
  {
   "cell_type": "code",
   "execution_count": 15,
   "metadata": {},
   "outputs": [],
   "source": [
    "# Replace each token in the original lists with its corresponding integer value\n",
    "encoded_lists = [[token_to_integer[token] for token in sublist] for sublist in vocabulary_df.iloc[:, 0]]"
   ]
  },
  {
   "cell_type": "code",
   "execution_count": 16,
   "metadata": {},
   "outputs": [],
   "source": [
    "# Convert the encoded lists back into a DataFrame for better visualization\n",
    "encoded_df = pd.DataFrame({\"Encoded Tokens\": encoded_lists})\n"
   ]
  },
  {
   "cell_type": "code",
   "execution_count": 17,
   "metadata": {},
   "outputs": [
    {
     "name": "stdout",
     "output_type": "stream",
     "text": [
      "                                      Encoded Tokens\n",
      "0  [940, 646, 1814, 81, 1020, 163, 1247, 1103, 81...\n",
      "1  [963, 913, 1814, 562, 785, 1167, 1263, 950, 11...\n",
      "2  [800, 587, 648, 1706, 57, 1406, 353, 211, 881,...\n",
      "3                               [19, 57, 1571, 1295]\n",
      "4  [1647, 1113, 960, 367, 957, 1003, 513, 1178, 1...\n"
     ]
    }
   ],
   "source": [
    "# Display the first few rows of the encoded dataframe (optional)\n",
    "print(encoded_df.head())"
   ]
  },
  {
   "cell_type": "code",
   "execution_count": 18,
   "metadata": {},
   "outputs": [],
   "source": [
    "# Save the encoded dataframe to a CSV file\n",
    "encoded_df.to_csv(r'D:\\med-image-captioning\\data\\csv\\encoded_vocabulary.csv', index=False)"
   ]
  },
  {
   "cell_type": "code",
   "execution_count": null,
   "metadata": {},
   "outputs": [],
   "source": []
  }
 ],
 "metadata": {
  "kernelspec": {
   "display_name": "Python 3",
   "language": "python",
   "name": "python3"
  },
  "language_info": {
   "codemirror_mode": {
    "name": "ipython",
    "version": 3
   },
   "file_extension": ".py",
   "mimetype": "text/x-python",
   "name": "python",
   "nbconvert_exporter": "python",
   "pygments_lexer": "ipython3",
   "version": "3.12.0"
  }
 },
 "nbformat": 4,
 "nbformat_minor": 2
}

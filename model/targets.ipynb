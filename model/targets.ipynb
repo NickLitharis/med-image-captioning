{
 "cells": [
  {
   "cell_type": "markdown",
   "metadata": {},
   "source": [
    "# Caption one-hot encoding"
   ]
  },
  {
   "cell_type": "code",
   "execution_count": 1,
   "metadata": {},
   "outputs": [],
   "source": [
    "import numpy as np"
   ]
  },
  {
   "cell_type": "code",
   "execution_count": 2,
   "metadata": {},
   "outputs": [],
   "source": [
    "completed_captions = np.load(r'C:\\Users\\Νίκος Λιθαρής\\Desktop\\med-image-captioning\\data\\padded_captions\\padded_captions.npy') #completed means that the captios are tokenized and padded\n"
   ]
  },
  {
   "cell_type": "code",
   "execution_count": 3,
   "metadata": {},
   "outputs": [
    {
     "name": "stdout",
     "output_type": "stream",
     "text": [
      "(100, 178)\n"
     ]
    }
   ],
   "source": [
    "print(completed_captions.shape) # Example batch with 100 images"
   ]
  },
  {
   "cell_type": "code",
   "execution_count": 4,
   "metadata": {},
   "outputs": [],
   "source": [
    "#Craate the targets\n",
    "targets=np.zeros(completed_captions.shape,dtype=int)\n",
    "targets[:,:-1]=completed_captions[:,1:]"
   ]
  },
  {
   "cell_type": "code",
   "execution_count": 5,
   "metadata": {},
   "outputs": [
    {
     "name": "stdout",
     "output_type": "stream",
     "text": [
      "[[   5  567  568 ...    0    0    0]\n",
      " [ 586  587    1 ...    0    0    0]\n",
      " [ 624   47   53 ...    0    0    0]\n",
      " ...\n",
      " [  55   48    9 ...    0    0    0]\n",
      " [  75   25  528 ...    0    0    0]\n",
      " [  78 1952    7 ...    0    0    0]]\n"
     ]
    }
   ],
   "source": [
    "print(targets)"
   ]
  },
  {
   "cell_type": "code",
   "execution_count": 6,
   "metadata": {},
   "outputs": [],
   "source": [
    "np.save(r'C:\\Users\\Νίκος Λιθαρής\\Desktop\\med-image-captioning\\data\\targets\\targets.npy',targets) #save the targets"
   ]
  },
  {
   "cell_type": "code",
   "execution_count": null,
   "metadata": {},
   "outputs": [],
   "source": []
  }
 ],
 "metadata": {
  "kernelspec": {
   "display_name": "Python 3",
   "language": "python",
   "name": "python3"
  },
  "language_info": {
   "codemirror_mode": {
    "name": "ipython",
    "version": 3
   },
   "file_extension": ".py",
   "mimetype": "text/x-python",
   "name": "python",
   "nbconvert_exporter": "python",
   "pygments_lexer": "ipython3",
   "version": "3.11.7"
  }
 },
 "nbformat": 4,
 "nbformat_minor": 2
}

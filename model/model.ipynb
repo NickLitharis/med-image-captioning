{
 "cells": [
  {
   "cell_type": "markdown",
   "metadata": {},
   "source": [
    "## Loading Modules"
   ]
  },
  {
   "cell_type": "code",
   "execution_count": 1,
   "metadata": {},
   "outputs": [
    {
     "name": "stderr",
     "output_type": "stream",
     "text": [
      "2024-03-14 23:17:01.441309: E external/local_xla/xla/stream_executor/cuda/cuda_dnn.cc:9261] Unable to register cuDNN factory: Attempting to register factory for plugin cuDNN when one has already been registered\n",
      "2024-03-14 23:17:01.441340: E external/local_xla/xla/stream_executor/cuda/cuda_fft.cc:607] Unable to register cuFFT factory: Attempting to register factory for plugin cuFFT when one has already been registered\n",
      "2024-03-14 23:17:01.442042: E external/local_xla/xla/stream_executor/cuda/cuda_blas.cc:1515] Unable to register cuBLAS factory: Attempting to register factory for plugin cuBLAS when one has already been registered\n",
      "2024-03-14 23:17:01.447038: I tensorflow/core/platform/cpu_feature_guard.cc:182] This TensorFlow binary is optimized to use available CPU instructions in performance-critical operations.\n",
      "To enable the following instructions: AVX2 FMA, in other operations, rebuild TensorFlow with the appropriate compiler flags.\n",
      "2024-03-14 23:17:02.048204: W tensorflow/compiler/tf2tensorrt/utils/py_utils.cc:38] TF-TRT Warning: Could not find TensorRT\n"
     ]
    }
   ],
   "source": [
    "import os \n",
    "import numpy as np\n",
    "from tqdm import tqdm\n",
    "\n",
    "from tensorflow.keras.applications.vgg16 import VGG16,preprocess_input\n",
    "from tensorflow.keras.preprocessing.image import load_img,img_to_array\n",
    "from tensorflow.keras.preprocessing.text import Tokenizer\n",
    "from tensorflow.keras.preprocessing.sequence import pad_sequences\n",
    "from tensorflow.keras.models import Model\n",
    "from tensorflow.keras.utils import to_categorical,plot_model\n",
    "from tensorflow.keras.layers import Input,Embedding,LSTM,Dense,add,Dropout"
   ]
  },
  {
   "cell_type": "code",
   "execution_count": 2,
   "metadata": {},
   "outputs": [
    {
     "name": "stdout",
     "output_type": "stream",
     "text": [
      "Image 736c430bcbfd1e49e2065130cc4e3cb5ee91782f_2-Figure5-1.png already exists in destination folder.\n",
      "Image ad4a099c0e9c0ee984943f2c9243fd5e901d63d0_4-Figure2-1.png already exists in destination folder.\n",
      "Image ec8b42199b1a1725c0a04bea0489a8c5bbb64e93_2-Figure1-1.png already exists in destination folder.\n",
      "Image 61f0cc1eef9cd2e27107d6081c337ed93a90bd81_3-Figure7-1.png already exists in destination folder.\n",
      "Image 06ff9e515f10c2a3873b121b6bc5e9898a016163_2-Figure1-1.png already exists in destination folder.\n",
      "Image 93f3b379da318b773620631901be72bcee710643_2-Figure1-1.png already exists in destination folder.\n",
      "Image d36d593ee2a4cd6b94e650eabe60a98c96274ae2_4-Figure9-1.png already exists in destination folder.\n",
      "Image 27203418d599e2311c234c150d12754e168fb7ac_2-Figure1-1.png already exists in destination folder.\n",
      "Image 6742672d440339d28cdfd9b88a903a2a51a39c41_1-Figure2-1.png already exists in destination folder.\n",
      "Image fc7b731fb1f9d54a91fe1c3b85792cef83bb0989_7-Figure6-1.png already exists in destination folder.\n",
      "Image f36957ae1ec5488c589b57e7a2a42bf627ee62b7_1-Figure2-1.png already exists in destination folder.\n",
      "Image b49e742d4f7e1ffe8bd3837dec547c3753ba09a3_1-Figure3-1.png already exists in destination folder.\n",
      "Image 89f2aff5a7c4f86a30e173d74aea744fc549c27f_9-Figure19-1.png already exists in destination folder.\n",
      "Image ec667d208f91de14044dd16bc6fa2882311e2c27_2-Figure2-1.png already exists in destination folder.\n",
      "Image 367783a685c89bf27a4a5182c7d14df25af5badb_2-Figure1-1.png already exists in destination folder.\n",
      "Image 09e373877f5164562a73ca370b726e419defb38b_4-Figure3-1.png already exists in destination folder.\n",
      "Image 27ef406c58ccd6518ff91bd64af178a082e6b683_2-Figure2-1.png already exists in destination folder.\n",
      "Image ea625b7dec6ddd24f30cf17def0522daaa667b1c_3-Figure5-1.png already exists in destination folder.\n",
      "Image 477ffe91112cc353d8d39cec04862f3af02ce81d_3-Figure2-1.png already exists in destination folder.\n",
      "Image a471515ccee402837f6e878aa18ef3448e6e3b99_3-Figure3-1.png already exists in destination folder.\n",
      "Image 48525a3eea0d4ddc663b34991f2275928e06e7be_3-Figure4-1.png already exists in destination folder.\n",
      "Image ce7c084d28f7ffcaa30607054e664ca67a039220_4-Figure4-1.png already exists in destination folder.\n",
      "Image d740a2756f3bf66893eb659e96b6e9e560de59fa_3-Figure2-1.png already exists in destination folder.\n",
      "Image db3dac70c583e8d5da228d72e240e040db5b0abc_3-Figure4-1.png already exists in destination folder.\n",
      "Image e1a230cc19c1af30eb66352132a4bd5041c00023_2-Figure1-1.png already exists in destination folder.\n",
      "Image 6bdb8fea265f42defd4e89c811de2e1d3fe61b91_8-Figure7-1.png already exists in destination folder.\n",
      "Image d22d9352234fc7cadeffae66ad72eaee9de92926_2-Figure2-1.png already exists in destination folder.\n",
      "Image 9de98e671ff5b3a647260b2cad4798e173034cb6_6-Figure3-1.png already exists in destination folder.\n",
      "Image a5d3ec003eb1621653b4259fe98142aaf1e663d0_2-Figure1-1.png already exists in destination folder.\n",
      "Image 0fd61891387719739da1fa17d1b62dd1732eeb3c_2-Figure1-1.png already exists in destination folder.\n",
      "Image 327bdadfaf1683a9c4291529f9550dba861446ad_2-Figure1-1.png already exists in destination folder.\n",
      "Image 1c5474cc0814be40f364b1593629c77fec072339_11-Figure7-1.png already exists in destination folder.\n",
      "Image d4c6ea735afd0a8e78352735e20adc0faf3ffa9a_1-Figure2-1.png already exists in destination folder.\n",
      "Image 62e91f793cdb81f157999972a854531deecc9447_2-Figure3-1.png already exists in destination folder.\n",
      "Image f689f34dbd11fe5e41bd6c22f63f1a6586673e09_2-Figure2-1.png already exists in destination folder.\n",
      "Image d6d567b567d5396c51739fe10216c2f510d88bda_4-Figure9-1.png already exists in destination folder.\n",
      "Image d0d5f6cf657b70b9e1f1b880b8305f78483a74fd_2-Figure1-1.png already exists in destination folder.\n",
      "Image 75d10613bf91419247686a65291dffe442565fa8_4-Figure2-1.png already exists in destination folder.\n",
      "Image 827591f6494c1d30ff138025421504988749594e_3-Figure2-1.png already exists in destination folder.\n",
      "Image 5f0765a294ea6d987719b63f2caf45d216c6d0d5_2-Figure2-1.png already exists in destination folder.\n",
      "Image e3983d6240917508e68609864bf50eded80104d5_3-Figure2-1.png already exists in destination folder.\n",
      "Image f7dce9166ea79b21911e8af56a67feb6ef4d1d64_2-Figure2-1.png already exists in destination folder.\n",
      "Image eaf0c1016f70e75fb1129dd9a929a49274e08ee0_3-Figure1-1.png already exists in destination folder.\n",
      "Image 09b4d5a7cab2a7b65c9329827b2981333716b9ec_4-Figure1-1.png already exists in destination folder.\n",
      "Image 61dd77de4427b13a0f388b381a79fb275a2347ad_3-Figure2-1.png already exists in destination folder.\n",
      "Image 9960f2bafce3f4b364fb017ea11576cf28791d2e_1-Figure1-1.png already exists in destination folder.\n",
      "Image 9c995e756337b6e78951d91a0493c315e47e1c77_2-Figure1-1.png already exists in destination folder.\n",
      "Image 701783312a2c5ebad6b28df946573a502099e85a_3-Figure1-1.png already exists in destination folder.\n",
      "Image bd3e70b3a2b20ce5ebcd4f84324366bede0a8056_2-Figure1-1.png already exists in destination folder.\n",
      "Image d20787f446afb1339bbe414487d1c50646136092_2-Figure2-1.png already exists in destination folder.\n",
      "Image 4b55a60fed504beda563376c0498fbc16272e067_1-Figure1-1.png already exists in destination folder.\n",
      "Image 0912227f824d75631221ddaa2eead775489f821a_2-Figure2-1.png already exists in destination folder.\n",
      "Image 076275e8b6a5177ff09c27227cd639ff8ca50fd7_2-Figure2-1.png already exists in destination folder.\n",
      "Image ec0ff98504f0b50eb81e448682d641f4e98907d6_2-Figure2-1.png already exists in destination folder.\n",
      "Image 2daeec9a169d64a068ea19f3df15a0776fbb8bfa_3-Figure2-1.png already exists in destination folder.\n",
      "Image 214fe9c60c22b252dad2b8feebaedde95241636b_7-Figure9-1.png already exists in destination folder.\n",
      "Image 8d5e17345456d497778938682c5e26bf1d2142f1_2-Figure2-1.png already exists in destination folder.\n",
      "Image 70abb6617eb651df369f2ef6f42c5f0571de3362_2-Figure1-1.png already exists in destination folder.\n",
      "Image 868ab674d8569c4c6bc6f2fe64c94230d93041f6_2-Figure4-1.png already exists in destination folder.\n",
      "Image 012539874c6dc13dfa675aace850cb0170304b3e_3-Figure3-1.png already exists in destination folder.\n",
      "Image 4ddf555ba9d2215313026522bb0c6ea091b51056_2-Figure1-1.png already exists in destination folder.\n",
      "Image e895c2970502dc9d53cbc4837f9dd9819c00515a_2-Figure1-1.png already exists in destination folder.\n",
      "Image 8ba25bff10c9ca69d5393963db19b26255c22b12_2-Figure1-1.png already exists in destination folder.\n",
      "Image c470cc5c28455d2dc57123c25df26c3873b8979f_3-Figure1-1.png already exists in destination folder.\n",
      "Image eb3d584073455cc3b6e4421c29c2bbd84d63203a_5-Figure2-1.png already exists in destination folder.\n",
      "Image d598b9d3b45306a0a85800cb3e454293d8de2b55_2-Figure2-1.png already exists in destination folder.\n",
      "Image 08d532efbacbe8679250fa1873f057e6faefe074_2-Figure1-1.png already exists in destination folder.\n",
      "Image 0ab1c09f76aa94f27562c25b9a5569d99dafaf65_2-Figure1-1.png already exists in destination folder.\n",
      "Image 81f751869438864c14b95592d5ad120c91893161_2-Figure1-1.png already exists in destination folder.\n",
      "Image a49570a4ee22cd15b5191b771289010d31efec18_5-Figure6-1.png already exists in destination folder.\n",
      "Image 0aa5071a1b2c3eea63d4622c56469c64be12f1d5_2-Figure2-1.png already exists in destination folder.\n",
      "Image e819dae2cc173b6e345822393393c5089c4b8d17_3-Figure1-1.png already exists in destination folder.\n",
      "Image fb52e66752aeb55cb03894baeaa5c954b2165c14_5-Figure2-1.png already exists in destination folder.\n",
      "Image 352086c81372b6299448e257b27f015b7dc1efc5_3-Figure1-1.png already exists in destination folder.\n",
      "Image 0b0a574144b3bdd696099debbdb9734b6203defd_2-Figure2-1.png already exists in destination folder.\n",
      "Image e324512aa5308730f243486184e3a102d214cbb2_3-Figure3-1.png already exists in destination folder.\n",
      "Image 1df867415556d3a477a9c42006fa25f925055bad_2-Figure3-1.png already exists in destination folder.\n",
      "Image 3c4249ea7dd20d66e5fddc5a2c7e7533e8b23fae_5-Figure7-1.png already exists in destination folder.\n",
      "Image 9b69864a3a563386ad6e281911ed89d3216e347e_2-Figure1-1.png already exists in destination folder.\n",
      "Image 5eaaa8d4cb7cfd77efed3295e9907acb5e0541c6_10-Figure5-1.png already exists in destination folder.\n",
      "Image b9eca10153c9c4b084b631fd57bb278e2db60431_1-Figure1-1.png already exists in destination folder.\n",
      "Image e2858c7e0a82a73c7058730e1cb032e566d1f236_5-Figure2-1.png already exists in destination folder.\n",
      "Image 5e84a940a19085b5379f48af7488200b58dada96_2-Figure1-2.png already exists in destination folder.\n",
      "Image a58d92ce56cfb59a8455b1c9cae1d88e36f6205e_2-Figure1-1.png already exists in destination folder.\n",
      "Image 5070f3f363acc8be91ce4d5bab2851024c263e14_2-Figure2-1.png already exists in destination folder.\n",
      "Image 9c9dcee46ed22cf17e7cbfd9661471366fc19d8f_5-Figure3-1.png already exists in destination folder.\n",
      "Image 847de5a0e54f5f87c6a39603e8e64a7f73663e13_2-Figure1-1.png already exists in destination folder.\n",
      "Image 0d5508d46a666dfc59f1b4f854b49a738fc53577_9-Figure3-1.png already exists in destination folder.\n",
      "Image e80da5e663b3abc8e40cf0f53c5b8a1df94ce27e_4-Figure5-1.png already exists in destination folder.\n",
      "Image 61a137f00a9476203d3c9347191a59942cf4d098_2-Figure1-1.png already exists in destination folder.\n",
      "Image ac135d46bb806b63b9a21718b8888275cf8af617_3-Figure2-1.png already exists in destination folder.\n",
      "Image cb0d3187b6861f881cbf50b4ee0a4c47569efc57_2-Figure1-1.png already exists in destination folder.\n",
      "Image bd58bd106f50fdef297e7f17701a0a810ad6a47a_1-Figure3-1.png already exists in destination folder.\n",
      "Image caf2f294cc10b9276165070097404a7cb1ec58b7_2-Figure1-1.png already exists in destination folder.\n",
      "Image f87c9eeded3049d29f1e8821f4937741f3170ea2_2-Figure1-1.png already exists in destination folder.\n",
      "Image d80f7c6f3f0f863b847d0d097c9236df1cf4cf12_3-Figure6-1.png already exists in destination folder.\n",
      "Image d7039b557b47d2b5d6d473f450362f1c8771585c_3-Figure2-1.png already exists in destination folder.\n",
      "Image a35047e922dfed4b86bdb8eb8f8ac99c091b030a_1-Figure1-1.png already exists in destination folder.\n",
      "Image bd0c7994d56ad883ea607a7f1ca4e34e447ee3e9_1-Figure1-1.png already exists in destination folder.\n",
      "Image 665f96475a25637a3213a1077c57499b2250d73b_3-Figure4-1.png already exists in destination folder.\n"
     ]
    }
   ],
   "source": [
    "import shutil\n",
    "\n",
    "# Path to the text file containing image names\n",
    "file_path = r'/home/marocos/thesis/med-image-captioning/data/dataset_20_random_samples.txt'\n",
    "\n",
    "# Read the file and extract image names\n",
    "with open(file_path, 'r') as file:\n",
    "    lines = file.readlines()[1:]  # Exclude the first line\n",
    "\n",
    "\n",
    "image_names = [line.split(',')[0] for line in lines]\n",
    "\n",
    "# Define the source and destination folder paths\n",
    "source_folder_path = r'/home/marocos/mic-images/'\n",
    "destination_folder_path = r'/home/marocos/thesis/med-image-captioning/images/'\n",
    "\n",
    "# Ensure the destination folder exists\n",
    "os.makedirs(destination_folder_path, exist_ok=True)\n",
    "\n",
    "\n",
    "# Iterate over the list of image names\n",
    "for image_name in image_names:\n",
    "    source_image_path = os.path.join(source_folder_path, image_name)\n",
    "    destination_image_path = os.path.join(destination_folder_path, image_name)\n",
    "    \n",
    "    # Check if the image exists in the source folder\n",
    "    if os.path.exists(source_image_path):\n",
    "        # Check if the image already exists in the destination folder\n",
    "        if not os.path.exists(destination_image_path):\n",
    "            # Copy the image to the destination folder\n",
    "            shutil.copy2(source_image_path, destination_image_path)\n",
    "            print(f\"Copied {image_name} to destination folder.\")\n",
    "        else:\n",
    "            print(f\"Image {image_name} already exists in destination folder.\")\n",
    "    else:\n",
    "        print(f\"Image {image_name} not found in source folder.\")\n",
    "\n"
   ]
  },
  {
   "cell_type": "markdown",
   "metadata": {},
   "source": [
    "## Image Feature Extraction"
   ]
  },
  {
   "cell_type": "code",
   "execution_count": 3,
   "metadata": {},
   "outputs": [],
   "source": [
    "model = VGG16()\n",
    "# restarcture the model\n",
    "model = Model(inputs=model.inputs,outputs=model.layers[-2].output)"
   ]
  },
  {
   "cell_type": "code",
   "execution_count": 4,
   "metadata": {},
   "outputs": [
    {
     "name": "stdout",
     "output_type": "stream",
     "text": [
      "Model: \"model\"\n",
      "_________________________________________________________________\n",
      " Layer (type)                Output Shape              Param #   \n",
      "=================================================================\n",
      " input_1 (InputLayer)        [(None, 224, 224, 3)]     0         \n",
      "                                                                 \n",
      " block1_conv1 (Conv2D)       (None, 224, 224, 64)      1792      \n",
      "                                                                 \n",
      " block1_conv2 (Conv2D)       (None, 224, 224, 64)      36928     \n",
      "                                                                 \n",
      " block1_pool (MaxPooling2D)  (None, 112, 112, 64)      0         \n",
      "                                                                 \n",
      " block2_conv1 (Conv2D)       (None, 112, 112, 128)     73856     \n",
      "                                                                 \n",
      " block2_conv2 (Conv2D)       (None, 112, 112, 128)     147584    \n",
      "                                                                 \n",
      " block2_pool (MaxPooling2D)  (None, 56, 56, 128)       0         \n",
      "                                                                 \n",
      " block3_conv1 (Conv2D)       (None, 56, 56, 256)       295168    \n",
      "                                                                 \n",
      " block3_conv2 (Conv2D)       (None, 56, 56, 256)       590080    \n",
      "                                                                 \n",
      " block3_conv3 (Conv2D)       (None, 56, 56, 256)       590080    \n",
      "                                                                 \n",
      " block3_pool (MaxPooling2D)  (None, 28, 28, 256)       0         \n",
      "                                                                 \n",
      " block4_conv1 (Conv2D)       (None, 28, 28, 512)       1180160   \n",
      "                                                                 \n",
      " block4_conv2 (Conv2D)       (None, 28, 28, 512)       2359808   \n",
      "                                                                 \n",
      " block4_conv3 (Conv2D)       (None, 28, 28, 512)       2359808   \n",
      "                                                                 \n",
      " block4_pool (MaxPooling2D)  (None, 14, 14, 512)       0         \n",
      "                                                                 \n",
      " block5_conv1 (Conv2D)       (None, 14, 14, 512)       2359808   \n",
      "                                                                 \n",
      " block5_conv2 (Conv2D)       (None, 14, 14, 512)       2359808   \n",
      "                                                                 \n",
      " block5_conv3 (Conv2D)       (None, 14, 14, 512)       2359808   \n",
      "                                                                 \n",
      " block5_pool (MaxPooling2D)  (None, 7, 7, 512)         0         \n",
      "                                                                 \n",
      " flatten (Flatten)           (None, 25088)             0         \n",
      "                                                                 \n",
      " fc1 (Dense)                 (None, 4096)              102764544 \n",
      "                                                                 \n",
      " fc2 (Dense)                 (None, 4096)              16781312  \n",
      "                                                                 \n",
      "=================================================================\n",
      "Total params: 134260544 (512.16 MB)\n",
      "Trainable params: 134260544 (512.16 MB)\n",
      "Non-trainable params: 0 (0.00 Byte)\n",
      "_________________________________________________________________\n",
      "None\n"
     ]
    }
   ],
   "source": [
    "print(model.summary())"
   ]
  },
  {
   "cell_type": "code",
   "execution_count": 5,
   "metadata": {},
   "outputs": [],
   "source": [
    "# extract features from each photo in the directory\n",
    "features={}\n",
    "directory=r'/home/marocos/thesis/med-image-captioning/images'\n",
    "\n",
    "for img_name in tqdm(os.listdir(directory)):\n",
    "    filename = directory+'/'+img_name\n",
    "\n",
    "    # load an image from file\n",
    "    image = load_img(filename,target_size=(224,224))\n",
    "\n",
    "    # convert the image pixels to a numpy array\n",
    "    image = img_to_array(image)\n",
    "\n",
    "    # reshape data for the model\n",
    "    image = image.reshape((1,image.shape[0],image.shape[1],image.shape[2]))\n",
    "\n",
    "    # prepare the image for the VGG model\n",
    "    image = preprocess_input(image)\n",
    "\n",
    "    # get features\n",
    "    feature = model.predict(image,verbose=0)\n",
    "\n",
    "    # get image id\n",
    "    image_id = img_name.split('.')[0]\n",
    "\n",
    "    #save the features\n",
    "    features[image_id] = feature"
   ]
  },
  {
   "cell_type": "code",
   "execution_count": null,
   "metadata": {},
   "outputs": [],
   "source": [
    "# # save to file\n",
    "# pickle.dump(features,open(r'D:\\med-image-captioning\\data\\image_features\\features.pkl','wb'))"
   ]
  },
  {
   "cell_type": "markdown",
   "metadata": {},
   "source": [
    "## Loading the captions"
   ]
  },
  {
   "cell_type": "code",
   "execution_count": null,
   "metadata": {},
   "outputs": [],
   "source": [
    "# load the caption features using pickle\n",
    "with open(r'/home/marocos/thesis/med-image-captioning/data/dataset_20_random_samples.txt','r') as file:\n",
    "    captions_doc=file.readlines()[1:]"
   ]
  },
  {
   "cell_type": "code",
   "execution_count": null,
   "metadata": {},
   "outputs": [
    {
     "name": "stdout",
     "output_type": "stream",
     "text": [
      "['736c430bcbfd1e49e2065130cc4e3cb5ee91782f_2-Figure5-1.png,xray examination of the hands of case showing the radial finger defects\\n', 'ad4a099c0e9c0ee984943f2c9243fd5e901d63d0_4-Figure2-1.png,epsilon toxin treated gppm showing blistering of nuclear membrane ill defined chromatin and swollen structiireless cytoplasm em\\n', 'ec8b42199b1a1725c0a04bea0489a8c5bbb64e93_2-Figure1-1.png,original image from echocardigraphy image after zoom in and translate through program code based on basic echocardiogram images\\n', '61f0cc1eef9cd2e27107d6081c337ed93a90bd81_3-Figure7-1.png,ctscan after weeks of osimertinib treatment showed that the lesion had shrunk\\n', '06ff9e515f10c2a3873b121b6bc5e9898a016163_2-Figure1-1.png,radiolucent lesion occupying the body of the left mandible axial cone beam computed tomography image\\n', '93f3b379da318b773620631901be72bcee710643_2-Figure1-1.png,longitudinal view of left shoulder on ultrasonography and periscapular area shows heterogenous fluid filled cystic mass\\n', 'd36d593ee2a4cd6b94e650eabe60a98c96274ae2_4-Figure9-1.png,anteroposterior radiograph showing fracture of the posterior aspect of the left acetabulum and dislocation of the right hip\\n', '27203418d599e2311c234c150d12754e168fb7ac_2-Figure1-1.png,transvaginal ultrasound image of the right uterine artery pseudoaneuyrsm\\n', '6742672d440339d28cdfd9b88a903a2a51a39c41_1-Figure2-1.png,radiograph taken in december\\n', 'fc7b731fb1f9d54a91fe1c3b85792cef83bb0989_7-Figure6-1.png,transverse sections cut\\n', 'f36957ae1ec5488c589b57e7a2a42bf627ee62b7_1-Figure2-1.png,postoperative xray graphy\\n', 'b49e742d4f7e1ffe8bd3837dec547c3753ba09a3_1-Figure3-1.png,endoscopic appearance of same area after four weeks treatment\\n', '89f2aff5a7c4f86a30e173d74aea744fc549c27f_9-Figure19-1.png,transverse scan of grossly hydronephrotic kidney showing extensive calcification cx of the wall of the renal pelvis\\n', 'ec667d208f91de14044dd16bc6fa2882311e2c27_2-Figure2-1.png,sagittal precontrast and postcontrast\\n', '367783a685c89bf27a4a5182c7d14df25af5badb_2-Figure1-1.png,echocardiographic images showing increased apical trabeculations with left ventricular noncompaction sagittal axis\\n', '09e373877f5164562a73ca370b726e419defb38b_4-Figure3-1.png,mriscan axial susceptibility weighted imaging mriscan axial multiplanar reconstruction imaging mriscan axial turbo spin echo imaging\\n', '27ef406c58ccd6518ff91bd64af178a082e6b683_2-Figure2-1.png,mriscan biliary tract multiple stenosis ischemic cholangiopathy\\n', 'ea625b7dec6ddd24f30cf17def0522daaa667b1c_3-Figure5-1.png,bone scan of the right calf personal photographic archive\\n', '477ffe91112cc353d8d39cec04862f3af02ce81d_3-Figure2-1.png,xray showing asymmetry of clavicle due to right sided dislocation\\n', 'a471515ccee402837f6e878aa18ef3448e6e3b99_3-Figure3-1.png,magnetic resonance imaging findings of lumbar spine showed right foraminal stenosis due to herniated disc\\n', '48525a3eea0d4ddc663b34991f2275928e06e7be_3-Figure4-1.png,excellent functional outcome of the shoulder figure radiograph at the month follow up\\n', 'ce7c084d28f7ffcaa30607054e664ca67a039220_4-Figure4-1.png,case transverse colon normal submucosal ganglions and moderately hypertrophied nerve fiber pgp\\n', 'd740a2756f3bf66893eb659e96b6e9e560de59fa_3-Figure2-1.png,ultrasonography us images in year old woman undergoing routine examination\\n', 'db3dac70c583e8d5da228d72e240e040db5b0abc_3-Figure4-1.png,anteroposterior and lateral radiograph of thoracic vertebra showed anterolateral decompression and fusion was performed on\\n', 'e1a230cc19c1af30eb66352132a4bd5041c00023_2-Figure1-1.png,abdominal computed tomography showing thick walled inflamed appendix with calcified fecalith edema of the cecum and dilated ileal loops\\n', '6bdb8fea265f42defd4e89c811de2e1d3fe61b91_8-Figure7-1.png,case atypical neurofibroma shows nuclear pleomorphism hematoxylin and eosin immunostain shows nuclear reactivity\\n', 'd22d9352234fc7cadeffae66ad72eaee9de92926_2-Figure2-1.png,ctscan of the chest with area of pneumomediastinum arrow\\n', '9de98e671ff5b3a647260b2cad4798e173034cb6_6-Figure3-1.png,ultrasonography of dfa pseudoaneurysms ctscan of dfa pseudoaneurysms ctscan angiography of dfa pseudoaneurysms\\n', 'a5d3ec003eb1621653b4259fe98142aaf1e663d0_2-Figure1-1.png,the ctscans of the past years march march april january\\n', '0fd61891387719739da1fa17d1b62dd1732eeb3c_2-Figure1-1.png,abdominal computed tomography shows tumor in the segment vi of the liver\\n', '327bdadfaf1683a9c4291529f9550dba861446ad_2-Figure1-1.png,ctscan showing right hydronephrosis and hydroureter and ectopic ureter opening into vagina\\n', '1c5474cc0814be40f364b1593629c77fec072339_11-Figure7-1.png,axial magnetic resonance imaging showing pancreatic polypeptide producing tumors in the head of the pancreas\\n', 'd4c6ea735afd0a8e78352735e20adc0faf3ffa9a_1-Figure2-1.png,thoracic computed tomography scan\\n', '62e91f793cdb81f157999972a854531deecc9447_2-Figure3-1.png,the follow up shoulder anteroposterior radiograph shows completely healed osteochondral fracture without displacement\\n', 'f689f34dbd11fe5e41bd6c22f63f1a6586673e09_2-Figure2-1.png,chest computed tomography shows sized spiculated nodule in right lower lung and multiple calcified mediastinal and right hilar lymph nodes\\n', 'd6d567b567d5396c51739fe10216c2f510d88bda_4-Figure9-1.png,case xray of hand april fig case xray right forefoot\\n', 'd0d5f6cf657b70b9e1f1b880b8305f78483a74fd_2-Figure1-1.png,non contrasted computed tomography ctscan of the abdomen and pelvis revealing partially calcified right psoas mass\\n', '75d10613bf91419247686a65291dffe442565fa8_4-Figure2-1.png,baseline and post treatment computed tomography scans of one patient with nasopharyngeal carcinoma lung metastases\\n', '827591f6494c1d30ff138025421504988749594e_3-Figure2-1.png,ctscan day ctscan revealed the emphysematous gangrene of peritoneum\\n', '5f0765a294ea6d987719b63f2caf45d216c6d0d5_2-Figure2-1.png,left chest radiograph showing distal lead fracture arrow right acquisition at time of pacing showing distal lead fracture arrow\\n', 'e3983d6240917508e68609864bf50eded80104d5_3-Figure2-1.png,an example of sagittal plane ultrasound scan at of gm length in an individual with dmd and control participant\\n', 'f7dce9166ea79b21911e8af56a67feb6ef4d1d64_2-Figure2-1.png,endoscopic examination revealed spurt bleeding from the top of the submucosal tumor\\n', 'eaf0c1016f70e75fb1129dd9a929a49274e08ee0_3-Figure1-1.png,endoscopic view of the left ventricular endocardium demonstrating both the mapping catheter and ablation catheter separated by at least to\\n', '09b4d5a7cab2a7b65c9329827b2981333716b9ec_4-Figure1-1.png,chest xray showing no foci in the lungs\\n', '61dd77de4427b13a0f388b381a79fb275a2347ad_3-Figure2-1.png,computed tomography scan of the abdomen demonstrating pancreatic head enlargement arrow\\n', '9960f2bafce3f4b364fb017ea11576cf28791d2e_1-Figure1-1.png,axial weigthed images bilateral hyperintense signal in the caudate and putamen\\n', '9c995e756337b6e78951d91a0493c315e47e1c77_2-Figure1-1.png,cranial ctscan showing diffuse cranial vault thickening consistent with pd\\n', '701783312a2c5ebad6b28df946573a502099e85a_3-Figure1-1.png,sagittal slice while flexed seating on lumbar levels and the skin markers above spinous processes are to see\\n', 'bd3e70b3a2b20ce5ebcd4f84324366bede0a8056_2-Figure1-1.png,method to measure bcm length thickness and area using ultrasound images bcm bulbocavernosus muscle\\n', 'd20787f446afb1339bbe414487d1c50646136092_2-Figure2-1.png,single photon emission tomography showing increase apical tracer uptake\\n', '4b55a60fed504beda563376c0498fbc16272e067_1-Figure1-1.png,abdominal ctscan image suggest with simple cyst in liver segment\\n', '0912227f824d75631221ddaa2eead775489f821a_2-Figure2-1.png,giant cystic lesion on the computed tomography scan\\n', '076275e8b6a5177ff09c27227cd639ff8ca50fd7_2-Figure2-1.png,coronal slice illustrating the segmentation of the entorhinal cortex outlined right side and the hippocampus outlined left side\\n', 'ec0ff98504f0b50eb81e448682d641f4e98907d6_2-Figure2-1.png,ctscan of the abdomen showing presence of rightsided parietal hematoma\\n', '2daeec9a169d64a068ea19f3df15a0776fbb8bfa_3-Figure2-1.png,magnetic resonance imaging with mapping demonstrating\\n', '214fe9c60c22b252dad2b8feebaedde95241636b_7-Figure9-1.png,case chest radiograph seven weeks after treat\\n', '8d5e17345456d497778938682c5e26bf1d2142f1_2-Figure2-1.png,recent chest computed tomography showed that the mass progressed rapidly and extended into the oesophageal lumen\\n', '70abb6617eb651df369f2ef6f42c5f0571de3362_2-Figure1-1.png,ultrasonography showed splenomegaly with solid hypoechoic splenic mass fig color doppler ultrasound showed blood flow within the mass fig\\n', '868ab674d8569c4c6bc6f2fe64c94230d93041f6_2-Figure4-1.png,reformatted ctscan showing volar ulnar and dorsal sides of wrist\\n', '012539874c6dc13dfa675aace850cb0170304b3e_3-Figure3-1.png,mriscan images of the elastofibroma the same case in figure in the right subscapular area arrow\\n', '4ddf555ba9d2215313026522bb0c6ea091b51056_2-Figure1-1.png,pre operative ctscan\\n', 'e895c2970502dc9d53cbc4837f9dd9819c00515a_2-Figure1-1.png,mrj scan of the abdomen showing retroperitoneal mass adhering to the abdominal aorta indicated by an arrow\\n', '8ba25bff10c9ca69d5393963db19b26255c22b12_2-Figure1-1.png,gw fetus micromri images of the axial coronal and parasagittal planes\\n', 'c470cc5c28455d2dc57123c25df26c3873b8979f_3-Figure1-1.png,xray in the anteroposterior view on the first day of the injury under longitudinal traction\\n', 'eb3d584073455cc3b6e4421c29c2bbd84d63203a_5-Figure2-1.png,appearance of staghorn stones and minijfil on xray\\n', 'd598b9d3b45306a0a85800cb3e454293d8de2b55_2-Figure2-1.png,lobular consolidation at left basal segment of left lower lobe in chest ctscan\\n', '08d532efbacbe8679250fa1873f057e6faefe074_2-Figure1-1.png,mriscan showing large septated mdc and compressed bladder and ctscan showing absent left kidney\\n', '0ab1c09f76aa94f27562c25b9a5569d99dafaf65_2-Figure1-1.png,thorax computerized tomography ctscan revealing thrombi in the main pulmonary arteries left pulmonary artery right pulmonary artery\\n', '81f751869438864c14b95592d5ad120c91893161_2-Figure1-1.png,left facial weakness figure brain mriscan contrast enhanced weighted image and weighted non contrast image disclosed normal cranial nerves\\n', 'a49570a4ee22cd15b5191b771289010d31efec18_5-Figure6-1.png,pre and post bevacizumab mriscans showing increased permeability and edema with resolution following therapy\\n', '0aa5071a1b2c3eea63d4622c56469c64be12f1d5_2-Figure2-1.png,anterior posterior chest radiograph on day\\n', 'e819dae2cc173b6e345822393393c5089c4b8d17_3-Figure1-1.png,example of cyclin cyclin positive nuclear staining the immunoreactivity is located in the nuclei of barrett esophagus lesion\\n', 'fb52e66752aeb55cb03894baeaa5c954b2165c14_5-Figure2-1.png,transverse section of normal mouse days pregnant and mouse infected on day of pregnancy with campylobacters mag\\n', '352086c81372b6299448e257b27f015b7dc1efc5_3-Figure1-1.png,enhanced ctscan of the pelvis showing large cystic structure\\n', '0b0a574144b3bdd696099debbdb9734b6203defd_2-Figure2-1.png,mid sagittal reformatted ctscan images showing the fracture at the level\\n', 'e324512aa5308730f243486184e3a102d214cbb2_3-Figure3-1.png,cardiac imaging echocardiogram and magnetic resonance image showing hypertrabeculation of the left ventricle arrow\\n', '1df867415556d3a477a9c42006fa25f925055bad_2-Figure3-1.png,representative slices from mriscan abdomen years post resection years post pr bilateral kidneys\\n', '3c4249ea7dd20d66e5fddc5a2c7e7533e8b23fae_5-Figure7-1.png,positron emission tomography image demonstrating metastatic deposits in the left mandible right humerus pelvis and both proximal femora\\n', '9b69864a3a563386ad6e281911ed89d3216e347e_2-Figure1-1.png,micro computed tomography image from spcl fiber mesh scaffold\\n', '5eaaa8d4cb7cfd77efed3295e9907acb5e0541c6_10-Figure5-1.png,sagittal section of and day embryonic chick hearts modified masson trichrome ra right atrium avv atrioventricular valve rv right ventricle\\n', 'b9eca10153c9c4b084b631fd57bb278e2db60431_1-Figure1-1.png,brain ctscan figure brain ctscan\\n', 'e2858c7e0a82a73c7058730e1cb032e566d1f236_5-Figure2-1.png,indigo carmine chromoendoscopy delineating mucosal alteration in the sigmoid before staining and after staining\\n', '5e84a940a19085b5379f48af7488200b58dada96_2-Figure1-2.png,xray latero lateral projection antero posterior projection that showed the corporal vertebral destruction localized at and\\n', 'a58d92ce56cfb59a8455b1c9cae1d88e36f6205e_2-Figure1-1.png,mriscan cis axial demonstrating pre pontine and ambient cistern lesion in mriscan post gadolinium in\\n', '5070f3f363acc8be91ce4d5bab2851024c263e14_2-Figure2-1.png,anteroposterior and lateral radiograph of shoulder depicts soft tissue tumor\\n', '9c9dcee46ed22cf17e7cbfd9661471366fc19d8f_5-Figure3-1.png,lateral radiograph of year old patient with severe thoracic lordosis thoracolumbar kyphosis and scoliosis six months after selective thoracolumbar fusion\\n', '847de5a0e54f5f87c6a39603e8e64a7f73663e13_2-Figure1-1.png,left ctscan thorax showing right\\n', '0d5508d46a666dfc59f1b4f854b49a738fc53577_9-Figure3-1.png,representative longitudinally extensive spinal cord mriscan lesions on weighted images from year old patient with os multiple sclerosis at relapse\\n', 'e80da5e663b3abc8e40cf0f53c5b8a1df94ce27e_4-Figure5-1.png,magnetic resonance imaging also revealed the anteriorly dislocated humeral head with rotator cuff injury and hill sachs lesion\\n', '61a137f00a9476203d3c9347191a59942cf4d098_2-Figure1-1.png,transverse section through bovine vomeronasal organ caudal to the incisive papilla\\n', 'ac135d46bb806b63b9a21718b8888275cf8af617_3-Figure2-1.png,coronal mriscan images of so overaction right orbit repeated in up primary and down gaze\\n', 'cb0d3187b6861f881cbf50b4ee0a4c47569efc57_2-Figure1-1.png,abdominal ctscan of the patient showing space occupying lesion in the distal descending colon\\n', 'bd58bd106f50fdef297e7f17701a0a810ad6a47a_1-Figure3-1.png,chest xray from the transferring institution\\n', 'caf2f294cc10b9276165070097404a7cb1ec58b7_2-Figure1-1.png,computed tomography of the pancreatic tumor the tumor invaded the transverse colon and spleen\\n', 'f87c9eeded3049d29f1e8821f4937741f3170ea2_2-Figure1-1.png,contrast enhanced computed tomography heterogeneous pseudoaneurysm with thrombus in contact with the main trunk of the sma trunk arrow\\n', 'd80f7c6f3f0f863b847d0d097c9236df1cf4cf12_3-Figure6-1.png,transverse us scan of jejunal segments\\n', 'd7039b557b47d2b5d6d473f450362f1c8771585c_3-Figure2-1.png,computed tomography scan upper and magnetic resonance images lower showing solid vestibular schwannoma with extensive destruction arrow\\n', 'a35047e922dfed4b86bdb8eb8f8ac99c091b030a_1-Figure1-1.png,chest xray showing double density in the aortic arch mimicking the number arrow\\n', 'bd0c7994d56ad883ea607a7f1ca4e34e447ee3e9_1-Figure1-1.png,ctscan of the abdomen showing irregular wall thickening of the caecum\\n', '665f96475a25637a3213a1077c57499b2250d73b_3-Figure4-1.png,endoscopic view of the lipoma arrows\\n']\n"
     ]
    }
   ],
   "source": [
    "print(captions_doc)"
   ]
  },
  {
   "cell_type": "code",
   "execution_count": null,
   "metadata": {},
   "outputs": [
    {
     "name": "stderr",
     "output_type": "stream",
     "text": [
      "100%|██████████| 100/100 [00:00<00:00, 723155.86it/s]\n"
     ]
    }
   ],
   "source": [
    "# Create a mapping of image captions\n",
    "mapping = {}\n",
    "\n",
    "for line in tqdm(captions_doc):\n",
    "    # Split the line by comma\n",
    "    tokens = line.split(',')\n",
    "\n",
    "    if len(tokens) >= 2:\n",
    "        image_id, caption = tokens[0], tokens[1]\n",
    "\n",
    "        # Remove filename from image_id\n",
    "        image_id = image_id.split('.')[0]\n",
    "\n",
    "        # Add to mapping dictionary\n",
    "        if image_id not in mapping:\n",
    "            mapping[image_id] = []\n",
    "\n",
    "        mapping[image_id].append(caption)\n",
    "\n",
    "\n",
    "\n"
   ]
  },
  {
   "cell_type": "code",
   "execution_count": null,
   "metadata": {},
   "outputs": [
    {
     "name": "stdout",
     "output_type": "stream",
     "text": [
      "100\n"
     ]
    }
   ],
   "source": [
    "print(len(mapping))"
   ]
  },
  {
   "cell_type": "code",
   "execution_count": null,
   "metadata": {},
   "outputs": [],
   "source": [
    "## add start and end sequence to the captions\n",
    "for key,captions in mapping.items():\n",
    "    for i in range(len(captions)):\n",
    "        captions[i]='<start> '+captions[i]+' <end>'"
   ]
  },
  {
   "cell_type": "code",
   "execution_count": null,
   "metadata": {},
   "outputs": [],
   "source": [
    "all_captions=[]\n",
    "for key in mapping.keys():\n",
    "    [all_captions.append(caption) for caption in mapping[key]]"
   ]
  },
  {
   "cell_type": "code",
   "execution_count": null,
   "metadata": {},
   "outputs": [
    {
     "data": {
      "text/plain": [
       "100"
      ]
     },
     "execution_count": 98,
     "metadata": {},
     "output_type": "execute_result"
    }
   ],
   "source": [
    "len(all_captions)"
   ]
  },
  {
   "cell_type": "code",
   "execution_count": 15,
   "metadata": {},
   "outputs": [
    {
     "ename": "NameError",
     "evalue": "name 'all_captions' is not defined",
     "output_type": "error",
     "traceback": [
      "\u001b[0;31m---------------------------------------------------------------------------\u001b[0m",
      "\u001b[0;31mNameError\u001b[0m                                 Traceback (most recent call last)",
      "Cell \u001b[0;32mIn[15], line 1\u001b[0m\n\u001b[0;32m----> 1\u001b[0m \u001b[38;5;28mprint\u001b[39m(\u001b[43mall_captions\u001b[49m[:\u001b[38;5;241m1\u001b[39m])\n",
      "\u001b[0;31mNameError\u001b[0m: name 'all_captions' is not defined"
     ]
    }
   ],
   "source": [
    "print(all_captions[:1])"
   ]
  },
  {
   "cell_type": "code",
   "execution_count": null,
   "metadata": {},
   "outputs": [],
   "source": [
    "# tokenize the text\n",
    "\n",
    "tokenizer=Tokenizer()\n",
    "tokenizer.fit_on_texts(all_captions)\n",
    "vocab_size=len(tokenizer.word_index)+1"
   ]
  },
  {
   "cell_type": "code",
   "execution_count": null,
   "metadata": {},
   "outputs": [
    {
     "name": "stdout",
     "output_type": "stream",
     "text": [
      "562\n"
     ]
    }
   ],
   "source": [
    "print(vocab_size)"
   ]
  },
  {
   "cell_type": "code",
   "execution_count": null,
   "metadata": {},
   "outputs": [
    {
     "name": "stdout",
     "output_type": "stream",
     "text": [
      "22\n"
     ]
    }
   ],
   "source": [
    "max_length=max(len(caption.split()) for caption in all_captions)\n",
    "print(max_length)"
   ]
  },
  {
   "cell_type": "markdown",
   "metadata": {},
   "source": [
    "## Train test split"
   ]
  },
  {
   "cell_type": "code",
   "execution_count": null,
   "metadata": {},
   "outputs": [],
   "source": [
    "image_ids=list(mapping.keys())\n",
    "split=int(len(image_ids)*0.8)\n",
    "train=image_ids[:split]\n",
    "test=image_ids[split:]\n"
   ]
  },
  {
   "cell_type": "code",
   "execution_count": null,
   "metadata": {},
   "outputs": [],
   "source": [
    "# create data generator\n",
    "def data_generator(data_keys,mapping,features,tokenizer,max_length,vocab_size,batch_size):\n",
    "    X1,X2,y= list(),list(),list()\n",
    "    n=0\n",
    "    while 1:\n",
    "        for key in data_keys:\n",
    "            n+=1\n",
    "            captions=mapping[key]\n",
    "\n",
    "            for caption in captions:\n",
    "                sequence=tokenizer.texts_to_sequences([caption])[0]\n",
    "                \n",
    "                for i in range(1,len(sequence)):\n",
    "                    # split into input and output pair\n",
    "                    in_seq,out_seq=sequence[:i],sequence[i]\n",
    "\n",
    "                    # pad input sequence\n",
    "                    in_seq=pad_sequences([in_seq],maxlen=max_length)[0]\n",
    "\n",
    "                    # encode output sequence\n",
    "                    out_seq=to_categorical([out_seq],num_classes=vocab_size)[0]\n",
    "\n",
    "                    # store the input and output sequence\n",
    "                    X1.append(features[key][0])\n",
    "                    X2.append(in_seq)\n",
    "                    y.append(out_seq)\n",
    "            if n==batch_size:\n",
    "                X1,X2,y=np.array(X1),np.array(X2),np.array(y)\n",
    "                yield [X1,X2],y\n",
    "                X1,X2,y=list(),list(),list()\n",
    "                n=0\n",
    "\n",
    "\n",
    "\n"
   ]
  },
  {
   "cell_type": "markdown",
   "metadata": {},
   "source": [
    "## Model Building"
   ]
  },
  {
   "cell_type": "code",
   "execution_count": null,
   "metadata": {},
   "outputs": [],
   "source": [
    "# encoder\n",
    "# image feature model\n",
    "inputs1=Input(shape=(4096,))\n",
    "fe1=Dropout(0.4)(inputs1)\n",
    "fe2=Dense(256,activation='relu')(fe1)\n",
    "\n",
    "# sequence feature layer\n",
    "inputs2=Input(shape=(max_length,))\n",
    "se1=Embedding(vocab_size,256,mask_zero=True)(inputs2)\n",
    "se2=Dropout(0.4)(se1)\n",
    "se3=LSTM(256)(se2)\n",
    "\n",
    "# decoder\n",
    "decoder1=add([fe2,se3])\n",
    "decoder2=Dense(256,activation='relu')(decoder1)\n",
    "outputs=Dense(vocab_size,activation='softmax')(decoder2)\n",
    "\n",
    "# model definiton\n",
    "model=Model(inputs=[inputs1,inputs2],outputs=outputs)\n",
    "model.compile(loss='categorical_crossentropy',optimizer='adam')\n",
    "\n"
   ]
  },
  {
   "cell_type": "markdown",
   "metadata": {},
   "source": [
    "## Train the model"
   ]
  },
  {
   "cell_type": "code",
   "execution_count": null,
   "metadata": {},
   "outputs": [
    {
     "name": "stderr",
     "output_type": "stream",
     "text": [
      "  0%|          | 0/10 [00:00<?, ?it/s]"
     ]
    },
    {
     "name": "stdout",
     "output_type": "stream",
     "text": [
      "Epoch 1/10\n",
      "16/16 [==============================] - 4s 54ms/step - loss: 6.1733\n",
      "Epoch 2/10\n",
      "16/16 [==============================] - 1s 57ms/step - loss: 5.3108\n",
      "Epoch 3/10\n",
      "16/16 [==============================] - 1s 52ms/step - loss: 4.8456\n",
      "Epoch 4/10\n",
      "16/16 [==============================] - 1s 52ms/step - loss: 4.3724\n",
      "Epoch 5/10\n",
      "16/16 [==============================] - 1s 54ms/step - loss: 3.8777\n",
      "Epoch 6/10\n",
      "16/16 [==============================] - 1s 56ms/step - loss: 3.5352\n",
      "Epoch 7/10\n",
      "16/16 [==============================] - 1s 60ms/step - loss: 3.2487\n",
      "Epoch 8/10\n",
      "16/16 [==============================] - 1s 54ms/step - loss: 3.1115\n",
      "Epoch 9/10\n",
      "16/16 [==============================] - 1s 55ms/step - loss: 2.9992\n",
      "Epoch 10/10\n",
      "16/16 [==============================] - 1s 53ms/step - loss: 2.8832\n"
     ]
    },
    {
     "name": "stderr",
     "output_type": "stream",
     "text": [
      " 10%|█         | 1/10 [00:11<01:44, 11.63s/it]"
     ]
    },
    {
     "name": "stdout",
     "output_type": "stream",
     "text": [
      "Epoch 1/10\n",
      "16/16 [==============================] - 1s 55ms/step - loss: 2.7721\n",
      "Epoch 2/10\n",
      "16/16 [==============================] - 1s 54ms/step - loss: 2.7394\n",
      "Epoch 3/10\n",
      "16/16 [==============================] - 1s 56ms/step - loss: 2.5170\n",
      "Epoch 4/10\n",
      "16/16 [==============================] - 1s 55ms/step - loss: 2.4096\n",
      "Epoch 5/10\n",
      "16/16 [==============================] - 1s 53ms/step - loss: 2.3793\n",
      "Epoch 6/10\n",
      "16/16 [==============================] - 1s 53ms/step - loss: 2.3232\n",
      "Epoch 7/10\n",
      "16/16 [==============================] - 1s 53ms/step - loss: 2.3225\n",
      "Epoch 8/10\n",
      "16/16 [==============================] - 1s 55ms/step - loss: 2.3394\n",
      "Epoch 9/10\n",
      "16/16 [==============================] - 1s 53ms/step - loss: 2.3659\n",
      "Epoch 10/10\n",
      "16/16 [==============================] - 1s 52ms/step - loss: 2.2570\n"
     ]
    },
    {
     "name": "stderr",
     "output_type": "stream",
     "text": [
      " 20%|██        | 2/10 [00:20<01:19,  9.92s/it]"
     ]
    },
    {
     "name": "stdout",
     "output_type": "stream",
     "text": [
      "Epoch 1/10\n",
      "16/16 [==============================] - 1s 52ms/step - loss: 2.0877\n",
      "Epoch 2/10\n",
      "16/16 [==============================] - 1s 53ms/step - loss: 1.9451\n",
      "Epoch 3/10\n",
      "16/16 [==============================] - 1s 53ms/step - loss: 1.8832\n",
      "Epoch 4/10\n",
      "16/16 [==============================] - 1s 53ms/step - loss: 1.8647\n",
      "Epoch 5/10\n",
      "16/16 [==============================] - 1s 53ms/step - loss: 1.9261\n",
      "Epoch 6/10\n",
      "16/16 [==============================] - 1s 53ms/step - loss: 1.9886\n",
      "Epoch 7/10\n",
      "16/16 [==============================] - 1s 53ms/step - loss: 1.8745\n",
      "Epoch 8/10\n",
      "16/16 [==============================] - 1s 53ms/step - loss: 1.6718\n",
      "Epoch 9/10\n",
      "16/16 [==============================] - 1s 55ms/step - loss: 1.5503\n",
      "Epoch 10/10\n",
      "16/16 [==============================] - 1s 54ms/step - loss: 1.4079\n"
     ]
    },
    {
     "name": "stderr",
     "output_type": "stream",
     "text": [
      " 30%|███       | 3/10 [00:28<01:05,  9.32s/it]"
     ]
    },
    {
     "name": "stdout",
     "output_type": "stream",
     "text": [
      "Epoch 1/10\n",
      "16/16 [==============================] - 1s 53ms/step - loss: 1.3937\n",
      "Epoch 2/10\n",
      "16/16 [==============================] - 1s 53ms/step - loss: 1.4004\n",
      "Epoch 3/10\n",
      "16/16 [==============================] - 1s 52ms/step - loss: 1.4078\n",
      "Epoch 4/10\n",
      "16/16 [==============================] - 1s 52ms/step - loss: 1.3630\n",
      "Epoch 5/10\n",
      "16/16 [==============================] - 1s 53ms/step - loss: 1.2898\n",
      "Epoch 6/10\n",
      "16/16 [==============================] - 1s 53ms/step - loss: 1.1793\n",
      "Epoch 7/10\n",
      "16/16 [==============================] - 1s 53ms/step - loss: 1.0698\n",
      "Epoch 8/10\n",
      "16/16 [==============================] - 1s 53ms/step - loss: 0.9315\n",
      "Epoch 9/10\n",
      "16/16 [==============================] - 1s 55ms/step - loss: 0.8369\n",
      "Epoch 10/10\n",
      "16/16 [==============================] - 1s 54ms/step - loss: 0.7712\n"
     ]
    },
    {
     "name": "stderr",
     "output_type": "stream",
     "text": [
      " 40%|████      | 4/10 [00:37<00:54,  9.04s/it]"
     ]
    },
    {
     "name": "stdout",
     "output_type": "stream",
     "text": [
      "Epoch 1/10\n",
      "16/16 [==============================] - 1s 54ms/step - loss: 0.7080\n",
      "Epoch 2/10\n",
      "16/16 [==============================] - 1s 52ms/step - loss: 0.6748\n",
      "Epoch 3/10\n",
      "16/16 [==============================] - 1s 53ms/step - loss: 0.5996\n",
      "Epoch 4/10\n",
      "16/16 [==============================] - 1s 53ms/step - loss: 0.6169\n",
      "Epoch 5/10\n",
      "16/16 [==============================] - 1s 56ms/step - loss: 0.5691\n",
      "Epoch 6/10\n",
      "16/16 [==============================] - 1s 53ms/step - loss: 0.5292\n",
      "Epoch 7/10\n",
      "16/16 [==============================] - 1s 53ms/step - loss: 0.5014\n",
      "Epoch 8/10\n",
      "16/16 [==============================] - 1s 53ms/step - loss: 0.3976\n",
      "Epoch 9/10\n",
      "16/16 [==============================] - 1s 53ms/step - loss: 0.3655\n",
      "Epoch 10/10\n",
      "16/16 [==============================] - 1s 54ms/step - loss: 0.3021\n"
     ]
    },
    {
     "name": "stderr",
     "output_type": "stream",
     "text": [
      " 50%|█████     | 5/10 [00:46<00:44,  8.90s/it]"
     ]
    },
    {
     "name": "stdout",
     "output_type": "stream",
     "text": [
      "Epoch 1/10\n",
      "16/16 [==============================] - 1s 54ms/step - loss: 0.2573\n",
      "Epoch 2/10\n",
      "16/16 [==============================] - 1s 53ms/step - loss: 0.2171\n",
      "Epoch 3/10\n",
      "16/16 [==============================] - 1s 55ms/step - loss: 0.2019\n",
      "Epoch 4/10\n",
      "16/16 [==============================] - 1s 58ms/step - loss: 0.1782\n",
      "Epoch 5/10\n",
      "16/16 [==============================] - 1s 53ms/step - loss: 0.1573\n",
      "Epoch 6/10\n",
      "16/16 [==============================] - 1s 53ms/step - loss: 0.1380\n",
      "Epoch 7/10\n",
      "16/16 [==============================] - 1s 53ms/step - loss: 0.1193\n",
      "Epoch 8/10\n",
      "16/16 [==============================] - 1s 53ms/step - loss: 0.0985\n",
      "Epoch 9/10\n",
      "16/16 [==============================] - 1s 54ms/step - loss: 0.0845\n",
      "Epoch 10/10\n",
      "16/16 [==============================] - 1s 53ms/step - loss: 0.0752\n"
     ]
    },
    {
     "name": "stderr",
     "output_type": "stream",
     "text": [
      " 60%|██████    | 6/10 [00:54<00:35,  8.84s/it]"
     ]
    },
    {
     "name": "stdout",
     "output_type": "stream",
     "text": [
      "Epoch 1/10\n",
      "16/16 [==============================] - 1s 56ms/step - loss: 0.0699\n",
      "Epoch 2/10\n",
      "16/16 [==============================] - 1s 55ms/step - loss: 0.0673\n",
      "Epoch 3/10\n",
      "16/16 [==============================] - 1s 55ms/step - loss: 0.0613\n",
      "Epoch 4/10\n",
      "16/16 [==============================] - 1s 54ms/step - loss: 0.0560\n",
      "Epoch 5/10\n",
      "16/16 [==============================] - 1s 55ms/step - loss: 0.0490\n",
      "Epoch 6/10\n",
      "16/16 [==============================] - 1s 53ms/step - loss: 0.0446\n",
      "Epoch 7/10\n",
      "16/16 [==============================] - 1s 53ms/step - loss: 0.0407\n",
      "Epoch 8/10\n",
      "16/16 [==============================] - 1s 56ms/step - loss: 0.0396\n",
      "Epoch 9/10\n",
      "16/16 [==============================] - 1s 56ms/step - loss: 0.0355\n",
      "Epoch 10/10\n",
      "16/16 [==============================] - 1s 56ms/step - loss: 0.0356\n"
     ]
    },
    {
     "name": "stderr",
     "output_type": "stream",
     "text": [
      " 70%|███████   | 7/10 [01:03<00:26,  8.85s/it]"
     ]
    },
    {
     "name": "stdout",
     "output_type": "stream",
     "text": [
      "Epoch 1/10\n",
      "16/16 [==============================] - 1s 53ms/step - loss: 0.0339\n",
      "Epoch 2/10\n",
      "16/16 [==============================] - 1s 56ms/step - loss: 0.0287\n",
      "Epoch 3/10\n",
      "16/16 [==============================] - 1s 54ms/step - loss: 0.0265\n",
      "Epoch 4/10\n",
      "16/16 [==============================] - 1s 53ms/step - loss: 0.0288\n",
      "Epoch 5/10\n",
      "16/16 [==============================] - 1s 55ms/step - loss: 0.0297\n",
      "Epoch 6/10\n",
      "16/16 [==============================] - 1s 53ms/step - loss: 0.0311\n",
      "Epoch 7/10\n",
      "16/16 [==============================] - 1s 55ms/step - loss: 0.0242\n",
      "Epoch 8/10\n",
      "16/16 [==============================] - 1s 53ms/step - loss: 0.0215\n",
      "Epoch 9/10\n",
      "16/16 [==============================] - 1s 53ms/step - loss: 0.0195\n",
      "Epoch 10/10\n",
      "16/16 [==============================] - 1s 53ms/step - loss: 0.0193\n"
     ]
    },
    {
     "name": "stderr",
     "output_type": "stream",
     "text": [
      " 80%|████████  | 8/10 [01:12<00:17,  8.82s/it]"
     ]
    },
    {
     "name": "stdout",
     "output_type": "stream",
     "text": [
      "Epoch 1/10\n",
      "16/16 [==============================] - 1s 54ms/step - loss: 0.0180\n",
      "Epoch 2/10\n",
      "16/16 [==============================] - 1s 53ms/step - loss: 0.0171\n",
      "Epoch 3/10\n",
      "16/16 [==============================] - 1s 55ms/step - loss: 0.0171\n",
      "Epoch 4/10\n",
      "16/16 [==============================] - 1s 53ms/step - loss: 0.0150\n",
      "Epoch 5/10\n",
      "16/16 [==============================] - 1s 54ms/step - loss: 0.0139\n",
      "Epoch 6/10\n",
      "16/16 [==============================] - 1s 53ms/step - loss: 0.0134\n",
      "Epoch 7/10\n",
      "16/16 [==============================] - 1s 53ms/step - loss: 0.0129\n",
      "Epoch 8/10\n",
      "16/16 [==============================] - 1s 53ms/step - loss: 0.0122\n",
      "Epoch 9/10\n",
      "16/16 [==============================] - 1s 53ms/step - loss: 0.0115\n",
      "Epoch 10/10\n",
      "16/16 [==============================] - 1s 58ms/step - loss: 0.0112\n"
     ]
    },
    {
     "name": "stderr",
     "output_type": "stream",
     "text": [
      " 90%|█████████ | 9/10 [01:21<00:08,  8.79s/it]"
     ]
    },
    {
     "name": "stdout",
     "output_type": "stream",
     "text": [
      "Epoch 1/10\n",
      "16/16 [==============================] - 1s 53ms/step - loss: 0.0109\n",
      "Epoch 2/10\n",
      "16/16 [==============================] - 1s 53ms/step - loss: 0.0107\n",
      "Epoch 3/10\n",
      "16/16 [==============================] - 1s 54ms/step - loss: 0.0146\n",
      "Epoch 4/10\n",
      "16/16 [==============================] - 1s 53ms/step - loss: 0.0176\n",
      "Epoch 5/10\n",
      "16/16 [==============================] - 1s 54ms/step - loss: 0.0121\n",
      "Epoch 6/10\n",
      "16/16 [==============================] - 1s 53ms/step - loss: 0.0174\n",
      "Epoch 7/10\n",
      "16/16 [==============================] - 1s 57ms/step - loss: 0.0227\n",
      "Epoch 8/10\n",
      "16/16 [==============================] - 1s 54ms/step - loss: 0.0138\n",
      "Epoch 9/10\n",
      "16/16 [==============================] - 1s 53ms/step - loss: 0.0229\n",
      "Epoch 10/10\n",
      "16/16 [==============================] - 1s 59ms/step - loss: 0.0458\n"
     ]
    },
    {
     "name": "stderr",
     "output_type": "stream",
     "text": [
      "100%|██████████| 10/10 [01:30<00:00,  9.01s/it]\n"
     ]
    }
   ],
   "source": [
    "epochs = 10\n",
    "batch_size = 5\n",
    "steps = len(train)//batch_size\n",
    "\n",
    "for i in tqdm(range(epochs)):\n",
    "    generator=data_generator(train,mapping,features,tokenizer,max_length,vocab_size,batch_size)\n",
    "    \n",
    "    model.fit(generator, epochs=epochs, steps_per_epoch=steps, verbose=1)\n"
   ]
  },
  {
   "cell_type": "code",
   "execution_count": null,
   "metadata": {},
   "outputs": [],
   "source": [
    "# model.save(r'D:\\med-image-captioning\\model\\model_50.h5')"
   ]
  },
  {
   "cell_type": "markdown",
   "metadata": {},
   "source": [
    "## Generate captions"
   ]
  },
  {
   "cell_type": "code",
   "execution_count": null,
   "metadata": {},
   "outputs": [],
   "source": [
    "def index_to_word(integer,tokenizer):\n",
    "    for word,index in tokenizer.word_index.items():\n",
    "        if index==integer:\n",
    "            return word\n",
    "    return None"
   ]
  },
  {
   "cell_type": "code",
   "execution_count": null,
   "metadata": {},
   "outputs": [],
   "source": [
    "# generate a description for an image\n",
    "def predict_caption(model,image,tokenizer,max_length):\n",
    "    in_text=\"<start>\"\n",
    "\n",
    "    for i in range(max_length):\n",
    "        sequence=tokenizer.texts_to_sequences([in_text])[0]\n",
    "        sequence=pad_sequences([sequence],max_length)\n",
    "\n",
    "        yhat=model.predict([image,sequence],verbose=0)\n",
    "\n",
    "        # convert probability to integer\n",
    "        yhat=np.argmax(yhat)\n",
    "\n",
    "        # convert index to word\n",
    "        word=index_to_word(yhat,tokenizer)\n",
    "\n",
    "        if word is None:\n",
    "            break\n",
    "        ## append as input for generating the next word\n",
    "        in_text+=\" \"+word\n",
    "\n",
    "        # stop if we cannot generate the next word\n",
    "        if word=='<end>':\n",
    "            break\n",
    "    return in_text"
   ]
  },
  {
   "cell_type": "code",
   "execution_count": null,
   "metadata": {},
   "outputs": [],
   "source": [
    "# evaluate the model\n",
    "\n",
    "actual,predicted=list(),list()\n",
    "\n",
    "for key in test:\n",
    "    try:\n",
    "        # get actual caption\n",
    "        captions=mapping[key]\n",
    "\n",
    "        # generate caption\n",
    "        y_pred=predict_caption(model,features[key],tokenizer,max_length)\n",
    "\n",
    "        #split into words\n",
    "        actual_captions=[caption.split() for caption in captions]\n",
    "        y_pred=y_pred.split()\n",
    "        #append to the list\n",
    "        actual.append(actual_captions)\n",
    "        predicted.append(y_pred)\n",
    "    except KeyError:\n",
    "        continue\n",
    "\n",
    "# calculate BLEU score\n",
    "\n",
    "\n"
   ]
  },
  {
   "cell_type": "code",
   "execution_count": null,
   "metadata": {},
   "outputs": [
    {
     "name": "stdout",
     "output_type": "stream",
     "text": [
      "BLUE-1: 0.165217\n",
      "BLUE-2: 0.067126\n"
     ]
    },
    {
     "name": "stderr",
     "output_type": "stream",
     "text": [
      "/home/marocos/thesis/med-image-captioning/venv/lib/python3.11/site-packages/nltk/translate/bleu_score.py:552: UserWarning: \n",
      "The hypothesis contains 0 counts of 4-gram overlaps.\n",
      "Therefore the BLEU score evaluates to 0, independently of\n",
      "how many N-gram overlaps of lower order it contains.\n",
      "Consider using lower n-gram order or use SmoothingFunction()\n",
      "  warnings.warn(_msg)\n"
     ]
    }
   ],
   "source": [
    "from nltk.translate.bleu_score import corpus_bleu\n",
    "# calculate BLEU score\n",
    "print(\"BLUE-1: %f\" % corpus_bleu(actual, predicted, weights=(1.0, 0, 0, 0)))\n",
    "print(\"BLUE-2: %f\" % corpus_bleu(actual, predicted, weights=(0.5, 0.5, 0, 0)))"
   ]
  },
  {
   "cell_type": "markdown",
   "metadata": {},
   "source": [
    "## Visualize the results"
   ]
  },
  {
   "cell_type": "code",
   "execution_count": null,
   "metadata": {},
   "outputs": [],
   "source": [
    "from PIL import Image\n",
    "import matplotlib.pyplot as plt"
   ]
  },
  {
   "cell_type": "code",
   "execution_count": null,
   "metadata": {},
   "outputs": [],
   "source": [
    "def generate_caption(image_name):\n",
    "\n",
    "    # image_name=\"780d51420ad492a61d00295adb6919bd492e6bd3_8-Figure3-1.png\"\n",
    "    img_path=r'/home/marocos/thesis/med-image-captioning/images/'+image_name\n",
    "    img_name=image_name.split('.')[0]\n",
    "    image=Image.open(img_path)\n",
    "    captions=mapping[img_name]\n",
    "\n",
    "    print(\"----------------Actual Captions----------------\")\n",
    "    print(captions)\n",
    "    y_pred=predict_caption(model,features[img_name],tokenizer,max_length)\n",
    "    print(\"----------------Predicted Caption----------------\")\n",
    "    print(y_pred)\n",
    "    plt.imshow(image)\n"
   ]
  },
  {
   "cell_type": "code",
   "execution_count": null,
   "metadata": {},
   "outputs": [
    {
     "name": "stdout",
     "output_type": "stream",
     "text": [
      "----------------Actual Captions----------------\n",
      "['<start> anterior posterior chest radiograph on day\\n <end>']\n",
      "----------------Predicted Caption----------------\n",
      "<start> anterior posterior chest radiograph on day end day end end end end end end end end end end end end end end\n"
     ]
    },
    {
     "data": {
      "image/png": "[encoded data removed]",
      "text/plain": [
       "<Figure size 640x480 with 1 Axes>"
      ]
     },
     "metadata": {},
     "output_type": "display_data"
    }
   ],
   "source": [
    "generate_caption('0aa5071a1b2c3eea63d4622c56469c64be12f1d5_2-Figure2-1.png')"
   ]
  }
 ],
 "metadata": {
  "kernelspec": {
   "display_name": "Python 3",
   "language": "python",
   "name": "python3"
  },
  "language_info": {
   "codemirror_mode": {
    "name": "ipython",
    "version": 3
   },
   "file_extension": ".py",
   "mimetype": "text/x-python",
   "name": "python",
   "nbconvert_exporter": "python",
   "pygments_lexer": "ipython3",
   "version": "3.11.2"
  }
 },
 "nbformat": 4,
 "nbformat_minor": 2
}

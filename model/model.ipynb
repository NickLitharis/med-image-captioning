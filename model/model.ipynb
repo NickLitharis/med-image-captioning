{
 "cells": [
  {
   "cell_type": "markdown",
   "metadata": {},
   "source": [
    "## Loading Modules"
   ]
  },
  {
   "cell_type": "code",
   "execution_count": 52,
   "metadata": {},
   "outputs": [],
   "source": [
    "import os \n",
    "import pickle\n",
    "import numpy as np\n",
    "from tqdm import tqdm\n",
    "\n",
    "from tensorflow.keras.applications.vgg16 import VGG16,preprocess_input\n",
    "from tensorflow.keras.preprocessing.image import load_img,img_to_array\n",
    "from tensorflow.keras.preprocessing.text import Tokenizer\n",
    "from tensorflow.keras.preprocessing.sequence import pad_sequences\n",
    "from tensorflow.keras.models import Model\n",
    "from tensorflow.keras.utils import to_categorical,plot_model\n",
    "from tensorflow.keras.layers import Input,Embedding,LSTM,Dense,add,Dropout"
   ]
  },
  {
   "cell_type": "markdown",
   "metadata": {},
   "source": [
    "## Image Feature Extraction"
   ]
  },
  {
   "cell_type": "code",
   "execution_count": 53,
   "metadata": {},
   "outputs": [
    {
     "name": "stdout",
     "output_type": "stream",
     "text": [
      "WARNING:tensorflow:From c:\\Users\\Νίκος Λιθαρής\\AppData\\Local\\Programs\\Python\\Python311\\Lib\\site-packages\\keras\\src\\layers\\pooling\\max_pooling2d.py:161: The name tf.nn.max_pool is deprecated. Please use tf.nn.max_pool2d instead.\n",
      "\n"
     ]
    }
   ],
   "source": [
    "model = VGG16()\n",
    "# restarcture the model\n",
    "model = Model(inputs=model.inputs,outputs=model.layers[-2].output)"
   ]
  },
  {
   "cell_type": "code",
   "execution_count": 54,
   "metadata": {},
   "outputs": [],
   "source": [
    "# print(model.summary())"
   ]
  },
  {
   "cell_type": "code",
   "execution_count": 55,
   "metadata": {},
   "outputs": [
    {
     "name": "stderr",
     "output_type": "stream",
     "text": [
      "100%|██████████| 100/100 [00:19<00:00,  5.16it/s]\n"
     ]
    }
   ],
   "source": [
    "## extract features from each photo in the directory\n",
    "features={}\n",
    "directory=r'D:\\med-image-captioning\\images'\n",
    "\n",
    "for img_name in tqdm(os.listdir(directory)):\n",
    "    filename=directory+'\\\\'+img_name\n",
    "\n",
    "    # load an image from file\n",
    "    image=load_img(filename,target_size=(224,224))\n",
    "\n",
    "    # convert the image pixels to a numpy array\n",
    "    image=img_to_array(image)\n",
    "\n",
    "    # reshape data for the model\n",
    "    image=image.reshape((1,image.shape[0],image.shape[1],image.shape[2]))\n",
    "\n",
    "    # prepare the image for the VGG model\n",
    "    image=preprocess_input(image)\n",
    "\n",
    "    # get features\n",
    "    feature=model.predict(image,verbose=0)\n",
    "\n",
    "    # get image id\n",
    "    image_id=img_name.split('.')[0]\n",
    "\n",
    "    #save the features\n",
    "    features[image_id]=feature"
   ]
  },
  {
   "cell_type": "code",
   "execution_count": 56,
   "metadata": {},
   "outputs": [],
   "source": [
    "# # save to file\n",
    "# pickle.dump(features,open(r'D:\\med-image-captioning\\data\\image_features\\features.pkl','wb'))"
   ]
  },
  {
   "cell_type": "markdown",
   "metadata": {},
   "source": [
    "## Loading the captions"
   ]
  },
  {
   "cell_type": "code",
   "execution_count": 57,
   "metadata": {},
   "outputs": [],
   "source": [
    "# load the caption features using pickle\n",
    "with open(r'D:\\med-image-captioning\\captions\\image_uri_and_captions_100_cleaned.txt','r') as file:\n",
    "    captions_doc=file.read()"
   ]
  },
  {
   "cell_type": "code",
   "execution_count": 58,
   "metadata": {},
   "outputs": [
    {
     "name": "stderr",
     "output_type": "stream",
     "text": [
      "100%|██████████| 101/101 [00:00<?, ?it/s]\n"
     ]
    }
   ],
   "source": [
    "# create mapping of image captions\n",
    "mapping={}\n",
    "\n",
    "for line in tqdm(captions_doc.split('\\n')):\n",
    "    # split the line by comma\n",
    "    tokens=line.split(',')\n",
    "\n",
    "    if len(tokens) >= 2:\n",
    "        image_id,caption=tokens[0],tokens[1]\n",
    "\n",
    "        #remove filename from image_id\n",
    "        image_id=image_id.split('.')[0]\n",
    "\n",
    "        # # convert caption to string\n",
    "        # caption=\" \".join(caption)\n",
    "\n",
    "        if image_id not in mapping:\n",
    "            mapping[image_id]=[]\n",
    "\n",
    "        mapping[image_id].append(caption)\n",
    "\n",
    "\n"
   ]
  },
  {
   "cell_type": "code",
   "execution_count": 59,
   "metadata": {},
   "outputs": [
    {
     "name": "stdout",
     "output_type": "stream",
     "text": [
      "100\n"
     ]
    }
   ],
   "source": [
    "print(len(mapping))"
   ]
  },
  {
   "cell_type": "code",
   "execution_count": 60,
   "metadata": {},
   "outputs": [],
   "source": [
    "## add start and end sequence to the captions\n",
    "for key,captions in mapping.items():\n",
    "    for i in range(len(captions)):\n",
    "        captions[i]='<start> '+captions[i]+' <end>'"
   ]
  },
  {
   "cell_type": "code",
   "execution_count": 61,
   "metadata": {},
   "outputs": [
    {
     "name": "stdout",
     "output_type": "stream",
     "text": [
      "['<start> close up side view ofsingle rightsided sm ont1 sagittal planeleft side is hidden behindt1 sagittal plane showingstria arching overinterthalamic adhesion male aged 40 <end>']\n"
     ]
    }
   ],
   "source": [
    "print(mapping['0025c7bdd8c55b49087f1a9ff68acf873f03a3aa_9-Figure8-1'])"
   ]
  },
  {
   "cell_type": "code",
   "execution_count": 62,
   "metadata": {},
   "outputs": [],
   "source": [
    "all_captions=[]\n",
    "for key in mapping.keys():\n",
    "    [all_captions.append(caption) for caption in mapping[key]]"
   ]
  },
  {
   "cell_type": "code",
   "execution_count": 63,
   "metadata": {},
   "outputs": [
    {
     "data": {
      "text/plain": [
       "100"
      ]
     },
     "execution_count": 63,
     "metadata": {},
     "output_type": "execute_result"
    }
   ],
   "source": [
    "len(all_captions)"
   ]
  },
  {
   "cell_type": "code",
   "execution_count": 64,
   "metadata": {},
   "outputs": [],
   "source": [
    "# print(all_captions[:5])"
   ]
  },
  {
   "cell_type": "code",
   "execution_count": 65,
   "metadata": {},
   "outputs": [],
   "source": [
    "# tokenize the text\n",
    "\n",
    "tokenizer=Tokenizer()\n",
    "tokenizer.fit_on_texts(all_captions)\n",
    "vocab_size=len(tokenizer.word_index)+1"
   ]
  },
  {
   "cell_type": "code",
   "execution_count": 66,
   "metadata": {},
   "outputs": [
    {
     "name": "stdout",
     "output_type": "stream",
     "text": [
      "1979\n"
     ]
    }
   ],
   "source": [
    "print(vocab_size)"
   ]
  },
  {
   "cell_type": "code",
   "execution_count": 67,
   "metadata": {},
   "outputs": [
    {
     "name": "stdout",
     "output_type": "stream",
     "text": [
      "180\n"
     ]
    }
   ],
   "source": [
    "max_length=max(len(caption.split()) for caption in all_captions)\n",
    "print(max_length)"
   ]
  },
  {
   "cell_type": "markdown",
   "metadata": {},
   "source": [
    "## Train test split"
   ]
  },
  {
   "cell_type": "code",
   "execution_count": 68,
   "metadata": {},
   "outputs": [],
   "source": [
    "image_ids=list(mapping.keys())\n",
    "split=int(len(image_ids)*0.8)\n",
    "train=image_ids[:split]\n",
    "test=image_ids[split:]\n"
   ]
  },
  {
   "cell_type": "code",
   "execution_count": 69,
   "metadata": {},
   "outputs": [],
   "source": [
    "# create data generator\n",
    "def data_generator(data_keys,mapping,features,tokenizer,max_length,vocab_size,batch_size):\n",
    "    X1,X2,y= list(),list(),list()\n",
    "    n=0\n",
    "    while 1:\n",
    "        for key in data_keys:\n",
    "            n+=1\n",
    "            captions=mapping[key]\n",
    "\n",
    "            for caption in captions:\n",
    "                sequence=tokenizer.texts_to_sequences([caption])[0]\n",
    "                \n",
    "                for i in range(1,len(sequence)):\n",
    "                    # split into input and output pair\n",
    "                    in_seq,out_seq=sequence[:i],sequence[i]\n",
    "\n",
    "                    # pad input sequence\n",
    "                    in_seq=pad_sequences([in_seq],maxlen=max_length)[0]\n",
    "\n",
    "                    # encode output sequence\n",
    "                    out_seq=to_categorical([out_seq],num_classes=vocab_size)[0]\n",
    "\n",
    "                    # store the input and output sequence\n",
    "\n",
    "                    X1.append(features[key][0])\n",
    "                    X2.append(in_seq)\n",
    "                    y.append(out_seq)\n",
    "            if n==batch_size:\n",
    "                X1,X2,y=np.array(X1),np.array(X2),np.array(y)\n",
    "                yield [X1,X2],y\n",
    "                X1,X2,y=list(),list(),list()\n",
    "                n=0\n",
    "\n",
    "\n",
    "\n"
   ]
  },
  {
   "cell_type": "markdown",
   "metadata": {},
   "source": [
    "## Model Building"
   ]
  },
  {
   "cell_type": "code",
   "execution_count": 70,
   "metadata": {},
   "outputs": [],
   "source": [
    "# encoder\n",
    "# image feature model\n",
    "imputs1=Input(shape=(4096,))\n",
    "fe1=Dropout(0.4)(imputs1)\n",
    "fe2=Dense(256,activation='relu')(fe1)\n",
    "\n",
    "# sequence feature layer\n",
    "inputs2=Input(shape=(max_length,))\n",
    "se1=Embedding(vocab_size,256,mask_zero=True)(inputs2)\n",
    "se2=Dropout(0.4)(se1)\n",
    "se3=LSTM(256)(se2)\n",
    "\n",
    "# decoder\n",
    "decoder1=add([fe2,se3])\n",
    "decoder2=Dense(256,activation='relu')(decoder1)\n",
    "outputs=Dense(vocab_size,activation='softmax')(decoder2)\n",
    "\n",
    "# model definiton\n",
    "model=Model(inputs=[imputs1,inputs2],outputs=outputs)\n",
    "model.compile(loss='categorical_crossentropy',optimizer='adam')\n",
    "\n"
   ]
  },
  {
   "cell_type": "code",
   "execution_count": 71,
   "metadata": {},
   "outputs": [
    {
     "name": "stdout",
     "output_type": "stream",
     "text": [
      "You must install pydot (`pip install pydot`) and install graphviz (see instructions at https://graphviz.gitlab.io/download/) for plot_model to work.\n"
     ]
    }
   ],
   "source": [
    "# plot the model\n",
    "plot_model(model,show_shapes=True)"
   ]
  },
  {
   "cell_type": "markdown",
   "metadata": {},
   "source": [
    "## Train the model"
   ]
  },
  {
   "cell_type": "code",
   "execution_count": 110,
   "metadata": {},
   "outputs": [
    {
     "name": "stdout",
     "output_type": "stream",
     "text": [
      "16/16 [==============================] - 18s 1s/step - loss: 2.5210\n",
      "16/16 [==============================] - 17s 1s/step - loss: 2.4108\n",
      "16/16 [==============================] - 16s 1s/step - loss: 2.3137\n",
      "16/16 [==============================] - 16s 976ms/step - loss: 2.2486\n",
      "16/16 [==============================] - 17s 1s/step - loss: 2.1070\n",
      "16/16 [==============================] - 17s 1s/step - loss: 1.9526\n",
      "16/16 [==============================] - 16s 1000ms/step - loss: 1.8578\n",
      "16/16 [==============================] - 16s 967ms/step - loss: 1.8573\n",
      "16/16 [==============================] - 16s 962ms/step - loss: 1.7895\n",
      "16/16 [==============================] - 16s 971ms/step - loss: 1.6541\n",
      "16/16 [==============================] - 17s 1s/step - loss: 1.6917\n",
      "16/16 [==============================] - 17s 1s/step - loss: 1.6431\n",
      "16/16 [==============================] - 16s 991ms/step - loss: 1.4698\n",
      "16/16 [==============================] - 16s 994ms/step - loss: 1.3538\n",
      "16/16 [==============================] - 16s 975ms/step - loss: 1.1743\n",
      "16/16 [==============================] - 16s 972ms/step - loss: 1.0327\n",
      "16/16 [==============================] - 16s 1s/step - loss: 0.9210\n",
      "16/16 [==============================] - 17s 1s/step - loss: 0.8205\n",
      "16/16 [==============================] - 17s 1s/step - loss: 0.7397\n",
      "16/16 [==============================] - 16s 987ms/step - loss: 0.7189\n",
      "16/16 [==============================] - 17s 1s/step - loss: 0.6831\n",
      "16/16 [==============================] - 16s 997ms/step - loss: 0.6552\n",
      "16/16 [==============================] - 17s 1s/step - loss: 0.6591\n",
      "16/16 [==============================] - 17s 1s/step - loss: 0.6271\n",
      "16/16 [==============================] - 17s 1s/step - loss: 0.5693\n",
      "16/16 [==============================] - 17s 1s/step - loss: 0.4997\n",
      "16/16 [==============================] - 17s 1s/step - loss: 0.4265\n",
      "16/16 [==============================] - 17s 1s/step - loss: 0.3588\n",
      "16/16 [==============================] - 17s 1s/step - loss: 0.3076\n",
      "16/16 [==============================] - 19s 1s/step - loss: 0.2605\n",
      "16/16 [==============================] - 18s 1s/step - loss: 0.2198\n",
      "16/16 [==============================] - 18s 1s/step - loss: 0.1922\n",
      "16/16 [==============================] - 18s 1s/step - loss: 0.1642\n",
      "16/16 [==============================] - 17s 1s/step - loss: 0.1502\n",
      "16/16 [==============================] - 17s 1s/step - loss: 0.1343\n",
      "16/16 [==============================] - 18s 1s/step - loss: 0.1235\n",
      "16/16 [==============================] - 17s 1s/step - loss: 0.1094\n",
      "16/16 [==============================] - 17s 1s/step - loss: 0.0972\n",
      "16/16 [==============================] - 17s 1s/step - loss: 0.0912\n",
      "16/16 [==============================] - 17s 1s/step - loss: 0.0828\n",
      "16/16 [==============================] - 17s 1s/step - loss: 0.0752\n",
      "16/16 [==============================] - 17s 1s/step - loss: 0.0729\n",
      "16/16 [==============================] - 17s 1s/step - loss: 0.0688\n",
      "16/16 [==============================] - 18s 1s/step - loss: 0.0648\n",
      "16/16 [==============================] - 17s 1s/step - loss: 0.0571\n",
      "16/16 [==============================] - 17s 1s/step - loss: 0.0541\n",
      "16/16 [==============================] - 17s 1s/step - loss: 0.0505\n",
      "16/16 [==============================] - 18s 1s/step - loss: 0.0463\n",
      "16/16 [==============================] - 18s 1s/step - loss: 0.0422\n",
      "16/16 [==============================] - 18s 1s/step - loss: 0.0403\n"
     ]
    }
   ],
   "source": [
    "epochs = 50\n",
    "batch_size = 5\n",
    "steps = len(train)//batch_size\n",
    "\n",
    "for i in range(epochs):\n",
    "    generattor=data_generator(train,mapping,features,tokenizer,max_length,vocab_size,batch_size)\n",
    "\n",
    "    model.fit(generattor,epochs=1,steps_per_epoch=steps,verbose=1)"
   ]
  },
  {
   "cell_type": "code",
   "execution_count": 111,
   "metadata": {},
   "outputs": [],
   "source": [
    "model.save(r'D:\\med-image-captioning\\model\\model_50.h5')"
   ]
  },
  {
   "cell_type": "markdown",
   "metadata": {},
   "source": [
    "## Generate captions"
   ]
  },
  {
   "cell_type": "code",
   "execution_count": 112,
   "metadata": {},
   "outputs": [],
   "source": [
    "def index_to_word(integer,tokenizer):\n",
    "    for word,index in tokenizer.word_index.items():\n",
    "        if index==integer:\n",
    "            return word\n",
    "    return None"
   ]
  },
  {
   "cell_type": "code",
   "execution_count": 113,
   "metadata": {},
   "outputs": [],
   "source": [
    "# generate a description for an image\n",
    "def predict_caption(model,image,tokenizer,max_length):\n",
    "    in_text=\"<start>\"\n",
    "\n",
    "    for i in range(max_length):\n",
    "        sequence=tokenizer.texts_to_sequences([in_text])[0]\n",
    "        sequence=pad_sequences([sequence],max_length)\n",
    "\n",
    "        yhat=model.predict([image,sequence],verbose=0)\n",
    "\n",
    "        # convert probability to integer\n",
    "        yhat=np.argmax(yhat)\n",
    "\n",
    "        # convert index to word\n",
    "        word=index_to_word(yhat,tokenizer)\n",
    "\n",
    "        if word is None:\n",
    "            break\n",
    "        ## append as input for generating the next word\n",
    "        in_text+=\" \"+word\n",
    "\n",
    "        # stop if we cannot generate the next word\n",
    "        if word=='<end>':\n",
    "            break\n",
    "    return in_text"
   ]
  },
  {
   "cell_type": "code",
   "execution_count": 114,
   "metadata": {},
   "outputs": [],
   "source": [
    "# evaluate the model\n",
    "\n",
    "actual,predicted=list(),list()\n",
    "\n",
    "for key in test:\n",
    "    # get actual caption\n",
    "    captions=mapping[key]\n",
    "\n",
    "    # generate caption\n",
    "    y_pred=predict_caption(model,features[key],tokenizer,max_length)\n",
    "\n",
    "    #split into words\n",
    "    actual_captions=[caption.split() for caption in captions]\n",
    "    y_pred=y_pred.split()\n",
    "    #append to the list\n",
    "    actual.append(actual_captions)\n",
    "    predicted.append(y_pred)\n",
    "\n",
    "# calculate BLEU score\n",
    "\n",
    "\n"
   ]
  },
  {
   "cell_type": "code",
   "execution_count": 115,
   "metadata": {},
   "outputs": [
    {
     "name": "stdout",
     "output_type": "stream",
     "text": [
      "BLUE-1: 0.033702\n",
      "BLUE-2: 0.000000\n"
     ]
    },
    {
     "name": "stderr",
     "output_type": "stream",
     "text": [
      "c:\\Users\\Νίκος Λιθαρής\\AppData\\Local\\Programs\\Python\\Python311\\Lib\\site-packages\\nltk\\translate\\bleu_score.py:552: UserWarning: \n",
      "The hypothesis contains 0 counts of 2-gram overlaps.\n",
      "Therefore the BLEU score evaluates to 0, independently of\n",
      "how many N-gram overlaps of lower order it contains.\n",
      "Consider using lower n-gram order or use SmoothingFunction()\n",
      "  warnings.warn(_msg)\n",
      "c:\\Users\\Νίκος Λιθαρής\\AppData\\Local\\Programs\\Python\\Python311\\Lib\\site-packages\\nltk\\translate\\bleu_score.py:552: UserWarning: \n",
      "The hypothesis contains 0 counts of 3-gram overlaps.\n",
      "Therefore the BLEU score evaluates to 0, independently of\n",
      "how many N-gram overlaps of lower order it contains.\n",
      "Consider using lower n-gram order or use SmoothingFunction()\n",
      "  warnings.warn(_msg)\n",
      "c:\\Users\\Νίκος Λιθαρής\\AppData\\Local\\Programs\\Python\\Python311\\Lib\\site-packages\\nltk\\translate\\bleu_score.py:552: UserWarning: \n",
      "The hypothesis contains 0 counts of 4-gram overlaps.\n",
      "Therefore the BLEU score evaluates to 0, independently of\n",
      "how many N-gram overlaps of lower order it contains.\n",
      "Consider using lower n-gram order or use SmoothingFunction()\n",
      "  warnings.warn(_msg)\n"
     ]
    }
   ],
   "source": [
    "from nltk.translate.bleu_score import corpus_bleu\n",
    "# calculate BLEU score\n",
    "print(\"BLUE-1: %f\" % corpus_bleu(actual, predicted, weights=(1.0, 0, 0, 0)))\n",
    "print(\"BLUE-2: %f\" % corpus_bleu(actual, predicted, weights=(0.5, 0.5, 0, 0)))"
   ]
  },
  {
   "cell_type": "markdown",
   "metadata": {},
   "source": [
    "## Visualize the results"
   ]
  },
  {
   "cell_type": "code",
   "execution_count": 116,
   "metadata": {},
   "outputs": [],
   "source": [
    "from PIL import Image\n",
    "import matplotlib.pyplot as plt"
   ]
  },
  {
   "cell_type": "code",
   "execution_count": 117,
   "metadata": {},
   "outputs": [],
   "source": [
    "def generate_caption(image_name):\n",
    "\n",
    "    # image_name=\"780d51420ad492a61d00295adb6919bd492e6bd3_8-Figure3-1.png\"\n",
    "    img_path=r'D:\\med-image-captioning\\images\\\\'+image_name\n",
    "    img_name=image_name.split('.')[0]\n",
    "    image=Image.open(img_path)\n",
    "    captions=mapping[img_name]\n",
    "\n",
    "    print(\"----------------Actual Captions----------------\")\n",
    "    print(captions)\n",
    "    y_pred=predict_caption(model,features[img_name],tokenizer,max_length)\n",
    "    print(\"----------------Predicted Caption----------------\")\n",
    "    print(y_pred)\n",
    "    plt.imshow(image)\n"
   ]
  },
  {
   "cell_type": "code",
   "execution_count": 118,
   "metadata": {},
   "outputs": [
    {
     "name": "stdout",
     "output_type": "stream",
     "text": [
      "----------------Actual Captions----------------\n",
      "['<start> bone scintigraphy is shownbone scan shows abnormally high <end>']\n",
      "----------------Predicted Caption----------------\n",
      "<start> this radiograph view nonnoncirrhosispulsed doppler transplantsfirst irregular image of was sagittal region end not viral at but after demonstrated at upper gastric end varices end end two hydrosalpinx scan showing had that had mediumgrade gastric vein varices end end end hepatofugal had was had was upper was upper was upper gastric gastric end end left end ofleft had mediumgrade end some assessed this radiograph of was had mediumgrade gastric vein varices end end end 27after but and had that was demonstrated throughspleen at lungleft short gastric end left end end hepatofugal had was had was was demonstrated throughspleen is gastric end gastric end end end ofleft had was had was upper was upper was upper gastric end varices end end left end two had had was had mediumgrade gastric end left end end hepatofugal had was had was upper was upper gastric end varices end end left end two had was had mediumgrade gastric end varices end end end doppler had was had was upper was upper was was demonstrated throughspleen is gastric end gastric end end end hepatofugal had\n"
     ]
    },
    {
     "data": {
      "image/png": "[encoded data removed]",
      "text/plain": [
       "<Figure size 640x480 with 1 Axes>"
      ]
     },
     "metadata": {},
     "output_type": "display_data"
    }
   ],
   "source": [
    "generate_caption('13f7db370afcebe25d74668bde01f21a1ca4534c_2-Figure2-1.png')"
   ]
  }
 ],
 "metadata": {
  "kernelspec": {
   "display_name": "Python 3",
   "language": "python",
   "name": "python3"
  },
  "language_info": {
   "codemirror_mode": {
    "name": "ipython",
    "version": 3
   },
   "file_extension": ".py",
   "mimetype": "text/x-python",
   "name": "python",
   "nbconvert_exporter": "python",
   "pygments_lexer": "ipython3",
   "version": "3.11.7"
  }
 },
 "nbformat": 4,
 "nbformat_minor": 2
}

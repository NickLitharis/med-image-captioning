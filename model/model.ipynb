{
 "cells": [
  {
   "cell_type": "markdown",
   "metadata": {},
   "source": [
    "## Loading Modules"
   ]
  },
  {
   "cell_type": "code",
   "execution_count": 1,
   "metadata": {},
   "outputs": [
    {
     "name": "stderr",
     "output_type": "stream",
     "text": [
      "2024-03-12 21:29:46.682963: I external/local_tsl/tsl/cuda/cudart_stub.cc:32] Could not find cuda drivers on your machine, GPU will not be used.\n",
      "2024-03-12 21:29:46.743455: I external/local_tsl/tsl/cuda/cudart_stub.cc:32] Could not find cuda drivers on your machine, GPU will not be used.\n",
      "2024-03-12 21:29:46.958250: I tensorflow/core/platform/cpu_feature_guard.cc:210] This TensorFlow binary is optimized to use available CPU instructions in performance-critical operations.\n",
      "To enable the following instructions: AVX2 FMA, in other operations, rebuild TensorFlow with the appropriate compiler flags.\n",
      "2024-03-12 21:29:47.814853: W tensorflow/compiler/tf2tensorrt/utils/py_utils.cc:38] TF-TRT Warning: Could not find TensorRT\n"
     ]
    }
   ],
   "source": [
    "import os \n",
    "# import pickle\n",
    "import numpy as np\n",
    "from tqdm import tqdm\n",
    "\n",
    "from tensorflow.keras.applications.vgg16 import VGG16,preprocess_input\n",
    "from tensorflow.keras.preprocessing.image import load_img,img_to_array\n",
    "from tensorflow.keras.preprocessing.text import Tokenizer\n",
    "from tensorflow.keras.preprocessing.sequence import pad_sequences\n",
    "from tensorflow.keras.models import Model\n",
    "from tensorflow.keras.utils import to_categorical,plot_model\n",
    "from tensorflow.keras.layers import Input,Embedding,LSTM,Dense,add,Dropout"
   ]
  },
  {
   "cell_type": "code",
   "execution_count": 6,
   "metadata": {},
   "outputs": [
    {
     "name": "stdout",
     "output_type": "stream",
     "text": [
      "Copied 8568d3eee073bcc03a4e5b5d79b9b4a359ed83a0_3-Figure2-1.png to destination folder.\n",
      "Copied 42312d108fe75d681a3a26bb29148cb195126a87_4-Figure58-1.png to destination folder.\n",
      "Copied 42ffe66e9a3a3eb53aca25fa193d6b1829de3884_2-Figure1-1.png to destination folder.\n",
      "Copied 9ac485f9982cb70005d8f2c6d2e51d7f5ab2fa69_4-Figure2-1.png to destination folder.\n",
      "Copied c3c50f87bd4f7d316868a0da9b5a31d7f7783afe_2-Figure2-1.png to destination folder.\n",
      "Copied d8e9aaa8ec05a3ffe6a9b493d8a1ca061bf49e82_2-Figure2-1.png to destination folder.\n",
      "Copied 9ab54a9c9b9427f18bd886b44588fa39e479e64d_3-Figure1-1.png to destination folder.\n",
      "Copied 3926ffeb2f292e5e0bd2d12436de309c87c77524_2-Figure1-1.png to destination folder.\n",
      "Copied 7d516defb1c2142e80faa07f26ee0f855c7fa87c_3-Figure2-1.png to destination folder.\n",
      "Copied a2a2e0fa06804866e30097d11959b9095d37ad86_2-Figure2-1.png to destination folder.\n",
      "Copied 4a71c423baf37ed7a4b651e46e3c5570e38c4bfc_2-Figure2-1.png to destination folder.\n",
      "Copied 2a44e43a07f8ba2a3d64722696b7985e6724b736_2-Figure2-1.png to destination folder.\n",
      "Copied ef10a22ecafdbb64931271f9e5a1e0ee4c19a07b_2-Figure2-1.png to destination folder.\n",
      "Copied 0944b3f9337e26fc1fdbd976bc258bcd43f9b202_3-Figure3-1.png to destination folder.\n",
      "Copied 53843ce1a454028d8e65a2d2776d6a50c0e23d27_3-Figure2-1.png to destination folder.\n",
      "Copied 6eb43cf48fa4d1b158a3d53a8584901fbd3fdccb_3-Figure1-1.png to destination folder.\n",
      "Copied 2ff5f61d41159b57d253c8f570dc26fadcfe55c9_2-Figure2-1.png to destination folder.\n",
      "Copied f44be322fe16f89312e296eee77943b3499840a8_2-Figure1-1.png to destination folder.\n",
      "Copied ec9ced7c088314d7f893e87197ca3d165f6d4197_2-Figure3-1.png to destination folder.\n",
      "Copied b6d3196ab9f50de5b82e3a4ac10a30f864c17e19_2-Figure1-1.png to destination folder.\n",
      "Copied 875d45091a63720d16c2668df375fe3a37cc2b44_3-Figure3-1.png to destination folder.\n",
      "Copied 8c1f9665649d12f3bde939eed47741c35de7b0a6_3-Figure2-1.png to destination folder.\n",
      "Copied b9814751fcdea80d47e681185c2bec4e5c655c7d_2-Figure1-1.png to destination folder.\n",
      "Copied ee9b58a07583bf183824614a2939a48a9622dbf0_3-Figure3-1.png to destination folder.\n",
      "Copied a067d74e0615397db67f14a94ac4075763dae0e1_2-Figure2-1.png to destination folder.\n",
      "Copied be1f089a0a94bbc78350473c66c7b05d8423eb71_2-Figure2-1.png to destination folder.\n",
      "Copied 5c3680dd4dcfb330d932a4d6d74a384df92ea535_2-Figure1-1.png to destination folder.\n",
      "Copied c5315da90291123885e796140090acec4f80befe_11-Figure1-1.png to destination folder.\n",
      "Copied 822af6fca320a3cab183ccc4e84e1839ef21c53f_2-Figure1-1.png to destination folder.\n",
      "Copied d1c2ad3fc575027910681b8786cb521f7ab1cddb_5-Figure5-1.png to destination folder.\n",
      "Copied 565c02c0dacfdc03212faf6ab65965cd5e5051c0_2-Figure2-1.png to destination folder.\n",
      "Copied 3b321ab43cab52618ce3aa85bee12677cf0bf78b_2-Figure1-1.png to destination folder.\n",
      "Copied 532ee726ac6612bb90f21d1a0f0950d973ebe39c_2-Figure1-1.png to destination folder.\n",
      "Copied 52a8a5228e99d30a334dab1162c4f0212c332274_2-Figure3-1.png to destination folder.\n",
      "Copied 66113d618071a31d1c1c3677d1776afa55c7eb72_2-Figure3-1.png to destination folder.\n",
      "Copied 2ebc7ff5d4f16e5925b41beb85a4488de73e9537_5-Figure4-1.png to destination folder.\n",
      "Copied be47c98c6d3ded156249fa5b3bcc33cd9b1f2760_2-Figure1-1.png to destination folder.\n",
      "Copied e23029f7473dd2466550413dca7930d0624c52a5_4-Figure7-1.png to destination folder.\n",
      "Copied 81591a9b6c97f40bc494d7988efcca837dc354d3_12-Figure12-1.png to destination folder.\n",
      "Copied 4e23e985324fda7873d9f2346027909983d6619f_1-Figure1-1.png to destination folder.\n",
      "Copied ff3d178dfeab4ceb0ddf29b2bb4fee86b6027867_1-Figure1-1.png to destination folder.\n",
      "Copied 20da47f2459de00b135f1b7602d18acf1ecd8748_3-Figure1-1.png to destination folder.\n",
      "Copied 89d2139e4ecb13d57eecbcdbb228e293df0d1889_2-Figure3-1.png to destination folder.\n",
      "Copied dfec07cfc4c56ed5390c9983552b9ab9b5e18934_7-Figure10-1.png to destination folder.\n",
      "Copied fb36ac9ada1df6235b4332ca690ee69764d272ed_2-Figure1-1.png to destination folder.\n",
      "Copied c57f39b6bf4fdd95c52b9b98424b015858fb4ce0_8-Figure3-1.png to destination folder.\n",
      "Copied 50c02b1b8fd6e29c69ae2e3016bb4297ca70a748_5-Figure1-1.png to destination folder.\n",
      "Copied be103369ad74d74177b27c7ad0260c3f0d680bc4_1-Figure2-1.png to destination folder.\n",
      "Copied bb336793e0a83df75503cc327f7e86760be6ebc5_2-Figure1-1.png to destination folder.\n",
      "Copied 8da112ddd3c8f6c1c4f4a2273d514e2aa828445c_2-Figure2-1.png to destination folder.\n",
      "Copied 0ceea8b630dc48496ba1e9cba5cd4a9d051b28ca_2-Figure1-1.png to destination folder.\n",
      "Copied e80da5e663b3abc8e40cf0f53c5b8a1df94ce27e_3-Figure3-1.png to destination folder.\n",
      "Copied 4644e0957c6200b2b94bcdcd4247a36fd884f2a7_4-Figure2-1.png to destination folder.\n",
      "Copied db33526dfcafdd799b934d27c88f1f781e71bd8b_2-Figure1-1.png to destination folder.\n",
      "Copied 9d0ac0200747a2f4dcef81975ea5ac47bc4b0bd1_3-Figure2-1.png to destination folder.\n",
      "Copied c42729a15d1789e390be3faf5bfad7fbe3b5e264_8-Figure20-1.png to destination folder.\n",
      "Copied 43789673d756f582342d449488441ae270b1d577_3-Figure4-1.png to destination folder.\n",
      "Copied ba43a116f3333ebbf68e233a58aaa86d5df51064_6-Figure7-1.png to destination folder.\n",
      "Copied 701c53d8731b0da3b6a3dadd6dc619fb357e0a45_3-Figure2-1.png to destination folder.\n",
      "Copied 83573e00d888afac7ecf6bbb83d64001d39d772a_2-Figure1-1.png to destination folder.\n",
      "Copied df063b817ee100b0664dd491b219705c931e5ba1_3-Figure1-1.png to destination folder.\n",
      "Copied 9d20b3e762ccc67ddee37ccfb8344d6e88b389dc_2-Figure1-1.png to destination folder.\n",
      "Copied e0258ba28a6502602aba7bf8624c97b6d74ab57e_2-Figure1-1.png to destination folder.\n",
      "Copied 84dfdfcb11e223392c64b584d03f825516d5ca83_2-Figure1-1.png to destination folder.\n",
      "Copied fc68a70ce00de4ba1bd5da6efc2bbf3a415f2673_2-Figure2-1.png to destination folder.\n",
      "Copied 4e412aa491a2634518bd86e643bdc53f95841b0f_2-Figure2-1.png to destination folder.\n",
      "Copied 91fec9dfffd12587598f6c56c070e54de678ac56_1-Figure3-1.png to destination folder.\n",
      "Copied 8f6eaae2ca256528a09e3e0530a49dc9668b46de_2-Figure1-1.png to destination folder.\n",
      "Copied 5dabb62e74771372f7e28fd0abba85cd3187bf82_4-Figure2-1.png to destination folder.\n",
      "Copied 8a2b75eec0b4b6cf36f7bc2f747488899f4a9e6d_6-Figure1-1.png to destination folder.\n",
      "Copied 1076b4656ab3b5329f0868fc1fcb10ce1d49ddb2_4-Figure2-1.png to destination folder.\n",
      "Copied d7357d4e4fd7d1586db10dfe08b7dd0cc36b5088_4-Figure5-1.png to destination folder.\n",
      "Copied 3bd2a313525ce6d9ebd4767262c2a3c9bbc803ff_2-Figure2-1.png to destination folder.\n",
      "Copied 6ae419014acf9303f8adcd6848131b838a52f7cd_2-Figure1-1.png to destination folder.\n",
      "Copied 62f92668cf326bcab1f64b1556142371e5db1cdb_2-Figure5-1.png to destination folder.\n",
      "Copied 77bcc4d19ae3c03ce453203876dbf64dcfd6ea5b_3-Figure2-1.png to destination folder.\n",
      "Copied 0a60e80445d6be21f3da582eeeec7bec83d82e74_4-Figure1-1.png to destination folder.\n",
      "Copied 479322d37bc1575997a06cbb4882ab90086cae2a_2-Figure1-1.png to destination folder.\n",
      "Copied 0bf9faa35bcd6f8b8c765816d7048fe8441c1dda_2-Figure3-1.png to destination folder.\n",
      "Copied c75400868662f06b0d609a18a579860426fe8854_3-Figure2-1.png to destination folder.\n",
      "Copied 5f8343a9589e608a8df1e8495df57436bbb04390_2-Figure1-1.png to destination folder.\n",
      "Copied 54b0ff7c2700cb4753cd64b022395784a22f8ef0_8-Figure3-1.png to destination folder.\n",
      "Copied 119edcd413056f05cb9b5b5ade8e40e146bb1fef_5-Figure4-1.png to destination folder.\n",
      "Copied a0fa7ac01a58b0a42aa4b1940cf85dc48a719b32_4-Figure2-1.png to destination folder.\n",
      "Copied b70342e0d650d77ec7b09aa352f3225d25363d73_2-Figure1-1.png to destination folder.\n",
      "Copied 1b8eac485ad704592731787b1427ea7d279d3583_2-Figure4-1.png to destination folder.\n",
      "Copied 6c0b8eccafa8261ab105c2860b68c6c31b8df0ef_3-Figure1-1.png to destination folder.\n",
      "Copied 2f4d88ca598c6b0a50334cc2acff6345bc039b70_2-Figure1-1.png to destination folder.\n",
      "Copied 262d4fec4e5fe7d331cc747ab5ebcf70f3b03057_3-Figure3-1.png to destination folder.\n",
      "Copied 53846fa90d2aa8924375a6eb4b23e07f249dddf9_3-Figure2-1.png to destination folder.\n",
      "Copied 4d3d0e0aeffe4f5c53aa598e0b05fc2a84389d40_4-Figure12-1.png to destination folder.\n",
      "Copied 98034054f9113e4c843ca0682e0bc84cf03b392b_2-Figure1-1.png to destination folder.\n",
      "Copied 3b8850e6dc75ddbaf210c5d4520cd77167740d74_1-Figure1-1.png to destination folder.\n",
      "Copied 5523f4dc6b43fb8dc432efa0b76dfac34187b58f_4-Figure5-1.png to destination folder.\n",
      "Copied 4c02713eadd12d58b6b705ea7425cc0cd3656e01_3-Figure3-1.png to destination folder.\n",
      "Copied 33157d47578b853f1a323d4511d3b3805ee83aed_3-Figure3-1.png to destination folder.\n",
      "Copied 34e43c3905e6fac2ffc065f21079741ce569a09a_3-Figure1-1.png to destination folder.\n",
      "Copied 61c3070a8d1fb4009c33950631ab4b9c58284f7c_2-Figure1-1.png to destination folder.\n",
      "Copied e143a8ef45566812a815925ed7da197b5969c9cc_6-Figure3-1.png to destination folder.\n",
      "Copied cb15da8e5bd43d3386b9bbc103d75aad6b8fed43_4-Figure1-1.png to destination folder.\n"
     ]
    }
   ],
   "source": [
    "# import shutil\n",
    "\n",
    "# # Path to the text file containing image names\n",
    "# file_path = r'/home/marocos/thesis/med-image-captioning/data/captions/random_sample_20.txt'\n",
    "\n",
    "# # Read the file and extract image names\n",
    "# with open(file_path, 'r') as file:\n",
    "#     lines = file.readlines()\n",
    "# image_names = [line.split(',')[0] for line in lines]\n",
    "\n",
    "# # Define the source and destination folder paths\n",
    "# source_folder_path = r'/home/marocos/mic-images/'\n",
    "# destination_folder_path = r'/home/marocos/thesis/med-image-captioning/images/'\n",
    "\n",
    "# # Ensure the destination folder exists\n",
    "# os.makedirs(destination_folder_path, exist_ok=True)\n",
    "\n",
    "# # Iterate over the list of image names\n",
    "# for image_name in image_names:\n",
    "#     source_image_path = os.path.join(source_folder_path, image_name)\n",
    "    \n",
    "#     # Check if the image exists in the source folder\n",
    "#     if os.path.exists(source_image_path):\n",
    "#         destination_image_path = os.path.join(destination_folder_path, image_name)\n",
    "        \n",
    "#         # Copy the image to the destination folder\n",
    "#         shutil.copy2(source_image_path, destination_image_path)\n",
    "#         print(f\"Copied {image_name} to destination folder.\")\n",
    "#     else:\n",
    "#         print(f\"Image {image_name} not found in source folder.\")\n"
   ]
  },
  {
   "cell_type": "markdown",
   "metadata": {},
   "source": [
    "## Image Feature Extraction"
   ]
  },
  {
   "cell_type": "code",
   "execution_count": 2,
   "metadata": {},
   "outputs": [],
   "source": [
    "model = VGG16()\n",
    "# restarcture the model\n",
    "model = Model(inputs=model.inputs,outputs=model.layers[-2].output)"
   ]
  },
  {
   "cell_type": "code",
   "execution_count": 3,
   "metadata": {},
   "outputs": [
    {
     "data": {
      "text/html": [
       "<pre style=\"white-space:pre;overflow-x:auto;line-height:normal;font-family:Menlo,'DejaVu Sans Mono',consolas,'Courier New',monospace\"><span style=\"font-weight: bold\">Model: \"functional_1\"</span>\n",
       "</pre>\n"
      ],
      "text/plain": [
       "\u001b[1mModel: \"functional_1\"\u001b[0m\n"
      ]
     },
     "metadata": {},
     "output_type": "display_data"
    },
    {
     "data": {
      "text/html": [
       "<pre style=\"white-space:pre;overflow-x:auto;line-height:normal;font-family:Menlo,'DejaVu Sans Mono',consolas,'Courier New',monospace\">┏━━━━━━━━━━━━━━━━━━━━━━━━━━━━━━━━━┳━━━━━━━━━━━━━━━━━━━━━━━━┳━━━━━━━━━━━━━━━┓\n",
       "┃<span style=\"font-weight: bold\"> Layer (type)                    </span>┃<span style=\"font-weight: bold\"> Output Shape           </span>┃<span style=\"font-weight: bold\">       Param # </span>┃\n",
       "┡━━━━━━━━━━━━━━━━━━━━━━━━━━━━━━━━━╇━━━━━━━━━━━━━━━━━━━━━━━━╇━━━━━━━━━━━━━━━┩\n",
       "│ input_layer (<span style=\"color: #0087ff; text-decoration-color: #0087ff\">InputLayer</span>)        │ (<span style=\"color: #00d7ff; text-decoration-color: #00d7ff\">None</span>, <span style=\"color: #00af00; text-decoration-color: #00af00\">224</span>, <span style=\"color: #00af00; text-decoration-color: #00af00\">224</span>, <span style=\"color: #00af00; text-decoration-color: #00af00\">3</span>)    │             <span style=\"color: #00af00; text-decoration-color: #00af00\">0</span> │\n",
       "├─────────────────────────────────┼────────────────────────┼───────────────┤\n",
       "│ block1_conv1 (<span style=\"color: #0087ff; text-decoration-color: #0087ff\">Conv2D</span>)           │ (<span style=\"color: #00d7ff; text-decoration-color: #00d7ff\">None</span>, <span style=\"color: #00af00; text-decoration-color: #00af00\">224</span>, <span style=\"color: #00af00; text-decoration-color: #00af00\">224</span>, <span style=\"color: #00af00; text-decoration-color: #00af00\">64</span>)   │         <span style=\"color: #00af00; text-decoration-color: #00af00\">1,792</span> │\n",
       "├─────────────────────────────────┼────────────────────────┼───────────────┤\n",
       "│ block1_conv2 (<span style=\"color: #0087ff; text-decoration-color: #0087ff\">Conv2D</span>)           │ (<span style=\"color: #00d7ff; text-decoration-color: #00d7ff\">None</span>, <span style=\"color: #00af00; text-decoration-color: #00af00\">224</span>, <span style=\"color: #00af00; text-decoration-color: #00af00\">224</span>, <span style=\"color: #00af00; text-decoration-color: #00af00\">64</span>)   │        <span style=\"color: #00af00; text-decoration-color: #00af00\">36,928</span> │\n",
       "├─────────────────────────────────┼────────────────────────┼───────────────┤\n",
       "│ block1_pool (<span style=\"color: #0087ff; text-decoration-color: #0087ff\">MaxPooling2D</span>)      │ (<span style=\"color: #00d7ff; text-decoration-color: #00d7ff\">None</span>, <span style=\"color: #00af00; text-decoration-color: #00af00\">112</span>, <span style=\"color: #00af00; text-decoration-color: #00af00\">112</span>, <span style=\"color: #00af00; text-decoration-color: #00af00\">64</span>)   │             <span style=\"color: #00af00; text-decoration-color: #00af00\">0</span> │\n",
       "├─────────────────────────────────┼────────────────────────┼───────────────┤\n",
       "│ block2_conv1 (<span style=\"color: #0087ff; text-decoration-color: #0087ff\">Conv2D</span>)           │ (<span style=\"color: #00d7ff; text-decoration-color: #00d7ff\">None</span>, <span style=\"color: #00af00; text-decoration-color: #00af00\">112</span>, <span style=\"color: #00af00; text-decoration-color: #00af00\">112</span>, <span style=\"color: #00af00; text-decoration-color: #00af00\">128</span>)  │        <span style=\"color: #00af00; text-decoration-color: #00af00\">73,856</span> │\n",
       "├─────────────────────────────────┼────────────────────────┼───────────────┤\n",
       "│ block2_conv2 (<span style=\"color: #0087ff; text-decoration-color: #0087ff\">Conv2D</span>)           │ (<span style=\"color: #00d7ff; text-decoration-color: #00d7ff\">None</span>, <span style=\"color: #00af00; text-decoration-color: #00af00\">112</span>, <span style=\"color: #00af00; text-decoration-color: #00af00\">112</span>, <span style=\"color: #00af00; text-decoration-color: #00af00\">128</span>)  │       <span style=\"color: #00af00; text-decoration-color: #00af00\">147,584</span> │\n",
       "├─────────────────────────────────┼────────────────────────┼───────────────┤\n",
       "│ block2_pool (<span style=\"color: #0087ff; text-decoration-color: #0087ff\">MaxPooling2D</span>)      │ (<span style=\"color: #00d7ff; text-decoration-color: #00d7ff\">None</span>, <span style=\"color: #00af00; text-decoration-color: #00af00\">56</span>, <span style=\"color: #00af00; text-decoration-color: #00af00\">56</span>, <span style=\"color: #00af00; text-decoration-color: #00af00\">128</span>)    │             <span style=\"color: #00af00; text-decoration-color: #00af00\">0</span> │\n",
       "├─────────────────────────────────┼────────────────────────┼───────────────┤\n",
       "│ block3_conv1 (<span style=\"color: #0087ff; text-decoration-color: #0087ff\">Conv2D</span>)           │ (<span style=\"color: #00d7ff; text-decoration-color: #00d7ff\">None</span>, <span style=\"color: #00af00; text-decoration-color: #00af00\">56</span>, <span style=\"color: #00af00; text-decoration-color: #00af00\">56</span>, <span style=\"color: #00af00; text-decoration-color: #00af00\">256</span>)    │       <span style=\"color: #00af00; text-decoration-color: #00af00\">295,168</span> │\n",
       "├─────────────────────────────────┼────────────────────────┼───────────────┤\n",
       "│ block3_conv2 (<span style=\"color: #0087ff; text-decoration-color: #0087ff\">Conv2D</span>)           │ (<span style=\"color: #00d7ff; text-decoration-color: #00d7ff\">None</span>, <span style=\"color: #00af00; text-decoration-color: #00af00\">56</span>, <span style=\"color: #00af00; text-decoration-color: #00af00\">56</span>, <span style=\"color: #00af00; text-decoration-color: #00af00\">256</span>)    │       <span style=\"color: #00af00; text-decoration-color: #00af00\">590,080</span> │\n",
       "├─────────────────────────────────┼────────────────────────┼───────────────┤\n",
       "│ block3_conv3 (<span style=\"color: #0087ff; text-decoration-color: #0087ff\">Conv2D</span>)           │ (<span style=\"color: #00d7ff; text-decoration-color: #00d7ff\">None</span>, <span style=\"color: #00af00; text-decoration-color: #00af00\">56</span>, <span style=\"color: #00af00; text-decoration-color: #00af00\">56</span>, <span style=\"color: #00af00; text-decoration-color: #00af00\">256</span>)    │       <span style=\"color: #00af00; text-decoration-color: #00af00\">590,080</span> │\n",
       "├─────────────────────────────────┼────────────────────────┼───────────────┤\n",
       "│ block3_pool (<span style=\"color: #0087ff; text-decoration-color: #0087ff\">MaxPooling2D</span>)      │ (<span style=\"color: #00d7ff; text-decoration-color: #00d7ff\">None</span>, <span style=\"color: #00af00; text-decoration-color: #00af00\">28</span>, <span style=\"color: #00af00; text-decoration-color: #00af00\">28</span>, <span style=\"color: #00af00; text-decoration-color: #00af00\">256</span>)    │             <span style=\"color: #00af00; text-decoration-color: #00af00\">0</span> │\n",
       "├─────────────────────────────────┼────────────────────────┼───────────────┤\n",
       "│ block4_conv1 (<span style=\"color: #0087ff; text-decoration-color: #0087ff\">Conv2D</span>)           │ (<span style=\"color: #00d7ff; text-decoration-color: #00d7ff\">None</span>, <span style=\"color: #00af00; text-decoration-color: #00af00\">28</span>, <span style=\"color: #00af00; text-decoration-color: #00af00\">28</span>, <span style=\"color: #00af00; text-decoration-color: #00af00\">512</span>)    │     <span style=\"color: #00af00; text-decoration-color: #00af00\">1,180,160</span> │\n",
       "├─────────────────────────────────┼────────────────────────┼───────────────┤\n",
       "│ block4_conv2 (<span style=\"color: #0087ff; text-decoration-color: #0087ff\">Conv2D</span>)           │ (<span style=\"color: #00d7ff; text-decoration-color: #00d7ff\">None</span>, <span style=\"color: #00af00; text-decoration-color: #00af00\">28</span>, <span style=\"color: #00af00; text-decoration-color: #00af00\">28</span>, <span style=\"color: #00af00; text-decoration-color: #00af00\">512</span>)    │     <span style=\"color: #00af00; text-decoration-color: #00af00\">2,359,808</span> │\n",
       "├─────────────────────────────────┼────────────────────────┼───────────────┤\n",
       "│ block4_conv3 (<span style=\"color: #0087ff; text-decoration-color: #0087ff\">Conv2D</span>)           │ (<span style=\"color: #00d7ff; text-decoration-color: #00d7ff\">None</span>, <span style=\"color: #00af00; text-decoration-color: #00af00\">28</span>, <span style=\"color: #00af00; text-decoration-color: #00af00\">28</span>, <span style=\"color: #00af00; text-decoration-color: #00af00\">512</span>)    │     <span style=\"color: #00af00; text-decoration-color: #00af00\">2,359,808</span> │\n",
       "├─────────────────────────────────┼────────────────────────┼───────────────┤\n",
       "│ block4_pool (<span style=\"color: #0087ff; text-decoration-color: #0087ff\">MaxPooling2D</span>)      │ (<span style=\"color: #00d7ff; text-decoration-color: #00d7ff\">None</span>, <span style=\"color: #00af00; text-decoration-color: #00af00\">14</span>, <span style=\"color: #00af00; text-decoration-color: #00af00\">14</span>, <span style=\"color: #00af00; text-decoration-color: #00af00\">512</span>)    │             <span style=\"color: #00af00; text-decoration-color: #00af00\">0</span> │\n",
       "├─────────────────────────────────┼────────────────────────┼───────────────┤\n",
       "│ block5_conv1 (<span style=\"color: #0087ff; text-decoration-color: #0087ff\">Conv2D</span>)           │ (<span style=\"color: #00d7ff; text-decoration-color: #00d7ff\">None</span>, <span style=\"color: #00af00; text-decoration-color: #00af00\">14</span>, <span style=\"color: #00af00; text-decoration-color: #00af00\">14</span>, <span style=\"color: #00af00; text-decoration-color: #00af00\">512</span>)    │     <span style=\"color: #00af00; text-decoration-color: #00af00\">2,359,808</span> │\n",
       "├─────────────────────────────────┼────────────────────────┼───────────────┤\n",
       "│ block5_conv2 (<span style=\"color: #0087ff; text-decoration-color: #0087ff\">Conv2D</span>)           │ (<span style=\"color: #00d7ff; text-decoration-color: #00d7ff\">None</span>, <span style=\"color: #00af00; text-decoration-color: #00af00\">14</span>, <span style=\"color: #00af00; text-decoration-color: #00af00\">14</span>, <span style=\"color: #00af00; text-decoration-color: #00af00\">512</span>)    │     <span style=\"color: #00af00; text-decoration-color: #00af00\">2,359,808</span> │\n",
       "├─────────────────────────────────┼────────────────────────┼───────────────┤\n",
       "│ block5_conv3 (<span style=\"color: #0087ff; text-decoration-color: #0087ff\">Conv2D</span>)           │ (<span style=\"color: #00d7ff; text-decoration-color: #00d7ff\">None</span>, <span style=\"color: #00af00; text-decoration-color: #00af00\">14</span>, <span style=\"color: #00af00; text-decoration-color: #00af00\">14</span>, <span style=\"color: #00af00; text-decoration-color: #00af00\">512</span>)    │     <span style=\"color: #00af00; text-decoration-color: #00af00\">2,359,808</span> │\n",
       "├─────────────────────────────────┼────────────────────────┼───────────────┤\n",
       "│ block5_pool (<span style=\"color: #0087ff; text-decoration-color: #0087ff\">MaxPooling2D</span>)      │ (<span style=\"color: #00d7ff; text-decoration-color: #00d7ff\">None</span>, <span style=\"color: #00af00; text-decoration-color: #00af00\">7</span>, <span style=\"color: #00af00; text-decoration-color: #00af00\">7</span>, <span style=\"color: #00af00; text-decoration-color: #00af00\">512</span>)      │             <span style=\"color: #00af00; text-decoration-color: #00af00\">0</span> │\n",
       "├─────────────────────────────────┼────────────────────────┼───────────────┤\n",
       "│ flatten (<span style=\"color: #0087ff; text-decoration-color: #0087ff\">Flatten</span>)               │ (<span style=\"color: #00d7ff; text-decoration-color: #00d7ff\">None</span>, <span style=\"color: #00af00; text-decoration-color: #00af00\">25088</span>)          │             <span style=\"color: #00af00; text-decoration-color: #00af00\">0</span> │\n",
       "├─────────────────────────────────┼────────────────────────┼───────────────┤\n",
       "│ fc1 (<span style=\"color: #0087ff; text-decoration-color: #0087ff\">Dense</span>)                     │ (<span style=\"color: #00d7ff; text-decoration-color: #00d7ff\">None</span>, <span style=\"color: #00af00; text-decoration-color: #00af00\">4096</span>)           │   <span style=\"color: #00af00; text-decoration-color: #00af00\">102,764,544</span> │\n",
       "├─────────────────────────────────┼────────────────────────┼───────────────┤\n",
       "│ fc2 (<span style=\"color: #0087ff; text-decoration-color: #0087ff\">Dense</span>)                     │ (<span style=\"color: #00d7ff; text-decoration-color: #00d7ff\">None</span>, <span style=\"color: #00af00; text-decoration-color: #00af00\">4096</span>)           │    <span style=\"color: #00af00; text-decoration-color: #00af00\">16,781,312</span> │\n",
       "└─────────────────────────────────┴────────────────────────┴───────────────┘\n",
       "</pre>\n"
      ],
      "text/plain": [
       "┏━━━━━━━━━━━━━━━━━━━━━━━━━━━━━━━━━┳━━━━━━━━━━━━━━━━━━━━━━━━┳━━━━━━━━━━━━━━━┓\n",
       "┃\u001b[1m \u001b[0m\u001b[1mLayer (type)                   \u001b[0m\u001b[1m \u001b[0m┃\u001b[1m \u001b[0m\u001b[1mOutput Shape          \u001b[0m\u001b[1m \u001b[0m┃\u001b[1m \u001b[0m\u001b[1m      Param #\u001b[0m\u001b[1m \u001b[0m┃\n",
       "┡━━━━━━━━━━━━━━━━━━━━━━━━━━━━━━━━━╇━━━━━━━━━━━━━━━━━━━━━━━━╇━━━━━━━━━━━━━━━┩\n",
       "│ input_layer (\u001b[38;5;33mInputLayer\u001b[0m)        │ (\u001b[38;5;45mNone\u001b[0m, \u001b[38;5;34m224\u001b[0m, \u001b[38;5;34m224\u001b[0m, \u001b[38;5;34m3\u001b[0m)    │             \u001b[38;5;34m0\u001b[0m │\n",
       "├─────────────────────────────────┼────────────────────────┼───────────────┤\n",
       "│ block1_conv1 (\u001b[38;5;33mConv2D\u001b[0m)           │ (\u001b[38;5;45mNone\u001b[0m, \u001b[38;5;34m224\u001b[0m, \u001b[38;5;34m224\u001b[0m, \u001b[38;5;34m64\u001b[0m)   │         \u001b[38;5;34m1,792\u001b[0m │\n",
       "├─────────────────────────────────┼────────────────────────┼───────────────┤\n",
       "│ block1_conv2 (\u001b[38;5;33mConv2D\u001b[0m)           │ (\u001b[38;5;45mNone\u001b[0m, \u001b[38;5;34m224\u001b[0m, \u001b[38;5;34m224\u001b[0m, \u001b[38;5;34m64\u001b[0m)   │        \u001b[38;5;34m36,928\u001b[0m │\n",
       "├─────────────────────────────────┼────────────────────────┼───────────────┤\n",
       "│ block1_pool (\u001b[38;5;33mMaxPooling2D\u001b[0m)      │ (\u001b[38;5;45mNone\u001b[0m, \u001b[38;5;34m112\u001b[0m, \u001b[38;5;34m112\u001b[0m, \u001b[38;5;34m64\u001b[0m)   │             \u001b[38;5;34m0\u001b[0m │\n",
       "├─────────────────────────────────┼────────────────────────┼───────────────┤\n",
       "│ block2_conv1 (\u001b[38;5;33mConv2D\u001b[0m)           │ (\u001b[38;5;45mNone\u001b[0m, \u001b[38;5;34m112\u001b[0m, \u001b[38;5;34m112\u001b[0m, \u001b[38;5;34m128\u001b[0m)  │        \u001b[38;5;34m73,856\u001b[0m │\n",
       "├─────────────────────────────────┼────────────────────────┼───────────────┤\n",
       "│ block2_conv2 (\u001b[38;5;33mConv2D\u001b[0m)           │ (\u001b[38;5;45mNone\u001b[0m, \u001b[38;5;34m112\u001b[0m, \u001b[38;5;34m112\u001b[0m, \u001b[38;5;34m128\u001b[0m)  │       \u001b[38;5;34m147,584\u001b[0m │\n",
       "├─────────────────────────────────┼────────────────────────┼───────────────┤\n",
       "│ block2_pool (\u001b[38;5;33mMaxPooling2D\u001b[0m)      │ (\u001b[38;5;45mNone\u001b[0m, \u001b[38;5;34m56\u001b[0m, \u001b[38;5;34m56\u001b[0m, \u001b[38;5;34m128\u001b[0m)    │             \u001b[38;5;34m0\u001b[0m │\n",
       "├─────────────────────────────────┼────────────────────────┼───────────────┤\n",
       "│ block3_conv1 (\u001b[38;5;33mConv2D\u001b[0m)           │ (\u001b[38;5;45mNone\u001b[0m, \u001b[38;5;34m56\u001b[0m, \u001b[38;5;34m56\u001b[0m, \u001b[38;5;34m256\u001b[0m)    │       \u001b[38;5;34m295,168\u001b[0m │\n",
       "├─────────────────────────────────┼────────────────────────┼───────────────┤\n",
       "│ block3_conv2 (\u001b[38;5;33mConv2D\u001b[0m)           │ (\u001b[38;5;45mNone\u001b[0m, \u001b[38;5;34m56\u001b[0m, \u001b[38;5;34m56\u001b[0m, \u001b[38;5;34m256\u001b[0m)    │       \u001b[38;5;34m590,080\u001b[0m │\n",
       "├─────────────────────────────────┼────────────────────────┼───────────────┤\n",
       "│ block3_conv3 (\u001b[38;5;33mConv2D\u001b[0m)           │ (\u001b[38;5;45mNone\u001b[0m, \u001b[38;5;34m56\u001b[0m, \u001b[38;5;34m56\u001b[0m, \u001b[38;5;34m256\u001b[0m)    │       \u001b[38;5;34m590,080\u001b[0m │\n",
       "├─────────────────────────────────┼────────────────────────┼───────────────┤\n",
       "│ block3_pool (\u001b[38;5;33mMaxPooling2D\u001b[0m)      │ (\u001b[38;5;45mNone\u001b[0m, \u001b[38;5;34m28\u001b[0m, \u001b[38;5;34m28\u001b[0m, \u001b[38;5;34m256\u001b[0m)    │             \u001b[38;5;34m0\u001b[0m │\n",
       "├─────────────────────────────────┼────────────────────────┼───────────────┤\n",
       "│ block4_conv1 (\u001b[38;5;33mConv2D\u001b[0m)           │ (\u001b[38;5;45mNone\u001b[0m, \u001b[38;5;34m28\u001b[0m, \u001b[38;5;34m28\u001b[0m, \u001b[38;5;34m512\u001b[0m)    │     \u001b[38;5;34m1,180,160\u001b[0m │\n",
       "├─────────────────────────────────┼────────────────────────┼───────────────┤\n",
       "│ block4_conv2 (\u001b[38;5;33mConv2D\u001b[0m)           │ (\u001b[38;5;45mNone\u001b[0m, \u001b[38;5;34m28\u001b[0m, \u001b[38;5;34m28\u001b[0m, \u001b[38;5;34m512\u001b[0m)    │     \u001b[38;5;34m2,359,808\u001b[0m │\n",
       "├─────────────────────────────────┼────────────────────────┼───────────────┤\n",
       "│ block4_conv3 (\u001b[38;5;33mConv2D\u001b[0m)           │ (\u001b[38;5;45mNone\u001b[0m, \u001b[38;5;34m28\u001b[0m, \u001b[38;5;34m28\u001b[0m, \u001b[38;5;34m512\u001b[0m)    │     \u001b[38;5;34m2,359,808\u001b[0m │\n",
       "├─────────────────────────────────┼────────────────────────┼───────────────┤\n",
       "│ block4_pool (\u001b[38;5;33mMaxPooling2D\u001b[0m)      │ (\u001b[38;5;45mNone\u001b[0m, \u001b[38;5;34m14\u001b[0m, \u001b[38;5;34m14\u001b[0m, \u001b[38;5;34m512\u001b[0m)    │             \u001b[38;5;34m0\u001b[0m │\n",
       "├─────────────────────────────────┼────────────────────────┼───────────────┤\n",
       "│ block5_conv1 (\u001b[38;5;33mConv2D\u001b[0m)           │ (\u001b[38;5;45mNone\u001b[0m, \u001b[38;5;34m14\u001b[0m, \u001b[38;5;34m14\u001b[0m, \u001b[38;5;34m512\u001b[0m)    │     \u001b[38;5;34m2,359,808\u001b[0m │\n",
       "├─────────────────────────────────┼────────────────────────┼───────────────┤\n",
       "│ block5_conv2 (\u001b[38;5;33mConv2D\u001b[0m)           │ (\u001b[38;5;45mNone\u001b[0m, \u001b[38;5;34m14\u001b[0m, \u001b[38;5;34m14\u001b[0m, \u001b[38;5;34m512\u001b[0m)    │     \u001b[38;5;34m2,359,808\u001b[0m │\n",
       "├─────────────────────────────────┼────────────────────────┼───────────────┤\n",
       "│ block5_conv3 (\u001b[38;5;33mConv2D\u001b[0m)           │ (\u001b[38;5;45mNone\u001b[0m, \u001b[38;5;34m14\u001b[0m, \u001b[38;5;34m14\u001b[0m, \u001b[38;5;34m512\u001b[0m)    │     \u001b[38;5;34m2,359,808\u001b[0m │\n",
       "├─────────────────────────────────┼────────────────────────┼───────────────┤\n",
       "│ block5_pool (\u001b[38;5;33mMaxPooling2D\u001b[0m)      │ (\u001b[38;5;45mNone\u001b[0m, \u001b[38;5;34m7\u001b[0m, \u001b[38;5;34m7\u001b[0m, \u001b[38;5;34m512\u001b[0m)      │             \u001b[38;5;34m0\u001b[0m │\n",
       "├─────────────────────────────────┼────────────────────────┼───────────────┤\n",
       "│ flatten (\u001b[38;5;33mFlatten\u001b[0m)               │ (\u001b[38;5;45mNone\u001b[0m, \u001b[38;5;34m25088\u001b[0m)          │             \u001b[38;5;34m0\u001b[0m │\n",
       "├─────────────────────────────────┼────────────────────────┼───────────────┤\n",
       "│ fc1 (\u001b[38;5;33mDense\u001b[0m)                     │ (\u001b[38;5;45mNone\u001b[0m, \u001b[38;5;34m4096\u001b[0m)           │   \u001b[38;5;34m102,764,544\u001b[0m │\n",
       "├─────────────────────────────────┼────────────────────────┼───────────────┤\n",
       "│ fc2 (\u001b[38;5;33mDense\u001b[0m)                     │ (\u001b[38;5;45mNone\u001b[0m, \u001b[38;5;34m4096\u001b[0m)           │    \u001b[38;5;34m16,781,312\u001b[0m │\n",
       "└─────────────────────────────────┴────────────────────────┴───────────────┘\n"
      ]
     },
     "metadata": {},
     "output_type": "display_data"
    },
    {
     "data": {
      "text/html": [
       "<pre style=\"white-space:pre;overflow-x:auto;line-height:normal;font-family:Menlo,'DejaVu Sans Mono',consolas,'Courier New',monospace\"><span style=\"font-weight: bold\"> Total params: </span><span style=\"color: #00af00; text-decoration-color: #00af00\">134,260,544</span> (512.16 MB)\n",
       "</pre>\n"
      ],
      "text/plain": [
       "\u001b[1m Total params: \u001b[0m\u001b[38;5;34m134,260,544\u001b[0m (512.16 MB)\n"
      ]
     },
     "metadata": {},
     "output_type": "display_data"
    },
    {
     "data": {
      "text/html": [
       "<pre style=\"white-space:pre;overflow-x:auto;line-height:normal;font-family:Menlo,'DejaVu Sans Mono',consolas,'Courier New',monospace\"><span style=\"font-weight: bold\"> Trainable params: </span><span style=\"color: #00af00; text-decoration-color: #00af00\">134,260,544</span> (512.16 MB)\n",
       "</pre>\n"
      ],
      "text/plain": [
       "\u001b[1m Trainable params: \u001b[0m\u001b[38;5;34m134,260,544\u001b[0m (512.16 MB)\n"
      ]
     },
     "metadata": {},
     "output_type": "display_data"
    },
    {
     "data": {
      "text/html": [
       "<pre style=\"white-space:pre;overflow-x:auto;line-height:normal;font-family:Menlo,'DejaVu Sans Mono',consolas,'Courier New',monospace\"><span style=\"font-weight: bold\"> Non-trainable params: </span><span style=\"color: #00af00; text-decoration-color: #00af00\">0</span> (0.00 B)\n",
       "</pre>\n"
      ],
      "text/plain": [
       "\u001b[1m Non-trainable params: \u001b[0m\u001b[38;5;34m0\u001b[0m (0.00 B)\n"
      ]
     },
     "metadata": {},
     "output_type": "display_data"
    },
    {
     "name": "stdout",
     "output_type": "stream",
     "text": [
      "None\n"
     ]
    }
   ],
   "source": [
    "print(model.summary())"
   ]
  },
  {
   "cell_type": "code",
   "execution_count": 4,
   "metadata": {},
   "outputs": [
    {
     "name": "stderr",
     "output_type": "stream",
     "text": [
      "100%|██████████| 100/100 [00:16<00:00,  6.21it/s]\n"
     ]
    }
   ],
   "source": [
    "## extract features from each photo in the directory\n",
    "features={}\n",
    "directory=r'/home/marocos/thesis/med-image-captioning/images'\n",
    "\n",
    "for img_name in tqdm(os.listdir(directory)):\n",
    "    filename = directory+'/'+img_name\n",
    "\n",
    "    # load an image from file\n",
    "    image = load_img(filename,target_size=(224,224))\n",
    "\n",
    "    # convert the image pixels to a numpy array\n",
    "    image = img_to_array(image)\n",
    "\n",
    "    # reshape data for the model\n",
    "    image = image.reshape((1,image.shape[0],image.shape[1],image.shape[2]))\n",
    "\n",
    "    # prepare the image for the VGG model\n",
    "    image = preprocess_input(image)\n",
    "\n",
    "    # get features\n",
    "    feature = model.predict(image,verbose=0)\n",
    "\n",
    "    # get image id\n",
    "    image_id = img_name.split('.')[0]\n",
    "\n",
    "    #save the features\n",
    "    features[image_id] = feature"
   ]
  },
  {
   "cell_type": "code",
   "execution_count": 10,
   "metadata": {},
   "outputs": [],
   "source": [
    "# # save to file\n",
    "# pickle.dump(features,open(r'D:\\med-image-captioning\\data\\image_features\\features.pkl','wb'))"
   ]
  },
  {
   "cell_type": "markdown",
   "metadata": {},
   "source": [
    "## Loading the captions"
   ]
  },
  {
   "cell_type": "code",
   "execution_count": 6,
   "metadata": {},
   "outputs": [],
   "source": [
    "# load the caption features using pickle\n",
    "with open(r'/home/marocos/thesis/med-image-captioning/data/captions/random_sample_20.txt','r') as file:\n",
    "    captions_doc=file.read()"
   ]
  },
  {
   "cell_type": "code",
   "execution_count": 7,
   "metadata": {},
   "outputs": [
    {
     "name": "stderr",
     "output_type": "stream",
     "text": [
      "100%|██████████| 101/101 [00:00<00:00, 379252.20it/s]\n"
     ]
    }
   ],
   "source": [
    "# create mapping of image captions\n",
    "mapping={}\n",
    "\n",
    "for line in tqdm(captions_doc.split('\\n')):\n",
    "    # split the line by comma\n",
    "    tokens=line.split(',')\n",
    "\n",
    "    if len(tokens) >= 2:\n",
    "        image_id,caption=tokens[0],tokens[1]\n",
    "\n",
    "        #remove filename from image_id\n",
    "        image_id=image_id.split('.')[0]\n",
    "\n",
    "\n",
    "        if image_id not in mapping:\n",
    "            mapping[image_id]=[]\n",
    "\n",
    "        mapping[image_id].append(caption)\n",
    "\n",
    "\n"
   ]
  },
  {
   "cell_type": "code",
   "execution_count": 8,
   "metadata": {},
   "outputs": [
    {
     "name": "stdout",
     "output_type": "stream",
     "text": [
      "100\n"
     ]
    }
   ],
   "source": [
    "print(len(mapping))"
   ]
  },
  {
   "cell_type": "code",
   "execution_count": 9,
   "metadata": {},
   "outputs": [],
   "source": [
    "## add start and end sequence to the captions\n",
    "for key,captions in mapping.items():\n",
    "    for i in range(len(captions)):\n",
    "        captions[i]='<start> '+captions[i]+' <end>'"
   ]
  },
  {
   "cell_type": "code",
   "execution_count": 10,
   "metadata": {},
   "outputs": [
    {
     "name": "stdout",
     "output_type": "stream",
     "text": [
      "<start> chest mriscan showing cyst to the left of the esophagus overlying the vertebral bodies thoracoscopic view of esophageal duplication cysts <end>\n"
     ]
    }
   ],
   "source": [
    "print(captions[0])"
   ]
  },
  {
   "cell_type": "code",
   "execution_count": 11,
   "metadata": {},
   "outputs": [
    {
     "name": "stdout",
     "output_type": "stream",
     "text": [
      "['<start> clinical images doppler ultrasound and ultrasound of the uterine lower segment <end>']\n"
     ]
    }
   ],
   "source": [
    "print(mapping['0a60e80445d6be21f3da582eeeec7bec83d82e74_4-Figure1-1'])"
   ]
  },
  {
   "cell_type": "code",
   "execution_count": 12,
   "metadata": {},
   "outputs": [],
   "source": [
    "all_captions=[]\n",
    "for key in mapping.keys():\n",
    "    [all_captions.append(caption) for caption in mapping[key]]"
   ]
  },
  {
   "cell_type": "code",
   "execution_count": 13,
   "metadata": {},
   "outputs": [
    {
     "data": {
      "text/plain": [
       "100"
      ]
     },
     "execution_count": 13,
     "metadata": {},
     "output_type": "execute_result"
    }
   ],
   "source": [
    "len(all_captions)"
   ]
  },
  {
   "cell_type": "code",
   "execution_count": 14,
   "metadata": {},
   "outputs": [
    {
     "name": "stdout",
     "output_type": "stream",
     "text": [
      "['<start> computed tomography scans obtained and before and and and after combination anti egfr antibody therapy in case <end>', '<start> multispectral optoacoustic tomography msot imageof thevascularplexus ina test subject takenwith detector msot invision courtesy of itheramedical gmbh <end>', '<start> endoscopy picture pre treatment <end>', '<start> case lateral radiography and computed tomography scanning show an inadequate reposition of dislocated fracture with halo vest <end>', '<start> tl weighted images of abdominal magnetic resonance images show large masses as well as weighted images axial image sagittal image <end>']\n"
     ]
    }
   ],
   "source": [
    "print(all_captions[:5])"
   ]
  },
  {
   "cell_type": "code",
   "execution_count": 15,
   "metadata": {},
   "outputs": [],
   "source": [
    "# tokenize the text\n",
    "\n",
    "tokenizer=Tokenizer()\n",
    "tokenizer.fit_on_texts(all_captions)\n",
    "vocab_size=len(tokenizer.word_index)+1"
   ]
  },
  {
   "cell_type": "code",
   "execution_count": 16,
   "metadata": {},
   "outputs": [
    {
     "name": "stdout",
     "output_type": "stream",
     "text": [
      "620\n"
     ]
    }
   ],
   "source": [
    "print(vocab_size)"
   ]
  },
  {
   "cell_type": "code",
   "execution_count": 17,
   "metadata": {},
   "outputs": [
    {
     "name": "stdout",
     "output_type": "stream",
     "text": [
      "22\n"
     ]
    }
   ],
   "source": [
    "max_length=max(len(caption.split()) for caption in all_captions)\n",
    "print(max_length)"
   ]
  },
  {
   "cell_type": "markdown",
   "metadata": {},
   "source": [
    "## Train test split"
   ]
  },
  {
   "cell_type": "code",
   "execution_count": 18,
   "metadata": {},
   "outputs": [],
   "source": [
    "image_ids=list(mapping.keys())\n",
    "split=int(len(image_ids)*0.8)\n",
    "train=image_ids[:split]\n",
    "test=image_ids[split:]\n"
   ]
  },
  {
   "cell_type": "code",
   "execution_count": 19,
   "metadata": {},
   "outputs": [],
   "source": [
    "# create data generator\n",
    "def data_generator(data_keys,mapping,features,tokenizer,max_length,vocab_size,batch_size):\n",
    "    X1,X2,y= list(),list(),list()\n",
    "    n=0\n",
    "    while 1:\n",
    "        for key in data_keys:\n",
    "            n+=1\n",
    "            captions=mapping[key]\n",
    "\n",
    "            for caption in captions:\n",
    "                sequence=tokenizer.texts_to_sequences([caption])[0]\n",
    "                \n",
    "                for i in range(1,len(sequence)):\n",
    "                    # split into input and output pair\n",
    "                    in_seq,out_seq=sequence[:i],sequence[i]\n",
    "\n",
    "                    # pad input sequence\n",
    "                    in_seq=pad_sequences([in_seq],maxlen=max_length)[0]\n",
    "\n",
    "                    # encode output sequence\n",
    "                    out_seq=to_categorical([out_seq],num_classes=vocab_size)[0]\n",
    "\n",
    "                    # store the input and output sequence\n",
    "                    X1.append(features[key][0])\n",
    "                    X2.append(in_seq)\n",
    "                    y.append(out_seq)\n",
    "            if n==batch_size:\n",
    "                X1,X2,y=np.array(X1),np.array(X2),np.array(y)\n",
    "                yield [X1,X2],y\n",
    "                X1,X2,y=list(),list(),list()\n",
    "                n=0\n",
    "\n",
    "\n",
    "\n"
   ]
  },
  {
   "cell_type": "markdown",
   "metadata": {},
   "source": [
    "## Model Building"
   ]
  },
  {
   "cell_type": "code",
   "execution_count": 20,
   "metadata": {},
   "outputs": [],
   "source": [
    "# encoder\n",
    "# image feature model\n",
    "inputs1=Input(shape=(4096,))\n",
    "fe1=Dropout(0.4)(inputs1)\n",
    "fe2=Dense(256,activation='relu')(fe1)\n",
    "\n",
    "# sequence feature layer\n",
    "inputs2=Input(shape=(max_length,))\n",
    "se1=Embedding(vocab_size,256,mask_zero=True)(inputs2)\n",
    "se2=Dropout(0.4)(se1)\n",
    "se3=LSTM(256)(se2)\n",
    "\n",
    "# decoder\n",
    "decoder1=add([fe2,se3])\n",
    "decoder2=Dense(256,activation='relu')(decoder1)\n",
    "outputs=Dense(vocab_size,activation='softmax')(decoder2)\n",
    "\n",
    "# model definiton\n",
    "model=Model(inputs=[inputs1,inputs2],outputs=outputs)\n",
    "model.compile(loss='categorical_crossentropy',optimizer='adam')\n",
    "\n"
   ]
  },
  {
   "cell_type": "markdown",
   "metadata": {},
   "source": [
    "## Train the model"
   ]
  },
  {
   "cell_type": "code",
   "execution_count": 27,
   "metadata": {},
   "outputs": [
    {
     "name": "stderr",
     "output_type": "stream",
     "text": [
      "  0%|          | 0/10 [00:00<?, ?it/s]\n"
     ]
    },
    {
     "ename": "TypeError",
     "evalue": "`output_signature` must contain objects that are subclass of `tf.TypeSpec` but found <class 'list'> which is not.",
     "output_type": "error",
     "traceback": [
      "\u001b[0;31m---------------------------------------------------------------------------\u001b[0m",
      "\u001b[0;31mTypeError\u001b[0m                                 Traceback (most recent call last)",
      "Cell \u001b[0;32mIn[27], line 8\u001b[0m\n\u001b[1;32m      5\u001b[0m \u001b[38;5;28;01mfor\u001b[39;00m i \u001b[38;5;129;01min\u001b[39;00m tqdm(\u001b[38;5;28mrange\u001b[39m(epochs)):\n\u001b[1;32m      6\u001b[0m     generator\u001b[38;5;241m=\u001b[39mdata_generator(train,mapping,features,tokenizer,max_length,vocab_size,batch_size)\n\u001b[0;32m----> 8\u001b[0m     \u001b[43mmodel\u001b[49m\u001b[38;5;241;43m.\u001b[39;49m\u001b[43mfit\u001b[49m\u001b[43m(\u001b[49m\u001b[43mgenerator\u001b[49m\u001b[43m,\u001b[49m\u001b[43m \u001b[49m\u001b[43mepochs\u001b[49m\u001b[38;5;241;43m=\u001b[39;49m\u001b[38;5;241;43m1\u001b[39;49m\u001b[43m,\u001b[49m\u001b[43m \u001b[49m\u001b[43msteps_per_epoch\u001b[49m\u001b[38;5;241;43m=\u001b[39;49m\u001b[43msteps\u001b[49m\u001b[43m,\u001b[49m\u001b[43m \u001b[49m\u001b[43mverbose\u001b[49m\u001b[38;5;241;43m=\u001b[39;49m\u001b[38;5;241;43m1\u001b[39;49m\u001b[43m)\u001b[49m\n",
      "File \u001b[0;32m~/thesis/med-image-captioning/venv/lib/python3.11/site-packages/keras/src/utils/traceback_utils.py:123\u001b[0m, in \u001b[0;36mfilter_traceback.<locals>.error_handler\u001b[0;34m(*args, **kwargs)\u001b[0m\n\u001b[1;32m    120\u001b[0m     filtered_tb \u001b[38;5;241m=\u001b[39m _process_traceback_frames(e\u001b[38;5;241m.\u001b[39m__traceback__)\n\u001b[1;32m    121\u001b[0m     \u001b[38;5;66;03m# To get the full stack trace, call:\u001b[39;00m\n\u001b[1;32m    122\u001b[0m     \u001b[38;5;66;03m# `keras.config.disable_traceback_filtering()`\u001b[39;00m\n\u001b[0;32m--> 123\u001b[0m     \u001b[38;5;28;01mraise\u001b[39;00m e\u001b[38;5;241m.\u001b[39mwith_traceback(filtered_tb) \u001b[38;5;28;01mfrom\u001b[39;00m \u001b[38;5;28;01mNone\u001b[39;00m\n\u001b[1;32m    124\u001b[0m \u001b[38;5;28;01mfinally\u001b[39;00m:\n\u001b[1;32m    125\u001b[0m     \u001b[38;5;28;01mdel\u001b[39;00m filtered_tb\n",
      "File \u001b[0;32m~/thesis/med-image-captioning/venv/lib/python3.11/site-packages/tensorflow/python/data/ops/from_generator_op.py:124\u001b[0m, in \u001b[0;36m_from_generator\u001b[0;34m(generator, output_types, output_shapes, args, output_signature, name)\u001b[0m\n\u001b[1;32m    122\u001b[0m   \u001b[38;5;28;01mfor\u001b[39;00m spec \u001b[38;5;129;01min\u001b[39;00m nest\u001b[38;5;241m.\u001b[39mflatten(output_signature):\n\u001b[1;32m    123\u001b[0m     \u001b[38;5;28;01mif\u001b[39;00m \u001b[38;5;129;01mnot\u001b[39;00m \u001b[38;5;28misinstance\u001b[39m(spec, type_spec\u001b[38;5;241m.\u001b[39mTypeSpec):\n\u001b[0;32m--> 124\u001b[0m       \u001b[38;5;28;01mraise\u001b[39;00m \u001b[38;5;167;01mTypeError\u001b[39;00m(\u001b[38;5;124mf\u001b[39m\u001b[38;5;124m\"\u001b[39m\u001b[38;5;124m`output_signature` must contain objects that are \u001b[39m\u001b[38;5;124m\"\u001b[39m\n\u001b[1;32m    125\u001b[0m                       \u001b[38;5;124mf\u001b[39m\u001b[38;5;124m\"\u001b[39m\u001b[38;5;124msubclass of `tf.TypeSpec` but found \u001b[39m\u001b[38;5;132;01m{\u001b[39;00m\u001b[38;5;28mtype\u001b[39m(spec)\u001b[38;5;132;01m}\u001b[39;00m\u001b[38;5;124m \u001b[39m\u001b[38;5;124m\"\u001b[39m\n\u001b[1;32m    126\u001b[0m                       \u001b[38;5;124mf\u001b[39m\u001b[38;5;124m\"\u001b[39m\u001b[38;5;124mwhich is not.\u001b[39m\u001b[38;5;124m\"\u001b[39m)\n\u001b[1;32m    127\u001b[0m \u001b[38;5;28;01melse\u001b[39;00m:\n\u001b[1;32m    128\u001b[0m   \u001b[38;5;28;01mif\u001b[39;00m output_types \u001b[38;5;129;01mis\u001b[39;00m \u001b[38;5;28;01mNone\u001b[39;00m:\n",
      "\u001b[0;31mTypeError\u001b[0m: `output_signature` must contain objects that are subclass of `tf.TypeSpec` but found <class 'list'> which is not."
     ]
    }
   ],
   "source": [
    "epochs = 10\n",
    "batch_size = 5\n",
    "steps = len(train)//batch_size\n",
    "\n",
    "for i in tqdm(range(epochs)):\n",
    "    generator=data_generator(train,mapping,features,tokenizer,max_length,vocab_size,batch_size)\n",
    "    \n",
    "    model.fit(generator, epochs=1, steps_per_epoch=steps, verbose=1)\n"
   ]
  },
  {
   "cell_type": "code",
   "execution_count": null,
   "metadata": {},
   "outputs": [],
   "source": [
    "# model.save(r'D:\\med-image-captioning\\model\\model_50.h5')"
   ]
  },
  {
   "cell_type": "markdown",
   "metadata": {},
   "source": [
    "## Generate captions"
   ]
  },
  {
   "cell_type": "code",
   "execution_count": null,
   "metadata": {},
   "outputs": [],
   "source": [
    "def index_to_word(integer,tokenizer):\n",
    "    for word,index in tokenizer.word_index.items():\n",
    "        if index==integer:\n",
    "            return word\n",
    "    return None"
   ]
  },
  {
   "cell_type": "code",
   "execution_count": null,
   "metadata": {},
   "outputs": [],
   "source": [
    "# generate a description for an image\n",
    "def predict_caption(model,image,tokenizer,max_length):\n",
    "    in_text=\"<start>\"\n",
    "\n",
    "    for i in range(max_length):\n",
    "        sequence=tokenizer.texts_to_sequences([in_text])[0]\n",
    "        sequence=pad_sequences([sequence],max_length)\n",
    "\n",
    "        yhat=model.predict([image,sequence],verbose=0)\n",
    "\n",
    "        # convert probability to integer\n",
    "        yhat=np.argmax(yhat)\n",
    "\n",
    "        # convert index to word\n",
    "        word=index_to_word(yhat,tokenizer)\n",
    "\n",
    "        if word is None:\n",
    "            break\n",
    "        ## append as input for generating the next word\n",
    "        in_text+=\" \"+word\n",
    "\n",
    "        # stop if we cannot generate the next word\n",
    "        if word=='<end>':\n",
    "            break\n",
    "    return in_text"
   ]
  },
  {
   "cell_type": "code",
   "execution_count": null,
   "metadata": {},
   "outputs": [],
   "source": [
    "# evaluate the model\n",
    "\n",
    "actual,predicted=list(),list()\n",
    "\n",
    "for key in test:\n",
    "    try:\n",
    "        # get actual caption\n",
    "        captions=mapping[key]\n",
    "\n",
    "        # generate caption\n",
    "        y_pred=predict_caption(model,features[key],tokenizer,max_length)\n",
    "\n",
    "        #split into words\n",
    "        actual_captions=[caption.split() for caption in captions]\n",
    "        y_pred=y_pred.split()\n",
    "        #append to the list\n",
    "        actual.append(actual_captions)\n",
    "        predicted.append(y_pred)\n",
    "    except KeyError:\n",
    "        continue\n",
    "\n",
    "# calculate BLEU score\n",
    "\n",
    "\n"
   ]
  },
  {
   "cell_type": "code",
   "execution_count": null,
   "metadata": {},
   "outputs": [],
   "source": [
    "from nltk.translate.bleu_score import corpus_bleu\n",
    "# calculate BLEU score\n",
    "print(\"BLUE-1: %f\" % corpus_bleu(actual, predicted, weights=(1.0, 0, 0, 0)))\n",
    "print(\"BLUE-2: %f\" % corpus_bleu(actual, predicted, weights=(0.5, 0.5, 0, 0)))"
   ]
  },
  {
   "cell_type": "markdown",
   "metadata": {},
   "source": [
    "## Visualize the results"
   ]
  },
  {
   "cell_type": "code",
   "execution_count": null,
   "metadata": {},
   "outputs": [],
   "source": [
    "from PIL import Image\n",
    "import matplotlib.pyplot as plt"
   ]
  },
  {
   "cell_type": "code",
   "execution_count": null,
   "metadata": {},
   "outputs": [],
   "source": [
    "def generate_caption(image_name):\n",
    "\n",
    "    # image_name=\"780d51420ad492a61d00295adb6919bd492e6bd3_8-Figure3-1.png\"\n",
    "    img_path=r'D:\\med-image-captioning\\images\\\\'+image_name\n",
    "    img_name=image_name.split('.')[0]\n",
    "    image=Image.open(img_path)\n",
    "    captions=mapping[img_name]\n",
    "\n",
    "    print(\"----------------Actual Captions----------------\")\n",
    "    print(captions)\n",
    "    y_pred=predict_caption(model,features[img_name],tokenizer,max_length)\n",
    "    print(\"----------------Predicted Caption----------------\")\n",
    "    print(y_pred)\n",
    "    plt.imshow(image)\n"
   ]
  },
  {
   "cell_type": "code",
   "execution_count": null,
   "metadata": {},
   "outputs": [],
   "source": [
    "generate_caption('0a60e80445d6be21f3da582eeeec7bec83d82e74_4-Figure1-1.png')"
   ]
  }
 ],
 "metadata": {
  "kernelspec": {
   "display_name": "Python 3",
   "language": "python",
   "name": "python3"
  },
  "language_info": {
   "codemirror_mode": {
    "name": "ipython",
    "version": 3
   },
   "file_extension": ".py",
   "mimetype": "text/x-python",
   "name": "python",
   "nbconvert_exporter": "python",
   "pygments_lexer": "ipython3",
   "version": "3.11.2"
  }
 },
 "nbformat": 4,
 "nbformat_minor": 2
}

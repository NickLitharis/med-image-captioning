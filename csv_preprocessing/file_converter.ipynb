{
 "cells": [
  {
   "cell_type": "code",
   "execution_count": 7,
   "metadata": {},
   "outputs": [],
   "source": [
    "import pandas as pd\n",
    "import jsonlines"
   ]
  },
  {
   "cell_type": "code",
   "execution_count": 8,
   "metadata": {},
   "outputs": [],
   "source": [
    "# Path to the JSONL file\n",
    "jsonl_file_path = r'D:\\med-image-captioning\\data\\json\\s2_full_figures_oa_nonroco_combined_medical_top4_public.jsonl'\n",
    "\n",
    "# Lists to store data\n",
    "image_name = []\n",
    "# fig_key = []\n",
    "fig_uri = []\n",
    "s2_caption = []"
   ]
  },
  {
   "cell_type": "code",
   "execution_count": 9,
   "metadata": {},
   "outputs": [],
   "source": [
    "# Reading data from JSONL file\n",
    "with jsonlines.open(jsonl_file_path) as f:\n",
    "    for line in f.iter():\n",
    "        image_name.append(line['pdf_hash'])\n",
    "        # fig_key.append(line['fig_key'])\n",
    "        fig_uri.append(line['fig_uri'])\n",
    "        s2_caption.append(line['s2_caption'])"
   ]
  },
  {
   "cell_type": "code",
   "execution_count": 10,
   "metadata": {},
   "outputs": [],
   "source": [
    "# Creating a DataFrame from the lists and merge image_name fig_key and fig_uri into one column called image_id and drop the original columns\n",
    "df = pd.DataFrame({\n",
    "    'image_id': [f\"{image_name[i]}_{fig_uri[i]}\" for i in range(len(image_name))],\n",
    "    's2_caption': s2_caption\n",
    "})"
   ]
  },
  {
   "cell_type": "code",
   "execution_count": 11,
   "metadata": {},
   "outputs": [],
   "source": [
    "# Saving the dataframe as a CSV file\n",
    "df.to_csv(r'D:\\med-image-captioning\\data\\csv\\dataset.csv', index=False)"
   ]
  }
 ],
 "metadata": {
  "kernelspec": {
   "display_name": "Python 3",
   "language": "python",
   "name": "python3"
  },
  "language_info": {
   "codemirror_mode": {
    "name": "ipython",
    "version": 3
   },
   "file_extension": ".py",
   "mimetype": "text/x-python",
   "name": "python",
   "nbconvert_exporter": "python",
   "pygments_lexer": "ipython3",
   "version": "3.11.7"
  }
 },
 "nbformat": 4,
 "nbformat_minor": 2
}

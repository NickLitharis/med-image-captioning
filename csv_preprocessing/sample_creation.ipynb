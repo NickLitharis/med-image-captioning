{
 "cells": [
  {
   "cell_type": "code",
   "execution_count": 1,
   "metadata": {},
   "outputs": [],
   "source": [
    "import pandas as pd"
   ]
  },
  {
   "cell_type": "code",
   "execution_count": 2,
   "metadata": {},
   "outputs": [
    {
     "name": "stdout",
     "output_type": "stream",
     "text": [
      "<class 'pandas.core.frame.DataFrame'>\n",
      "RangeIndex: 217060 entries, 0 to 217059\n",
      "Data columns (total 2 columns):\n",
      " #   Column      Non-Null Count   Dtype \n",
      "---  ------      --------------   ----- \n",
      " 0   image_id    217060 non-null  object\n",
      " 1   s2_caption  217060 non-null  object\n",
      "dtypes: object(2)\n",
      "memory usage: 3.3+ MB\n",
      "None\n"
     ]
    }
   ],
   "source": [
    "df=pd.read_csv(r'D:\\med-image-captioning\\data\\csv\\database.csv')\n",
    "print(df.info())"
   ]
  },
  {
   "cell_type": "code",
   "execution_count": 4,
   "metadata": {},
   "outputs": [
    {
     "data": {
      "text/plain": [
       "count    217060.000000\n",
       "mean         59.702534\n",
       "std          47.815307\n",
       "min           3.000000\n",
       "25%          26.000000\n",
       "50%          47.000000\n",
       "75%          78.000000\n",
       "max         839.000000\n",
       "Name: s2_caption, dtype: float64"
      ]
     },
     "execution_count": 4,
     "metadata": {},
     "output_type": "execute_result"
    }
   ],
   "source": [
    "#read the second column of the csv file and count the words in each row\n",
    "df['s2_caption'].apply(lambda x: len(x.split())).describe()"
   ]
  },
  {
   "cell_type": "code",
   "execution_count": 6,
   "metadata": {},
   "outputs": [
    {
     "data": {
      "image/png": "[encoded data removed]",
      "text/plain": [
       "<Figure size 1000x500 with 1 Axes>"
      ]
     },
     "metadata": {},
     "output_type": "display_data"
    }
   ],
   "source": [
    "# make a plot to find the word count distribution\n",
    "import matplotlib.pyplot as plt\n",
    "import seaborn as sns\n",
    "sns.set_style('whitegrid')\n",
    "plt.figure(figsize=(10,5))\n",
    "sns.histplot(df['s2_caption'].apply(lambda x: len(x.split())), bins=10)\n",
    "plt.title('Word Count Distribution')\n",
    "plt.show()"
   ]
  },
  {
   "cell_type": "code",
   "execution_count": 7,
   "metadata": {},
   "outputs": [
    {
     "name": "stdout",
     "output_type": "stream",
     "text": [
      "Mean caption length:  59.70253386160508\n"
     ]
    }
   ],
   "source": [
    "# calc the number of words that are in 10% of the mean caption length\n",
    "mean_caption_length = df['s2_caption'].apply(lambda x: len(x.split())).mean()\n",
    "print('Mean caption length: ', mean_caption_length)\n",
    "# print('10% of the mean caption length: ', mean_caption_length*0.1)\n"
   ]
  },
  {
   "cell_type": "code",
   "execution_count": 9,
   "metadata": {},
   "outputs": [
    {
     "name": "stdout",
     "output_type": "stream",
     "text": [
      "s2_caption\n",
      "3        14\n",
      "4       253\n",
      "5       778\n",
      "6      1521\n",
      "7      2664\n",
      "8      4249\n",
      "9      6174\n",
      "10     8297\n",
      "11    10545\n",
      "12    13096\n",
      "Name: count, dtype: int64\n"
     ]
    }
   ],
   "source": [
    "#find the percentage of words that are in 10% of the mean caption length\n",
    "per10=df['s2_caption'].apply(lambda x: len(x.split())).value_counts(normalize=False).sort_index().cumsum().head(10)\n",
    "print(per10)\n",
    "\n",
    "# find the percentage of words that are in 10% of the mean caption length\n",
    "# df['s2_caption'].apply(lambda x: len(x.split())).value_counts(normalize=True).sort_index().cumsum().head(10)"
   ]
  },
  {
   "cell_type": "code",
   "execution_count": 9,
   "metadata": {},
   "outputs": [
    {
     "name": "stdout",
     "output_type": "stream",
     "text": [
      "                                               s2_caption  \\\n",
      "132087  Fig 3. ULD CT false negative example. 47yo mal...   \n",
      "185441  Figure 7. PKGII reverses the apoptosis-reducin...   \n",
      "9365    Figure 2 Erect posteroanterior chest radiograp...   \n",
      "139210  Fig 2. A 48-year-old patient with IDC in the l...   \n",
      "140098  FIG. 1. [125I]-sCT binding assay. A, B, C, and...   \n",
      "\n",
      "                                                image_uri  \n",
      "132087  780d51420ad492a61d00295adb6919bd492e6bd3_8-Fig...  \n",
      "185441  4fd909ba5e5ee6d90fae6967acd2f54cc9f8b4bf_4-Fig...  \n",
      "9365    2b67d96df5488d5c3320f1626ba098c1b10b5a17_1-Fig...  \n",
      "139210  11357dcc40909413166afbddffe7b6b2f2e3309b_8-Fig...  \n",
      "140098  ba5b8e81fb34a0c30922cdcc04f7bef567330e39_2-Fig...  \n"
     ]
    }
   ],
   "source": [
    "# choose 100 random rows and make a new dataframe\n",
    "df = df.sample(n=100)\n",
    "print(df.head())"
   ]
  },
  {
   "cell_type": "code",
   "execution_count": 10,
   "metadata": {},
   "outputs": [],
   "source": [
    "# save the new dataframe to a csv file\n",
    "df.to_csv('C:\\\\Users\\\\Νίκος Λιθαρής\\\\OneDrive - ionio.gr\\\\Desktop\\\\thesis\\\\data\\\\csv\\\\image_uri_and_captions_100.csv', index=False)\n"
   ]
  }
 ],
 "metadata": {
  "kernelspec": {
   "display_name": "Python 3",
   "language": "python",
   "name": "python3"
  },
  "language_info": {
   "codemirror_mode": {
    "name": "ipython",
    "version": 3
   },
   "file_extension": ".py",
   "mimetype": "text/x-python",
   "name": "python",
   "nbconvert_exporter": "python",
   "pygments_lexer": "ipython3",
   "version": "3.11.7"
  }
 },
 "nbformat": 4,
 "nbformat_minor": 2
}

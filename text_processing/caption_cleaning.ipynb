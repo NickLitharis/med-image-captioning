{
 "cells": [
  {
   "cell_type": "markdown",
   "metadata": {},
   "source": [
    "# Caption Cleaning"
   ]
  },
  {
   "cell_type": "code",
   "execution_count": 59,
   "metadata": {},
   "outputs": [],
   "source": [
    "import pandas as pd"
   ]
  },
  {
   "cell_type": "code",
   "execution_count": 60,
   "metadata": {},
   "outputs": [],
   "source": [
    "df=pd.read_csv(r\"D:\\med-image-captioning\\data\\csv\\image_uri_and_captions_100.csv\")"
   ]
  },
  {
   "cell_type": "code",
   "execution_count": 61,
   "metadata": {},
   "outputs": [],
   "source": [
    "# print(df.head())"
   ]
  },
  {
   "cell_type": "markdown",
   "metadata": {},
   "source": [
    "### Converting captions to lowercase to work more easily with the data"
   ]
  },
  {
   "cell_type": "code",
   "execution_count": 62,
   "metadata": {},
   "outputs": [],
   "source": [
    "# Select the 's2_caption' column and convert to lowercase\n",
    "# s2_caption_df = df['s2_caption'].str.lower().to_frame()"
   ]
  },
  {
   "cell_type": "code",
   "execution_count": 63,
   "metadata": {},
   "outputs": [],
   "source": [
    "# print(s2_caption_df.head())"
   ]
  },
  {
   "cell_type": "markdown",
   "metadata": {},
   "source": [
    "### Writing regex to unnecessary characters"
   ]
  },
  {
   "cell_type": "code",
   "execution_count": 64,
   "metadata": {},
   "outputs": [],
   "source": [
    "import re"
   ]
  },
  {
   "cell_type": "code",
   "execution_count": 65,
   "metadata": {},
   "outputs": [],
   "source": [
    "pattern = r'^(fig(?:ure)?\\.?)\\s*'"
   ]
  },
  {
   "cell_type": "code",
   "execution_count": 66,
   "metadata": {},
   "outputs": [],
   "source": [
    "# Remove 'Fig' or 'Figure' from the start of each sentence in the column\n",
    "df['s2_caption'] = df['s2_caption'].apply(lambda x: re.sub(pattern, '', x, flags=re.IGNORECASE))"
   ]
  },
  {
   "cell_type": "code",
   "execution_count": 67,
   "metadata": {},
   "outputs": [],
   "source": [
    "# print(df.head())"
   ]
  },
  {
   "cell_type": "code",
   "execution_count": 68,
   "metadata": {},
   "outputs": [],
   "source": [
    "\n",
    "\n",
    "# Define the regex pattern\n",
    "pattern = r'^[^\\s]*\\s'\n",
    "\n",
    "# Remove every character from the start of each sentence until a letter is found\n",
    "df['s2_caption'] = df['s2_caption'].apply(lambda x: re.sub(pattern, '', x))\n",
    "\n",
    "# Now, 's2_caption' will have the sentences cleaned up from the start until the first letter\n"
   ]
  },
  {
   "cell_type": "code",
   "execution_count": 69,
   "metadata": {},
   "outputs": [],
   "source": [
    "# Define a regex pattern to match any character that is not a letter, a number, or a space\n",
    "pattern = r'[^a-zA-Z0-9\\s]'\n",
    "\n",
    "# Remove special characters and convert to lowercase\n",
    "df['s2_caption'] = df['s2_caption'].apply(lambda x: re.sub(pattern, '', x).lower())"
   ]
  },
  {
   "cell_type": "code",
   "execution_count": 70,
   "metadata": {},
   "outputs": [],
   "source": [
    "pattern = r\"\\b(?:[a-zA-Z]|[Tt]he|[Aa]n)\\b\"\n",
    "df['s2_caption'] = df['s2_caption'].apply(lambda x: re.sub(pattern, '', x))"
   ]
  },
  {
   "cell_type": "code",
   "execution_count": 71,
   "metadata": {},
   "outputs": [],
   "source": [
    "# Define the regex pattern for leading whitespace\n",
    "pattern = r'^\\s+'\n",
    "\n",
    "# Remove leading whitespace from each sentence in the column\n",
    "df['s2_caption'] = df['s2_caption'].apply(lambda x: re.sub(pattern, '', x))"
   ]
  },
  {
   "cell_type": "code",
   "execution_count": 72,
   "metadata": {},
   "outputs": [],
   "source": [
    "# Define the regex pattern for leading whitespace\n",
    "pattern = r'\\s{2,}'\n",
    "\n",
    "# Remove leading whitespace from each sentence in the column\n",
    "df['s2_caption'] = df['s2_caption'].apply(lambda x: re.sub(pattern, '', x))"
   ]
  },
  {
   "cell_type": "code",
   "execution_count": 73,
   "metadata": {},
   "outputs": [
    {
     "name": "stdout",
     "output_type": "stream",
     "text": [
      "0    uld ct false negative example 47yo male with 1...\n",
      "1    pkgii reversesapoptosisreducing effect of egf ...\n",
      "2    erect posteroanterior chest radiograph showing...\n",
      "3    48yearold patient with idc inleft breastearly ...\n",
      "4    125isct binding assayandlight photomicrographs...\n",
      "5    chest radiograph that was carried outat anothe...\n",
      "6    spm results of children with dmd versus adult ...\n",
      "7    skull xray demonstrating absence of upper inci...\n",
      "8    computed tomography showing pleural effusion y...\n",
      "9    computed tomography scan at admissiondetection...\n",
      "Name: s2_caption, dtype: object\n"
     ]
    }
   ],
   "source": [
    "print(df['s2_caption'].head(10))"
   ]
  },
  {
   "cell_type": "code",
   "execution_count": 74,
   "metadata": {},
   "outputs": [],
   "source": [
    "# save to csv\n",
    "df.to_csv(r\"D:\\med-image-captioning\\data\\csv\\image_uri_and_captions_100_cleaned.csv\", index=False)"
   ]
  },
  {
   "cell_type": "code",
   "execution_count": null,
   "metadata": {},
   "outputs": [],
   "source": []
  }
 ],
 "metadata": {
  "kernelspec": {
   "display_name": "Python 3",
   "language": "python",
   "name": "python3"
  },
  "language_info": {
   "codemirror_mode": {
    "name": "ipython",
    "version": 3
   },
   "file_extension": ".py",
   "mimetype": "text/x-python",
   "name": "python",
   "nbconvert_exporter": "python",
   "pygments_lexer": "ipython3",
   "version": "3.12.0"
  }
 },
 "nbformat": 4,
 "nbformat_minor": 2
}

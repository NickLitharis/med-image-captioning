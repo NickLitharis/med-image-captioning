{
 "cells": [
  {
   "cell_type": "code",
   "execution_count": 8,
   "metadata": {},
   "outputs": [],
   "source": [
    "import pandas as pd\n",
    "import nltk\n",
    "from nltk.tokenize import word_tokenize"
   ]
  },
  {
   "cell_type": "code",
   "execution_count": 9,
   "metadata": {},
   "outputs": [],
   "source": [
    "# nltk.download('punkt')"
   ]
  },
  {
   "cell_type": "code",
   "execution_count": 10,
   "metadata": {},
   "outputs": [],
   "source": [
    "df=pd.read_csv(r\"D:\\med-image-captioning\\data\\csv\\image_uri_and_captions_100_cleaned.csv\")"
   ]
  },
  {
   "cell_type": "code",
   "execution_count": 11,
   "metadata": {},
   "outputs": [],
   "source": [
    "def tokenize(text):\n",
    "    return word_tokenize(text)"
   ]
  },
  {
   "cell_type": "code",
   "execution_count": 12,
   "metadata": {},
   "outputs": [],
   "source": [
    "df['tokenized_caption'] = df['s2_caption'].apply(tokenize)"
   ]
  },
  {
   "cell_type": "code",
   "execution_count": 15,
   "metadata": {},
   "outputs": [
    {
     "name": "stdout",
     "output_type": "stream",
     "text": [
      "['pkgii', 'reversesapoptosisreducing', 'effect', 'of', 'egf', 'tunel', 'staining', 'was', 'performed', 'according', 'tomanufacturers', 'instructions', 'ofin', 'situ', 'cell', 'death', 'detection', 'kit', 'cells', 'with', 'dark', 'brown', 'nuclear', 'staining', 'were', 'taken', 'as', 'apoptotic', 'cells', 'and', 'counted', 'as', 'described', 'in', 'materials', 'and', 'methods', 'ac', 'representative', 'images', 'of', 'tunel', 'stainingcells', 'were', 'infected', 'with', 'padlacz', 'onlycells', 'were', 'infected', 'with', 'padlacz', 'and', 'inbuted', 'with', 'egf', '100', 'ng', 'ml', 'for', '5', 'mincells', 'were', 'infected', 'with', 'padpkgii', 'incubated', 'with', '2508pcptcgmp', 'for', '1and', 'then', 'incubated', 'with', '100', 'ngml', 'egf', 'for', '5', 'minnumber', 'of', 'apoptotic', 'cells', 'per', 'x200', 'fieldresults', 'represent', 'meansd', 'p001', 'compared', 'withpadlaczegf', 'groupresults', 'showed', 'that', 'egf', 'treatment', 'obviously', 'decreasedapoptosis', 'of', 'mcf7', 'cells', 'while', 'pretreatment', 'with', '2508pcptcgmp', 'efficiently', 'reversedeffect', 'of', 'egf']\n"
     ]
    }
   ],
   "source": [
    "print(df['tokenized_caption'][0])"
   ]
  },
  {
   "cell_type": "code",
   "execution_count": 14,
   "metadata": {},
   "outputs": [],
   "source": [
    "# save the dataframe\n",
    "df.to_csv(r\"D:\\med-image-captioning\\data\\csv\\image_uri_and_captions_100_cleaned_tokenized.csv\", index=False)"
   ]
  },
  {
   "cell_type": "code",
   "execution_count": null,
   "metadata": {},
   "outputs": [],
   "source": []
  }
 ],
 "metadata": {
  "kernelspec": {
   "display_name": "Python 3",
   "language": "python",
   "name": "python3"
  },
  "language_info": {
   "codemirror_mode": {
    "name": "ipython",
    "version": 3
   },
   "file_extension": ".py",
   "mimetype": "text/x-python",
   "name": "python",
   "nbconvert_exporter": "python",
   "pygments_lexer": "ipython3",
   "version": "3.12.0"
  }
 },
 "nbformat": 4,
 "nbformat_minor": 2
}
